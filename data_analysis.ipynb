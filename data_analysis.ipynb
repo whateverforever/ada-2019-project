{
 "cells": [
  {
   "cell_type": "code",
   "execution_count": 1,
   "metadata": {},
   "outputs": [],
   "source": [
    "import pandas as pd\n",
    "import numpy as np\n",
    "import re\n",
    "import matplotlib.pyplot as plt"
   ]
  },
  {
   "cell_type": "code",
   "execution_count": 2,
   "metadata": {},
   "outputs": [],
   "source": [
    "plt.rcParams[\"figure.figsize\"] = (16, 7)"
   ]
  },
  {
   "cell_type": "markdown",
   "metadata": {},
   "source": [
    "# Overview of the data structure: \n",
    "Our main dataset [Dunnhumby - The complete journey](https://www.dunnhumby.com/careers/engineering/sourcefiles) comprises 8 csv files with the following tabular structure and content.\n",
    "\n",
    "#### Campaign Desc\n",
    "Description | Campaign ID | Start and End Day\n",
    "--- | --- | ---\n",
    "{TypeA, TypeB, TypeC} | int | int (probably day count from study)\n",
    "\n",
    "#### Campaign Table\n",
    "Description | Campaign ID | Household key\n",
    "--- | --- | ---\n",
    "{TypeA, TypeB, TypeC} | int | int\n",
    "\n",
    "#### Causal Data\n",
    "Product ID | Store ID | Week | Display location | Mailer location\n",
    "--- | --- | --- | --- | --- \n",
    "int | int | int | int | String\n",
    " | | | Advertisement in in-store display? | Featured as ad in weekly mailer\n",
    " \n",
    "#### Coupon Redemption\n",
    "Household ID | Day | Coupon ID | Campaign ID \n",
    "--- | --- | --- | --- \n",
    "int | int | int | int \n",
    "\n",
    "#### Coupon\n",
    "Coupon ID | Product ID | Campaign ID \n",
    "--- | --- | ---  \n",
    "int | int | int \n",
    "\n",
    "#### Demographic\n",
    "Age | Marital Status Code | Income | Homeowner | Household composition | Household size | Number of kids | Household Id\n",
    "--- | --- | --- | --- | --- | --- | --- | --- |\n",
    "(19-65+) | {A: Married, B: Single, U: Unknown} | | {Homeowner, Retired, etc.} | {Female/Male single, adults with/without kids, etc.} || (1-3+) |\n",
    "\n",
    "\n",
    "#### Products\n",
    "Product Id | Manufacturer Id | Departement  | Brand | Commodity description | Sub commodity description | Size\n",
    "--- | --- | --- | --- | --- | --- | --- \n",
    " | | {grocery, pastry, etc.} | {national/private} | | |\n",
    " \n",
    "### Transaction\n",
    "Household Id | Manufacturer Id | Week | Day | Time of Day | Product Id | Quantity | Sales value | Store Id | Retail discount | Coupon discount | Coupon match discount\n",
    "--- | --- | --- | --- | --- | --- | --- | --- | --- | --- | --- | --- | \n",
    " | | | | | | | What the shop actually gets | | | Loyalty program of retailer | Shop does not get price before discount | Shop does get price before discount\n"
   ]
  },
  {
   "cell_type": "markdown",
   "metadata": {},
   "source": [
    "# Loading the data"
   ]
  },
  {
   "cell_type": "markdown",
   "metadata": {},
   "source": [
    "Let's start by loading the data in pandas dataframes."
   ]
  },
  {
   "cell_type": "markdown",
   "metadata": {},
   "source": [
    "## Causal data"
   ]
  },
  {
   "cell_type": "code",
   "execution_count": 3,
   "metadata": {},
   "outputs": [],
   "source": [
    "df_causal = pd.read_csv('dunnhumby/causal_data.csv')"
   ]
  },
  {
   "cell_type": "code",
   "execution_count": 4,
   "metadata": {},
   "outputs": [
    {
     "data": {
      "text/html": [
       "<div>\n",
       "<style scoped>\n",
       "    .dataframe tbody tr th:only-of-type {\n",
       "        vertical-align: middle;\n",
       "    }\n",
       "\n",
       "    .dataframe tbody tr th {\n",
       "        vertical-align: top;\n",
       "    }\n",
       "\n",
       "    .dataframe thead th {\n",
       "        text-align: right;\n",
       "    }\n",
       "</style>\n",
       "<table border=\"1\" class=\"dataframe\">\n",
       "  <thead>\n",
       "    <tr style=\"text-align: right;\">\n",
       "      <th></th>\n",
       "      <th>PRODUCT_ID</th>\n",
       "      <th>STORE_ID</th>\n",
       "      <th>WEEK_NO</th>\n",
       "      <th>display</th>\n",
       "      <th>mailer</th>\n",
       "    </tr>\n",
       "  </thead>\n",
       "  <tbody>\n",
       "    <tr>\n",
       "      <td>0</td>\n",
       "      <td>26190</td>\n",
       "      <td>286</td>\n",
       "      <td>70</td>\n",
       "      <td>0</td>\n",
       "      <td>A</td>\n",
       "    </tr>\n",
       "    <tr>\n",
       "      <td>1</td>\n",
       "      <td>26190</td>\n",
       "      <td>288</td>\n",
       "      <td>70</td>\n",
       "      <td>0</td>\n",
       "      <td>A</td>\n",
       "    </tr>\n",
       "    <tr>\n",
       "      <td>2</td>\n",
       "      <td>26190</td>\n",
       "      <td>289</td>\n",
       "      <td>70</td>\n",
       "      <td>0</td>\n",
       "      <td>A</td>\n",
       "    </tr>\n",
       "    <tr>\n",
       "      <td>3</td>\n",
       "      <td>26190</td>\n",
       "      <td>292</td>\n",
       "      <td>70</td>\n",
       "      <td>0</td>\n",
       "      <td>A</td>\n",
       "    </tr>\n",
       "    <tr>\n",
       "      <td>4</td>\n",
       "      <td>26190</td>\n",
       "      <td>293</td>\n",
       "      <td>70</td>\n",
       "      <td>0</td>\n",
       "      <td>A</td>\n",
       "    </tr>\n",
       "  </tbody>\n",
       "</table>\n",
       "</div>"
      ],
      "text/plain": [
       "   PRODUCT_ID  STORE_ID  WEEK_NO display mailer\n",
       "0       26190       286       70       0      A\n",
       "1       26190       288       70       0      A\n",
       "2       26190       289       70       0      A\n",
       "3       26190       292       70       0      A\n",
       "4       26190       293       70       0      A"
      ]
     },
     "execution_count": 4,
     "metadata": {},
     "output_type": "execute_result"
    }
   ],
   "source": [
    "df_causal.head()"
   ]
  },
  {
   "cell_type": "markdown",
   "metadata": {},
   "source": [
    "Let's define two dict for the code meaning of display and mailer."
   ]
  },
  {
   "cell_type": "code",
   "execution_count": 5,
   "metadata": {},
   "outputs": [],
   "source": [
    "display_dict = {0:'Not on Display', 1:'Store Front', 2:'Store Rear', 3:'Front End Cap',\n",
    "                4:'Mid-Aisle End Cap', 5:'Read End Cap' ,6:'Side-Aisle End Cap', 7:'In-Aisle' ,\n",
    "                9:'Secondary Location Display' ,'A':'In-Shelf' }\n",
    "mailer_dict = {0:'Not on ad', 'A':'Interior page feature', 'C':'Interior page line item', \n",
    "              'D':'Front page feature', 'F':'Back page feature', 'H':'Wrap front feature',\n",
    "              'J':'Wrap interior coupon', 'L':'Wrap back feature', 'P':'Interior page coupon',\n",
    "              'X':'Free on interior page', 'Z':'Free on front page, back page or wrap'}"
   ]
  },
  {
   "cell_type": "markdown",
   "metadata": {},
   "source": [
    "## Coupon redemption"
   ]
  },
  {
   "cell_type": "code",
   "execution_count": 6,
   "metadata": {},
   "outputs": [],
   "source": [
    "df_coupon_redempt = pd.read_csv('dunnhumby/coupon_redempt.csv')"
   ]
  },
  {
   "cell_type": "code",
   "execution_count": 7,
   "metadata": {},
   "outputs": [
    {
     "data": {
      "text/html": [
       "<div>\n",
       "<style scoped>\n",
       "    .dataframe tbody tr th:only-of-type {\n",
       "        vertical-align: middle;\n",
       "    }\n",
       "\n",
       "    .dataframe tbody tr th {\n",
       "        vertical-align: top;\n",
       "    }\n",
       "\n",
       "    .dataframe thead th {\n",
       "        text-align: right;\n",
       "    }\n",
       "</style>\n",
       "<table border=\"1\" class=\"dataframe\">\n",
       "  <thead>\n",
       "    <tr style=\"text-align: right;\">\n",
       "      <th></th>\n",
       "      <th>household_key</th>\n",
       "      <th>DAY</th>\n",
       "      <th>COUPON_UPC</th>\n",
       "      <th>CAMPAIGN</th>\n",
       "    </tr>\n",
       "  </thead>\n",
       "  <tbody>\n",
       "    <tr>\n",
       "      <td>0</td>\n",
       "      <td>1</td>\n",
       "      <td>421</td>\n",
       "      <td>10000085364</td>\n",
       "      <td>8</td>\n",
       "    </tr>\n",
       "    <tr>\n",
       "      <td>1</td>\n",
       "      <td>1</td>\n",
       "      <td>421</td>\n",
       "      <td>51700010076</td>\n",
       "      <td>8</td>\n",
       "    </tr>\n",
       "    <tr>\n",
       "      <td>2</td>\n",
       "      <td>1</td>\n",
       "      <td>427</td>\n",
       "      <td>54200000033</td>\n",
       "      <td>8</td>\n",
       "    </tr>\n",
       "    <tr>\n",
       "      <td>3</td>\n",
       "      <td>1</td>\n",
       "      <td>597</td>\n",
       "      <td>10000085476</td>\n",
       "      <td>18</td>\n",
       "    </tr>\n",
       "    <tr>\n",
       "      <td>4</td>\n",
       "      <td>1</td>\n",
       "      <td>597</td>\n",
       "      <td>54200029176</td>\n",
       "      <td>18</td>\n",
       "    </tr>\n",
       "  </tbody>\n",
       "</table>\n",
       "</div>"
      ],
      "text/plain": [
       "   household_key  DAY   COUPON_UPC  CAMPAIGN\n",
       "0              1  421  10000085364         8\n",
       "1              1  421  51700010076         8\n",
       "2              1  427  54200000033         8\n",
       "3              1  597  10000085476        18\n",
       "4              1  597  54200029176        18"
      ]
     },
     "execution_count": 7,
     "metadata": {},
     "output_type": "execute_result"
    }
   ],
   "source": [
    "df_coupon_redempt.head()"
   ]
  },
  {
   "cell_type": "markdown",
   "metadata": {},
   "source": [
    "Let's study how many coupons were redeemed for each campaign."
   ]
  },
  {
   "cell_type": "code",
   "execution_count": 8,
   "metadata": {},
   "outputs": [
    {
     "data": {
      "image/png": "[encoded data removed]",
      "text/plain": [
       "<Figure size 1152x504 with 1 Axes>"
      ]
     },
     "metadata": {
      "needs_background": "light"
     },
     "output_type": "display_data"
    }
   ],
   "source": [
    "df_coupon_redempt.groupby(by = 'CAMPAIGN').count().plot.bar(y = 'COUPON_UPC', logy = True) \n",
    "plt.xlabel('Campaign')\n",
    "plt.ylabel('Number of coupons redeemed')\n",
    "plt.title('Number of coupons redeemed per campaign')\n",
    "plt.show()"
   ]
  },
  {
   "cell_type": "markdown",
   "metadata": {},
   "source": [
    "## Coupon"
   ]
  },
  {
   "cell_type": "code",
   "execution_count": 9,
   "metadata": {},
   "outputs": [],
   "source": [
    "df_coupon = pd.read_csv('dunnhumby/coupon.csv')"
   ]
  },
  {
   "cell_type": "code",
   "execution_count": 10,
   "metadata": {},
   "outputs": [
    {
     "data": {
      "text/html": [
       "<div>\n",
       "<style scoped>\n",
       "    .dataframe tbody tr th:only-of-type {\n",
       "        vertical-align: middle;\n",
       "    }\n",
       "\n",
       "    .dataframe tbody tr th {\n",
       "        vertical-align: top;\n",
       "    }\n",
       "\n",
       "    .dataframe thead th {\n",
       "        text-align: right;\n",
       "    }\n",
       "</style>\n",
       "<table border=\"1\" class=\"dataframe\">\n",
       "  <thead>\n",
       "    <tr style=\"text-align: right;\">\n",
       "      <th></th>\n",
       "      <th>COUPON_UPC</th>\n",
       "      <th>PRODUCT_ID</th>\n",
       "      <th>CAMPAIGN</th>\n",
       "    </tr>\n",
       "  </thead>\n",
       "  <tbody>\n",
       "    <tr>\n",
       "      <td>0</td>\n",
       "      <td>10000089061</td>\n",
       "      <td>27160</td>\n",
       "      <td>4</td>\n",
       "    </tr>\n",
       "    <tr>\n",
       "      <td>1</td>\n",
       "      <td>10000089064</td>\n",
       "      <td>27754</td>\n",
       "      <td>9</td>\n",
       "    </tr>\n",
       "    <tr>\n",
       "      <td>2</td>\n",
       "      <td>10000089073</td>\n",
       "      <td>28897</td>\n",
       "      <td>12</td>\n",
       "    </tr>\n",
       "    <tr>\n",
       "      <td>3</td>\n",
       "      <td>51800009050</td>\n",
       "      <td>28919</td>\n",
       "      <td>28</td>\n",
       "    </tr>\n",
       "    <tr>\n",
       "      <td>4</td>\n",
       "      <td>52100000076</td>\n",
       "      <td>28929</td>\n",
       "      <td>25</td>\n",
       "    </tr>\n",
       "  </tbody>\n",
       "</table>\n",
       "</div>"
      ],
      "text/plain": [
       "    COUPON_UPC  PRODUCT_ID  CAMPAIGN\n",
       "0  10000089061       27160         4\n",
       "1  10000089064       27754         9\n",
       "2  10000089073       28897        12\n",
       "3  51800009050       28919        28\n",
       "4  52100000076       28929        25"
      ]
     },
     "execution_count": 10,
     "metadata": {},
     "output_type": "execute_result"
    }
   ],
   "source": [
    "df_coupon.head()"
   ]
  },
  {
   "cell_type": "markdown",
   "metadata": {},
   "source": [
    "Let's study how many coupons were distributed for each campaign."
   ]
  },
  {
   "cell_type": "code",
   "execution_count": 11,
   "metadata": {},
   "outputs": [
    {
     "data": {
      "image/png": "[encoded data removed]",
      "text/plain": [
       "<Figure size 1152x504 with 1 Axes>"
      ]
     },
     "metadata": {
      "needs_background": "light"
     },
     "output_type": "display_data"
    }
   ],
   "source": [
    "df_coupon.groupby(by = 'CAMPAIGN').count().plot.bar(y = 'COUPON_UPC', logy = True) \n",
    "plt.xlabel('Campaign')\n",
    "plt.ylabel('Number of coupons distributed')\n",
    "plt.title('Number of coupons distributed per campaign')\n",
    "plt.show()"
   ]
  },
  {
   "cell_type": "markdown",
   "metadata": {},
   "source": [
    "We notice there are definetely some campaigns with way more coupons than others. Is this related to the type of campaign?"
   ]
  },
  {
   "cell_type": "markdown",
   "metadata": {},
   "source": [
    "Let's add a column stating if a coupon has been redeemed or not."
   ]
  },
  {
   "cell_type": "code",
   "execution_count": 12,
   "metadata": {},
   "outputs": [
    {
     "data": {
      "text/html": [
       "<div>\n",
       "<style scoped>\n",
       "    .dataframe tbody tr th:only-of-type {\n",
       "        vertical-align: middle;\n",
       "    }\n",
       "\n",
       "    .dataframe tbody tr th {\n",
       "        vertical-align: top;\n",
       "    }\n",
       "\n",
       "    .dataframe thead th {\n",
       "        text-align: right;\n",
       "    }\n",
       "</style>\n",
       "<table border=\"1\" class=\"dataframe\">\n",
       "  <thead>\n",
       "    <tr style=\"text-align: right;\">\n",
       "      <th></th>\n",
       "      <th>COUPON_UPC</th>\n",
       "      <th>PRODUCT_ID</th>\n",
       "      <th>CAMPAIGN</th>\n",
       "      <th>REDEEMED</th>\n",
       "    </tr>\n",
       "  </thead>\n",
       "  <tbody>\n",
       "    <tr>\n",
       "      <td>0</td>\n",
       "      <td>10000089061</td>\n",
       "      <td>27160</td>\n",
       "      <td>4</td>\n",
       "      <td>False</td>\n",
       "    </tr>\n",
       "    <tr>\n",
       "      <td>1</td>\n",
       "      <td>10000089064</td>\n",
       "      <td>27754</td>\n",
       "      <td>9</td>\n",
       "      <td>True</td>\n",
       "    </tr>\n",
       "    <tr>\n",
       "      <td>2</td>\n",
       "      <td>10000089073</td>\n",
       "      <td>28897</td>\n",
       "      <td>12</td>\n",
       "      <td>True</td>\n",
       "    </tr>\n",
       "    <tr>\n",
       "      <td>3</td>\n",
       "      <td>51800009050</td>\n",
       "      <td>28919</td>\n",
       "      <td>28</td>\n",
       "      <td>True</td>\n",
       "    </tr>\n",
       "    <tr>\n",
       "      <td>4</td>\n",
       "      <td>52100000076</td>\n",
       "      <td>28929</td>\n",
       "      <td>25</td>\n",
       "      <td>True</td>\n",
       "    </tr>\n",
       "  </tbody>\n",
       "</table>\n",
       "</div>"
      ],
      "text/plain": [
       "    COUPON_UPC  PRODUCT_ID  CAMPAIGN  REDEEMED\n",
       "0  10000089061       27160         4     False\n",
       "1  10000089064       27754         9      True\n",
       "2  10000089073       28897        12      True\n",
       "3  51800009050       28919        28      True\n",
       "4  52100000076       28929        25      True"
      ]
     },
     "execution_count": 12,
     "metadata": {},
     "output_type": "execute_result"
    }
   ],
   "source": [
    "df_coupon['REDEEMED'] = df_coupon['COUPON_UPC'].isin(df_coupon_redempt['COUPON_UPC'])\n",
    "df_coupon.head()"
   ]
  },
  {
   "cell_type": "markdown",
   "metadata": {},
   "source": [
    "We can now observe the number of coupons that were not redeemed for each campaign."
   ]
  },
  {
   "cell_type": "code",
   "execution_count": 13,
   "metadata": {},
   "outputs": [
    {
     "data": {
      "image/png": "[encoded data removed]",
      "text/plain": [
       "<Figure size 1152x504 with 1 Axes>"
      ]
     },
     "metadata": {
      "needs_background": "light"
     },
     "output_type": "display_data"
    }
   ],
   "source": [
    "df_coupon[~df_coupon['REDEEMED']].groupby(by = 'CAMPAIGN').count().plot.bar(y = 'COUPON_UPC', logy = True) \n",
    "plt.xlabel('Campaign')\n",
    "plt.ylabel('Number of coupons not redeemed')\n",
    "plt.title('Number of coupons not redeemed per campaign')\n",
    "plt.show()"
   ]
  },
  {
   "cell_type": "markdown",
   "metadata": {},
   "source": [
    "## Demographics"
   ]
  },
  {
   "cell_type": "code",
   "execution_count": 14,
   "metadata": {},
   "outputs": [],
   "source": [
    "df_demo = pd.read_csv('dunnhumby/hh_demographic.csv')"
   ]
  },
  {
   "cell_type": "code",
   "execution_count": 15,
   "metadata": {},
   "outputs": [
    {
     "name": "stdout",
     "output_type": "stream",
     "text": [
      "   AGE_DESC MARITAL_STATUS_CODE INCOME_DESC   HOMEOWNER_DESC  \\\n",
      "0       65+                   A      35-49K        Homeowner   \n",
      "1     45-54                   A      50-74K        Homeowner   \n",
      "2     25-34                   U      25-34K          Unknown   \n",
      "3     25-34                   U      75-99K        Homeowner   \n",
      "4     45-54                   B      50-74K        Homeowner   \n",
      "5       65+                   B   Under 15K        Homeowner   \n",
      "6     45-54                   A    100-124K        Homeowner   \n",
      "7     35-44                   B      15-24K          Unknown   \n",
      "8     25-34                   A      75-99K           Renter   \n",
      "9     45-54                   A      75-99K        Homeowner   \n",
      "10    35-44                   U      50-74K          Unknown   \n",
      "11    45-54                   U      25-34K  Probable Renter   \n",
      "12    35-44                   B      35-49K        Homeowner   \n",
      "13    35-44                   A    125-149K        Homeowner   \n",
      "14    45-54                   U   Under 15K        Homeowner   \n",
      "15      65+                   U      50-74K          Unknown   \n",
      "16    35-44                   B      15-24K        Homeowner   \n",
      "17    45-54                   A    150-174K        Homeowner   \n",
      "18    19-24                   U      35-49K        Homeowner   \n",
      "19    35-44                   A      35-49K        Homeowner   \n",
      "\n",
      "        HH_COMP_DESC HOUSEHOLD_SIZE_DESC KID_CATEGORY_DESC  household_key  \n",
      "0   2 Adults No Kids                   2      None/Unknown              1  \n",
      "1   2 Adults No Kids                   2      None/Unknown              7  \n",
      "2      2 Adults Kids                   3                 1              8  \n",
      "3      2 Adults Kids                   4                 2             13  \n",
      "4      Single Female                   1      None/Unknown             16  \n",
      "5   2 Adults No Kids                   2      None/Unknown             17  \n",
      "6   2 Adults No Kids                   2      None/Unknown             18  \n",
      "7      Single Female                   1      None/Unknown             19  \n",
      "8   2 Adults No Kids                   2      None/Unknown             20  \n",
      "9   2 Adults No Kids                   2      None/Unknown             22  \n",
      "10           Unknown                   1      None/Unknown             25  \n",
      "11     Single Female                   1      None/Unknown             27  \n",
      "12  2 Adults No Kids                   2      None/Unknown             31  \n",
      "13  2 Adults No Kids                   2      None/Unknown             39  \n",
      "14  2 Adults No Kids                   2      None/Unknown             40  \n",
      "15       Single Male                   1      None/Unknown             42  \n",
      "16     2 Adults Kids                  5+                3+             43  \n",
      "17     2 Adults Kids                  5+                3+             46  \n",
      "18  2 Adults No Kids                   2      None/Unknown             48  \n",
      "19  2 Adults No Kids                   2      None/Unknown             49  \n"
     ]
    },
    {
     "data": {
      "text/plain": [
       "array(['65+', '45-54', '25-34', '35-44', '19-24', '55-64'], dtype=object)"
      ]
     },
     "execution_count": 15,
     "metadata": {},
     "output_type": "execute_result"
    }
   ],
   "source": [
    "print(df_demo.head(20))\n",
    "df_demo[\"AGE_DESC\"].unique()"
   ]
  },
  {
   "cell_type": "code",
   "execution_count": 16,
   "metadata": {},
   "outputs": [
    {
     "data": {
      "text/html": [
       "<div>\n",
       "<style scoped>\n",
       "    .dataframe tbody tr th:only-of-type {\n",
       "        vertical-align: middle;\n",
       "    }\n",
       "\n",
       "    .dataframe tbody tr th {\n",
       "        vertical-align: top;\n",
       "    }\n",
       "\n",
       "    .dataframe thead th {\n",
       "        text-align: right;\n",
       "    }\n",
       "</style>\n",
       "<table border=\"1\" class=\"dataframe\">\n",
       "  <thead>\n",
       "    <tr style=\"text-align: right;\">\n",
       "      <th></th>\n",
       "      <th>AGE_DESC</th>\n",
       "      <th>MARITAL_STATUS_CODE</th>\n",
       "      <th>INCOME_DESC</th>\n",
       "      <th>HOMEOWNER_DESC</th>\n",
       "      <th>HH_COMP_DESC</th>\n",
       "      <th>HOUSEHOLD_SIZE_DESC</th>\n",
       "      <th>KID_CATEGORY_DESC</th>\n",
       "      <th>household_key</th>\n",
       "    </tr>\n",
       "  </thead>\n",
       "  <tbody>\n",
       "    <tr>\n",
       "      <td>0</td>\n",
       "      <td>65+</td>\n",
       "      <td>A</td>\n",
       "      <td>35-49K</td>\n",
       "      <td>Homeowner</td>\n",
       "      <td>2 Adults No Kids</td>\n",
       "      <td>2</td>\n",
       "      <td>None/Unknown</td>\n",
       "      <td>1</td>\n",
       "    </tr>\n",
       "    <tr>\n",
       "      <td>1</td>\n",
       "      <td>45-54</td>\n",
       "      <td>A</td>\n",
       "      <td>50-74K</td>\n",
       "      <td>Homeowner</td>\n",
       "      <td>2 Adults No Kids</td>\n",
       "      <td>2</td>\n",
       "      <td>None/Unknown</td>\n",
       "      <td>7</td>\n",
       "    </tr>\n",
       "    <tr>\n",
       "      <td>2</td>\n",
       "      <td>25-34</td>\n",
       "      <td>U</td>\n",
       "      <td>25-34K</td>\n",
       "      <td>Unknown</td>\n",
       "      <td>2 Adults Kids</td>\n",
       "      <td>3</td>\n",
       "      <td>1</td>\n",
       "      <td>8</td>\n",
       "    </tr>\n",
       "    <tr>\n",
       "      <td>3</td>\n",
       "      <td>25-34</td>\n",
       "      <td>U</td>\n",
       "      <td>75-99K</td>\n",
       "      <td>Homeowner</td>\n",
       "      <td>2 Adults Kids</td>\n",
       "      <td>4</td>\n",
       "      <td>2</td>\n",
       "      <td>13</td>\n",
       "    </tr>\n",
       "    <tr>\n",
       "      <td>4</td>\n",
       "      <td>45-54</td>\n",
       "      <td>B</td>\n",
       "      <td>50-74K</td>\n",
       "      <td>Homeowner</td>\n",
       "      <td>Single Female</td>\n",
       "      <td>1</td>\n",
       "      <td>None/Unknown</td>\n",
       "      <td>16</td>\n",
       "    </tr>\n",
       "  </tbody>\n",
       "</table>\n",
       "</div>"
      ],
      "text/plain": [
       "  AGE_DESC MARITAL_STATUS_CODE INCOME_DESC HOMEOWNER_DESC      HH_COMP_DESC  \\\n",
       "0      65+                   A      35-49K      Homeowner  2 Adults No Kids   \n",
       "1    45-54                   A      50-74K      Homeowner  2 Adults No Kids   \n",
       "2    25-34                   U      25-34K        Unknown     2 Adults Kids   \n",
       "3    25-34                   U      75-99K      Homeowner     2 Adults Kids   \n",
       "4    45-54                   B      50-74K      Homeowner     Single Female   \n",
       "\n",
       "  HOUSEHOLD_SIZE_DESC KID_CATEGORY_DESC  household_key  \n",
       "0                   2      None/Unknown              1  \n",
       "1                   2      None/Unknown              7  \n",
       "2                   3                 1              8  \n",
       "3                   4                 2             13  \n",
       "4                   1      None/Unknown             16  "
      ]
     },
     "execution_count": 16,
     "metadata": {},
     "output_type": "execute_result"
    }
   ],
   "source": [
    "df_demo.head()"
   ]
  },
  {
   "cell_type": "markdown",
   "metadata": {},
   "source": [
    "## Products"
   ]
  },
  {
   "cell_type": "code",
   "execution_count": 17,
   "metadata": {},
   "outputs": [],
   "source": [
    "df_products = pd.read_csv('dunnhumby/product.csv')"
   ]
  },
  {
   "cell_type": "markdown",
   "metadata": {},
   "source": [
    "Let's explore the product data frame and filter out anything food related. We start by looking at the column *DEPARTMENT*."
   ]
  },
  {
   "cell_type": "code",
   "execution_count": 18,
   "metadata": {},
   "outputs": [],
   "source": [
    "list_dep = np.sort(df_products[\"DEPARTMENT\"].unique())\n",
    "list_commodity = np.sort(df_products[\"COMMODITY_DESC\"].unique())\n",
    "list_sub = np.sort(df_products[\"SUB_COMMODITY_DESC\"].unique())\n",
    "\n",
    "frames = {}\n",
    "for l in list_dep:    \n",
    "    frames[l] = df_products[df_products[\"DEPARTMENT\"].apply(lambda x : x == l)]"
   ]
  },
  {
   "cell_type": "code",
   "execution_count": 19,
   "metadata": {},
   "outputs": [
    {
     "name": "stdout",
     "output_type": "stream",
     "text": [
      "DEPARTMENT\n",
      "GROCERY            39021\n",
      "DRUG GM            31529\n",
      "PRODUCE             3118\n",
      "COSMETICS           3011\n",
      "NUTRITION           2914\n",
      "MEAT                2544\n",
      "MEAT-PCKGD          2427\n",
      "DELI                2354\n",
      "PASTRY              2149\n",
      "FLORAL               938\n",
      "SEAFOOD-PCKGD        563\n",
      "MISC. TRANS.         490\n",
      "SPIRITS              377\n",
      "SEAFOOD              369\n",
      "GARDEN CENTER        128\n",
      "RESTAURANT           102\n",
      "MISC SALES TRAN       88\n",
      "SALAD BAR             48\n",
      "COUP/STR & MFG        39\n",
      "TRAVEL & LEISUR       28\n",
      "FROZEN GROCERY        23\n",
      "KIOSK-GAS             16\n",
      "                      15\n",
      "CHEF SHOPPE           14\n",
      "RX                     9\n",
      "CNTRL/STORE SUP        4\n",
      "POSTAL CENTER          3\n",
      "DAIRY DELI             3\n",
      "TOYS                   3\n",
      "VIDEO RENTAL           3\n",
      "GM MERCH EXP           3\n",
      "PHOTO                  2\n",
      "DELI/SNACK BAR         2\n",
      "PROD-WHS SALES         2\n",
      "GRO BAKERY             2\n",
      "CHARITABLE CONT        2\n",
      "AUTOMOTIVE             2\n",
      "VIDEO                  2\n",
      "PORK                   1\n",
      "ELECT &PLUMBING        1\n",
      "HOUSEWARES             1\n",
      "PHARMACY SUPPLY        1\n",
      "MEAT-WHSE              1\n",
      "HBC                    1\n",
      "Name: PRODUCT_ID, dtype: int64\n"
     ]
    }
   ],
   "source": [
    "print(df_products.groupby(\"DEPARTMENT\").count()[\"PRODUCT_ID\"].sort_values(ascending=False))"
   ]
  },
  {
   "cell_type": "markdown",
   "metadata": {},
   "source": [
    "Let's observe the biggest categories and see whats in it."
   ]
  },
  {
   "cell_type": "code",
   "execution_count": 20,
   "metadata": {},
   "outputs": [
    {
     "data": {
      "text/plain": [
       "array(['FRZN ICE', 'FRUIT - SHELF STABLE', 'COOKIES/CONES',\n",
       "       'SPICES & EXTRACTS', 'PNT BTR/JELLY/JAMS',\n",
       "       'ICE CREAM/MILK/SHERBTS', 'AIR CARE', 'CHEESE', 'SHORTENING/OIL',\n",
       "       'COFFEE', 'PAPER HOUSEWARES', 'BAKED BREAD/BUNS/ROLLS',\n",
       "       'VEGETABLES - SHELF STABLE', 'HISPANIC', 'DINNER MXS:DRY',\n",
       "       'CONDIMENTS/SAUCES', 'FRZN VEGETABLE/VEG DSH', 'BAKING NEEDS',\n",
       "       'FRZN FRUITS', 'HOUSEHOLD CLEANG NEEDS', 'FD WRAPS/BAGS/TRSH BG',\n",
       "       'DRY MIX DESSERTS', 'PICKLE/RELISH/PKLD VEG', 'BAKING MIXES',\n",
       "       'FLUID MILK PRODUCTS', 'SOUP', 'BAKED SWEET GOODS',\n",
       "       'DRY BN/VEG/POTATO/RICE', 'FACIAL TISS/DNR NAPKIN', 'FROZEN PIZZA',\n",
       "       'EGGS', 'REFRGRATD DOUGH PRODUCTS', 'HOT CEREAL', 'COLD CEREAL',\n",
       "       'SUGARS/SWEETNERS', 'SEAFOOD - SHELF STABLE', 'CANNED JUICES',\n",
       "       'BAG SNACKS', 'BEANS - CANNED GLASS & MW', 'CRACKERS/MISC BKD FD',\n",
       "       'CONVENIENT BRKFST/WHLSM SNACKS', 'SOFT DRINKS', 'BUTTER',\n",
       "       'FRZN MEAT/MEAT DINNERS', 'WATER - CARBONATED/FLVRD DRINK',\n",
       "       'FRZN BREAKFAST FOODS', 'MILK BY-PRODUCTS', 'LAUNDRY DETERGENTS',\n",
       "       'ISOTONIC DRINKS', 'FRZN JCE CONC/DRNKS', 'LAUNDRY ADDITIVES',\n",
       "       'TEAS', 'DRY NOODLES/PASTA', 'PASTA SAUCE', 'CAT FOOD',\n",
       "       'MOLASSES/SYRUP/PANCAKE MIXS', 'BATH TISSUES',\n",
       "       'FROZEN PIE/DESSERTS', 'MEAT - SHELF STABLE',\n",
       "       'SALD DRSNG/SNDWCH SPRD', 'LIQUOR', 'FROZEN BREAD/DOUGH',\n",
       "       'SNACK NUTS', 'BEERS/ALES', 'REFRGRATD JUICES/DRNKS', 'YOGURT',\n",
       "       'DOG FOODS', 'FRZN NOVELTIES/WTR ICE', 'WAREHOUSE SNACKS',\n",
       "       'DRY SAUCES/GRAVY', 'MARGARINES', 'PWDR/CRYSTL DRNK MX', 'OLIVES',\n",
       "       'MISC. DAIRY', 'COCOA MIXES', 'FLOUR & MEALS', 'SYRUPS/TOPPINGS',\n",
       "       'BLEACH', 'PAPER TOWELS', 'FRZN POTATOES', 'DISHWASH DETERGENTS',\n",
       "       'CANNED MILK', 'CAT LITTER', 'FROZEN CHICKEN', 'DOMESTIC WINE',\n",
       "       'MISC WINE', 'PET CARE SUPPLIES', 'COUPON/MISC ITEMS',\n",
       "       'IMPORTED WINE', 'RESTRICTED DIET', 'BIRD SEED', 'FRZN SEAFOOD',\n",
       "       'NEW AGE', 'BOTTLE DEPOSITS'], dtype=object)"
      ]
     },
     "execution_count": 20,
     "metadata": {},
     "output_type": "execute_result"
    }
   ],
   "source": [
    "frames[\"GROCERY\"][\"COMMODITY_DESC\"].unique()"
   ]
  },
  {
   "cell_type": "markdown",
   "metadata": {},
   "source": [
    "As expected the category **Grocery** is all over the place and contains basically anything what can be bought in a grocery store. The category is not really helpful and we have to check the sub categories.\n",
    "\n",
    "Lets check **Drug Gm** next and see, if there is anythin food-related in it."
   ]
  },
  {
   "cell_type": "code",
   "execution_count": 21,
   "metadata": {},
   "outputs": [
    {
     "data": {
      "text/plain": [
       "array(['VITAMINS', 'MAGAZINE', 'DIETARY AID PRODUCTS',\n",
       "       'STATIONERY & SCHOOL SUPPLIES', 'COLD AND FLU', 'BABY HBC',\n",
       "       'SOAP - LIQUID & BAR', 'KITCHEN GADGETS', 'CANDY - PACKAGED',\n",
       "       'HAIR CARE PRODUCTS', 'CANDY - CHECKLANE', 'SHAVING CARE PRODUCTS',\n",
       "       'FIRST AID PRODUCTS', 'NEWSPAPER', 'INSECTICIDES',\n",
       "       'ELECTRICAL SUPPPLIES', 'IRONING AND CHEMICALS', 'ANALGESICS',\n",
       "       'HOSIERY/SOCKS', 'BATTERIES', 'BOOKSTORE',\n",
       "       'SPRING/SUMMER SEASONAL', 'CHARCOAL AND LIGHTER FLUID',\n",
       "       'HAND/BODY/FACIAL PRODUCTS', 'ORAL HYGIENE PRODUCTS',\n",
       "       'INFANT FORMULA', 'DEODORANTS', 'FEMININE HYGIENE',\n",
       "       'COFFEE FILTERS', 'BROOMS AND MOPS',\n",
       "       'GREETING CARDS/WRAP/PARTY SPLY', 'HARDWARE SUPPLIES', 'ANTACIDS',\n",
       "       'CIGARETTES', 'BABY FOODS', 'SINUS AND ALLERGY',\n",
       "       'INFANT CARE PRODUCTS', 'TOBACCO OTHER',\n",
       "       'FILM AND CAMERA PRODUCTS', 'PLASTIC HOUSEWARES',\n",
       "       'FOOT CARE PRODUCTS', 'SHOE CARE', 'FIREWORKS', 'SUNTAN',\n",
       "       'CANDLES/ACCESSORIES', 'COOKWARE & BAKEWARE',\n",
       "       'DISPOSIBLE FOILWARE', 'AUDIO/VIDEO PRODUCTS',\n",
       "       'EYE AND EAR CARE PRODUCTS', 'AUTOMOTIVE PRODUCTS', 'LAXATIVES',\n",
       "       'OVERNIGHT PHOTOFINISHING', 'PERSONAL CARE APPLIANCES',\n",
       "       'HAIR CARE ACCESSORIES', 'DIAPERS & DISPOSABLES',\n",
       "       'SMOKING CESSATIONS', 'COUPON/MISC ITEMS', 'J-HOOKS',\n",
       "       'FAMILY PLANNING', 'EASTER', 'CIGARS', 'APPAREL',\n",
       "       'PREPAID WIRELESS&ACCESSORIES', 'HOME FREEZING & CANNING SUPPLY',\n",
       "       'IN-STORE PHOTOFINISHING', 'ADULT INCONTINENCE', 'DOMESTIC GOODS',\n",
       "       'FALL AND WINTER SEASONAL', 'TOYS AND GAMES',\n",
       "       'LAWN AND GARDEN SHOP', 'GLASSWARE & DINNERWARE', 'HALLOWEEN',\n",
       "       'SEWING', 'NATURAL HBC', 'ETHNIC PERSONAL CARE',\n",
       "       'GLASSES/VISION AIDS', 'CHRISTMAS  SEASONAL', 'CONTINUITIES',\n",
       "       'PORTABLE ELECTRIC APPLIANCES', 'VALENTINE', 'PROPANE',\n",
       "       'HOME FURNISHINGS', 'WATCHES/CALCULATORS/LOBBY',\n",
       "       'HOME HEALTH CARE', 'TICKETS', 'MISCELLANEOUS HBC',\n",
       "       'DOLLAR VALUE PRODUCTS', 'FRAGRANCES', 'SPORTS MEMORABLILIA',\n",
       "       'LONG DISTANCE CALLING CARDS', 'FD WRAPS/BAGS/TRSH BG'],\n",
       "      dtype=object)"
      ]
     },
     "execution_count": 21,
     "metadata": {},
     "output_type": "execute_result"
    }
   ],
   "source": [
    "frames[\"DRUG GM\"][\"COMMODITY_DESC\"].unique()"
   ]
  },
  {
   "cell_type": "markdown",
   "metadata": {},
   "source": [
    "* 'DIETARY AID PRODUCTS' (candy bar, novelty candy, candy bags-chocolate)\n",
    "* 'CANDY - PACKAGED'\n",
    "* 'CANDY - CHECKLANE'\n",
    "* 'INFANT FORMULA'\n",
    "* 'BABY FOODS' \n",
    "* 'DOMESTIC GOODS'\n",
    "* 'NATURAL HBC' (novelty candy)\n",
    "\n",
    "After looking at the commodities individually , these do have some food related stuff in them.\n",
    "\n",
    "In the end the following *DEPARTMENT* values are food related. There still some a lot of non food items. We have to filter them out."
   ]
  },
  {
   "cell_type": "code",
   "execution_count": 22,
   "metadata": {},
   "outputs": [
    {
     "name": "stdout",
     "output_type": "stream",
     "text": [
      "['GROCERY', 'DRUG GM', 'PRODUCE', 'NUTRITION', 'MEAT', 'MEAT-PCKGD', 'DELI', 'PASTRY', 'SEAFOOD-PCKGD', 'SEAFOOD', 'RESTAURANT', 'MISC SALES TRAN', 'SALAD BAR', 'TRAVEL & LEISUR', 'FROZEN GROCERY', 'CHEF SHOPPE', 'DAIRY DELI', 'GM MERCH EXP', 'DELI/SNACK BAR', 'GRO BAKERY', 'PORK', 'MEAT-WHSE']\n"
     ]
    }
   ],
   "source": [
    "list_dep_food = [\"GROCERY\", \"DRUG GM\", \"PRODUCE\", \"NUTRITION\", \"MEAT\",\"MEAT-PCKGD\",\"DELI\",\"PASTRY\", \"SEAFOOD-PCKGD\", \"SEAFOOD\", \n",
    "                 \"RESTAURANT\", \"MISC SALES TRAN\", \"SALAD BAR\", \"TRAVEL & LEISUR\", \"FROZEN GROCERY\", \"CHEF SHOPPE\", \"DAIRY DELI\", \n",
    "                 \"GM MERCH EXP\", \"DELI/SNACK BAR\", \"GRO BAKERY\", \"PORK\", \"MEAT-WHSE\"]\n",
    "non_food = [\"COSMETICS\", \"FLORAL\", \"CHARITABLE CONT\", \"MISC. TRANS.\", \"SPIRITS\", \"GARDEN CENTER\", \n",
    "            \"COUP/STR & MFG\", \"KIOSK-GAS\", \"RX\", \"CNTRL/STORE SUP\", \"POSTAL CENTER\", \"TOYS\", \n",
    "            \"VIDEO RENTAL\", \"PHOTO\", \"PROD-WHS SALES\", \"CHARITABLE CONT\", \"AUTOMOTIVE\", \"VIDEO\", \n",
    "            \"ELECT &PLUMBING\",\"HOUSEWARES\", \"PHARMACY SUPPLY\", \"HBC\", \" \"]\n",
    "print(list_dep_food)"
   ]
  },
  {
   "cell_type": "code",
   "execution_count": 23,
   "metadata": {},
   "outputs": [
    {
     "data": {
      "text/plain": [
       "array(['(CORP USE ONLY)', 'ADULT INCONTINENCE', 'AIR CARE', 'ANALGESICS',\n",
       "       'ANTACIDS', 'APPAREL', 'APPLES', 'AUDIO/VIDEO PRODUCTS',\n",
       "       'AUTOMOTIVE PRODUCTS', 'BABY FOODS', 'BABY HBC', 'BABYFOOD',\n",
       "       'BACON', 'BAG SNACKS', 'BAKED BREAD/BUNS/ROLLS',\n",
       "       'BAKED SWEET GOODS', 'BAKERY PARTY TRAYS', 'BAKING',\n",
       "       'BAKING MIXES', 'BAKING NEEDS', 'BATH TISSUES', 'BATTERIES',\n",
       "       'BEANS - CANNED GLASS & MW', 'BEEF', 'BEERS/ALES', 'BERRIES',\n",
       "       'BEVERAGE', 'BIRD SEED', 'BLEACH', 'BOOKSTORE', 'BOTTLE DEPOSITS',\n",
       "       'BREAD', 'BREAKFAST SAUSAGE/SANDWICHES', 'BREAKFAST SWEETS',\n",
       "       'BROCCOLI/CAULIFLOWER', 'BROOMS AND MOPS', 'BULK FOODS', 'BUTTER',\n",
       "       'CAKES', 'CANDLES/ACCESSORIES', 'CANDY - CHECKLANE',\n",
       "       'CANDY - PACKAGED', 'CANNED JUICES', 'CANNED MILK', 'CARROTS',\n",
       "       'CAT FOOD', 'CAT LITTER', 'CEREAL/BREAKFAST',\n",
       "       'CHARCOAL AND LIGHTER FLUID', 'CHEESE', 'CHEESES', 'CHICKEN',\n",
       "       'CHICKEN/POULTRY', 'CHIPS&SNACKS', 'CHRISTMAS  SEASONAL',\n",
       "       'CIGARETTES', 'CIGARS', 'CITRUS', 'COCOA MIXES', 'COFFEE',\n",
       "       'COFFEE FILTERS', 'COFFEE SHOP', 'COFFEE SHOP SWEET GOODS&RETAIL',\n",
       "       'COLD AND FLU', 'COLD CEREAL', 'CONDIMENTS', 'CONDIMENTS/SAUCES',\n",
       "       'CONTINUITIES', 'CONVENIENT BRKFST/WHLSM SNACKS', 'COOKIES',\n",
       "       'COOKIES/CONES', 'COOKWARE & BAKEWARE', 'CORN', 'COUPON',\n",
       "       'COUPON/MISC ITEMS', 'CRACKERS/MISC BKD FD', 'DELI MEATS',\n",
       "       'DELI SPECIALTIES (RETAIL PK)', 'DELI SUPPLIES', 'DEODORANTS',\n",
       "       'DIAPERS & DISPOSABLES', 'DIETARY AID PRODUCTS', 'DINNER MXS:DRY',\n",
       "       'DINNER SAUSAGE', 'DISHWASH DETERGENTS', 'DISPOSIBLE FOILWARE',\n",
       "       'DOG FOODS', 'DOLLAR VALUE PRODUCTS', 'DOMESTIC GOODS',\n",
       "       'DOMESTIC WINE', 'DRIED FRUIT', 'DRY BN/VEG/POTATO/RICE',\n",
       "       'DRY MIX DESSERTS', 'DRY NOODLES/PASTA', 'DRY SAUCES/GRAVY',\n",
       "       'DRY TEA/COFFEE/COCO MIX', 'EASTER', 'EGGS',\n",
       "       'ELECTRICAL SUPPPLIES', 'ETHNIC PERSONAL CARE', 'EXOTIC GAME/FOWL',\n",
       "       'EYE AND EAR CARE PRODUCTS', 'FACIAL TISS/DNR NAPKIN',\n",
       "       'FALL AND WINTER SEASONAL', 'FAMILY PLANNING',\n",
       "       'FD WRAPS/BAGS/TRSH BG', 'FEMININE HYGIENE',\n",
       "       'FILM AND CAMERA PRODUCTS', 'FIREWORKS', 'FIRST AID PRODUCTS',\n",
       "       'FITNESS&DIET', 'FLOUR & MEALS', 'FLUID MILK PRODUCTS',\n",
       "       'FOOT CARE PRODUCTS', 'FRAGRANCES', 'FROZEN',\n",
       "       'FROZEN - BOXED(GROCERY)', 'FROZEN BREAD/DOUGH', 'FROZEN CHICKEN',\n",
       "       'FROZEN MEAT', 'FROZEN PACKAGE MEAT', 'FROZEN PIE/DESSERTS',\n",
       "       'FROZEN PIZZA', 'FRUIT - SHELF STABLE', 'FRZN BREAKFAST FOODS',\n",
       "       'FRZN FRUITS', 'FRZN ICE', 'FRZN JCE CONC/DRNKS',\n",
       "       'FRZN MEAT/MEAT DINNERS', 'FRZN NOVELTIES/WTR ICE',\n",
       "       'FRZN POTATOES', 'FRZN SEAFOOD', 'FRZN VEGETABLE/VEG DSH',\n",
       "       'GLASSES/VISION AIDS', 'GLASSWARE & DINNERWARE', 'GRAPES',\n",
       "       'GREETING CARDS/WRAP/PARTY SPLY', 'HAIR CARE ACCESSORIES',\n",
       "       'HAIR CARE PRODUCTS', 'HALLOWEEN', 'HAND/BODY/FACIAL PRODUCTS',\n",
       "       'HARDWARE SUPPLIES', 'HEAT/SERVE', 'HERBS', 'HISPANIC',\n",
       "       'HOME FREEZING & CANNING SUPPLY', 'HOME FURNISHINGS',\n",
       "       'HOME HEALTH CARE', 'HOSIERY/SOCKS', 'HOT CEREAL', 'HOT DOGS',\n",
       "       'HOUSEHOLD CLEANG NEEDS', 'ICE CREAM/MILK/SHERBTS',\n",
       "       'IMPORTED WINE', 'IN-STORE PHOTOFINISHING', 'INFANT CARE PRODUCTS',\n",
       "       'INFANT FORMULA', 'INSECTICIDES', 'IRONING AND CHEMICALS',\n",
       "       'ISOTONIC DRINKS', 'J-HOOKS', 'JUICE', 'KITCHEN GADGETS', 'LAMB',\n",
       "       'LAUNDRY ADDITIVES', 'LAUNDRY DETERGENTS', 'LAWN AND GARDEN SHOP',\n",
       "       'LAXATIVES', 'LIQUOR', 'LONG DISTANCE CALLING CARDS', 'LUNCHMEAT',\n",
       "       'MAGAZINE', 'MARGARINES', 'MEAT - MISC', 'MEAT - SHELF STABLE',\n",
       "       'MEAT SUPPLIES', 'MELONS', 'MILK BY-PRODUCTS', 'MISC WINE',\n",
       "       'MISC. DAIRY', 'MISCELLANEOUS', 'MISCELLANEOUS CROUTONS',\n",
       "       'MISCELLANEOUS HBC', 'MISCELLANEOUS(CORP USE ONLY)',\n",
       "       'MOLASSES/SYRUP/PANCAKE MIXS', 'MUSHROOMS', 'NATURAL HBC',\n",
       "       'NATURAL VITAMINS', 'NDAIRY/TEAS/JUICE/SOD', 'NEW AGE',\n",
       "       'NEWSPAPER', 'NON EDIBLE PRODUCTS', 'NON-DAIRY BEVERAGES', 'NUTS',\n",
       "       'OLIVES', 'ONIONS', 'ORAL HYGIENE PRODUCTS',\n",
       "       'ORGANICS FRUIT & VEGETABLES', 'OVERNIGHT PHOTOFINISHING',\n",
       "       'PACKAGED NATURAL SNACKS', 'PAPER HOUSEWARES', 'PAPER TOWELS',\n",
       "       'PARTY TRAYS', 'PASTA SAUCE', 'PEARS', 'PEPPERS-ALL',\n",
       "       'PERSONAL CARE APPLIANCES', 'PET CARE SUPPLIES',\n",
       "       'PICKLE/RELISH/PKLD VEG', 'PIES', 'PKG.SEAFOOD MISC',\n",
       "       'PLASTIC HOUSEWARES', 'PNT BTR/JELLY/JAMS', 'POPCORN', 'PORK',\n",
       "       'PORTABLE ELECTRIC APPLIANCES', 'POTATOES',\n",
       "       'PREPAID WIRELESS&ACCESSORIES', 'PREPARED FOOD',\n",
       "       'PREPARED/PKGD FOODS', 'PROCESSED', 'PROD SUPPLIES', 'PROPANE',\n",
       "       'PWDR/CRYSTL DRNK MX', 'QUICK SERVICE', 'REFRGRATD DOUGH PRODUCTS',\n",
       "       'REFRGRATD JUICES/DRNKS', 'REFRIGERATED', 'RESTRICTED DIET',\n",
       "       'RICE CAKES', 'ROLLS', 'RW FRESH PROCESSED MEAT', 'SALAD BAR',\n",
       "       'SALAD MIX', 'SALADS/DIPS', 'SALD DRSNG/SNDWCH SPRD', 'SANDWICHES',\n",
       "       'SEAFOOD - FROZEN', 'SEAFOOD - MISC', 'SEAFOOD - SHELF STABLE',\n",
       "       'SEAFOOD-FRESH', 'SEASONAL', 'SERVICE BEVERAGE', 'SEWING',\n",
       "       'SHAVING CARE PRODUCTS', 'SHOE CARE', 'SHORTENING/OIL',\n",
       "       'SINUS AND ALLERGY', 'SMOKED MEATS', 'SMOKING CESSATIONS',\n",
       "       'SNACK NUTS', 'SNACKS', 'SNKS/CKYS/CRKR/CNDY',\n",
       "       'SOAP - LIQUID & BAR', 'SOFT DRINKS', 'SOUP', 'SPICES & EXTRACTS',\n",
       "       'SPORTS MEMORABLILIA', 'SPRING/SUMMER SEASONAL', 'SQUASH',\n",
       "       'STATIONERY & SCHOOL SUPPLIES', 'STONE FRUIT', 'SUGARS/SWEETNERS',\n",
       "       'SUNTAN', 'SUSHI', 'SWEET GOODS & SNACKS', 'SYRUPS/TOPPINGS',\n",
       "       'TEAS', 'TICKETS', 'TOBACCO OTHER', 'TOMATOES', 'TOYS AND GAMES',\n",
       "       'TROPICAL FRUIT', 'TURKEY', 'UNKNOWN', 'VALENTINE',\n",
       "       'VALUE ADDED FRUIT', 'VALUE ADDED VEGETABLES', 'VEAL',\n",
       "       'VEGETABLES - ALL OTHERS', 'VEGETABLES - SHELF STABLE',\n",
       "       'VEGETABLES SALAD', 'VITAMINS', 'WAREHOUSE SNACKS',\n",
       "       'WATCHES/CALCULATORS/LOBBY', 'WATER',\n",
       "       'WATER - CARBONATED/FLVRD DRINK', 'YOGURT'], dtype=object)"
      ]
     },
     "execution_count": 23,
     "metadata": {},
     "output_type": "execute_result"
    }
   ],
   "source": [
    "df_food_dep = df_products[df_products[\"DEPARTMENT\"].apply(lambda x : x in list_dep_food)]\n",
    "df_meat_dep = df_food_dep[df_food_dep[\"COMMODITY_DESC\"].str.contains(\"MEAT\")]\n",
    "df_fish_dep = df_food_dep[df_food_dep[\"COMMODITY_DESC\"].str.contains(\"FISH\")]\n",
    "np.sort(df_food_dep[\"COMMODITY_DESC\"].unique())"
   ]
  },
  {
   "cell_type": "code",
   "execution_count": 24,
   "metadata": {},
   "outputs": [
    {
     "name": "stdout",
     "output_type": "stream",
     "text": [
      "['APPLES', 'BABY FOODS', 'BABYFOOD', 'BAG SNACKS', 'BAKED BREAD/BUNS/ROLLS', 'BAKED SWEET GOODS', 'BAKERY PARTY TRAYS', 'BAKING', 'BAKING MIXES', 'BAKING NEEDS', 'BEANS - CANNED GLASS & MW', 'BEEF', 'BEERS/ALES', 'BERRIES', 'BEVERAGE', 'BREAD', 'BREAKFAST SAUSAGE/SANDWICHES', 'BREAKFAST SWEETS', 'BROCCOLI/CAULIFLOWER', 'BULK FOODS', 'BUTTER', 'CAKES', 'CANDY - CHECKLANE', 'CANDY - PACKAGED', 'CANNED JUICES', 'CANNED MILK', 'CARROTS', 'CEREAL/BREAKFAST', 'CHEESE', 'CHEESES', 'CHICKEN', 'CHICKEN/POULTRY', 'CHIPS&SNACKS', 'CHRISTMAS  SEASONAL', 'CITRUS', 'COCOA MIXES', 'COFFEE', 'COFFEE SHOP', 'COFFEE SHOP SWEET GOODS&RETAIL', 'COLD CEREAL', 'CONDIMENTS', 'CONDIMENTS/SAUCES', 'CONVENIENT BRKFST/WHLSM SNACKS', 'COOKIES', 'COOKIES/CONES', 'CORN', 'CRACKERS/MISC BKD FD', 'DELI MEATS', 'DELI SPECIALTIES (RETAIL PK)', 'DELI SUPPLIES', 'DINNER MXS:DRY', 'DINNER SAUSAGE', 'DOMESTIC GOODS', 'DOMESTIC WINE', 'DRIED FRUIT', 'DRY BN/VEG/POTATO/RICE', 'DRY MIX DESSERTS', 'DRY NOODLES/PASTA', 'DRY SAUCES/GRAVY', 'DRY TEA/COFFEE/COCO MIX', 'EASTER', 'EGGS', 'EXOTIC GAME/FOWL', 'FALL AND WINTER SEASONAL', 'FITNESS&DIET', 'FLOUR & MEALS', 'FLUID MILK PRODUCTS', 'FROZEN', 'FROZEN - BOXED(GROCERY)', 'FROZEN BREAD/DOUGH', 'FROZEN CHICKEN', 'FROZEN MEAT', 'FROZEN PACKAGE MEAT', 'FROZEN PIE/DESSERTS', 'FROZEN PIZZA', 'FRUIT - SHELF STABLE', 'FRZN BREAKFAST FOODS', 'FRZN FRUITS', 'FRZN ICE', 'FRZN JCE CONC/DRNKS', 'FRZN MEAT/MEAT DINNERS', 'FRZN NOVELTIES/WTR ICE', 'FRZN POTATOES', 'FRZN SEAFOOD', 'FRZN VEGETABLE/VEG DSH', 'GRAPES', 'HEAT/SERVE', 'HERBS', 'HISPANIC', 'HOME FREEZING & CANNING SUPPLY', 'HOT CEREAL', 'HOT DOGS', 'ICE CREAM/MILK/SHERBTS', 'IMPORTED WINE', 'INFANT FORMULA', 'ISOTONIC DRINKS', 'JUICE', 'LAMB', 'LIQUOR', 'LUNCHMEAT', 'MARGARINES', 'MEAT - MISC', 'MEAT - SHELF STABLE', 'MEAT SUPPLIES', 'MELONS', 'MILK BY-PRODUCTS', 'MISC WINE', 'MISC. DAIRY', 'MISCELLANEOUS', 'MISCELLANEOUS CROUTONS', 'MOLASSES/SYRUP/PANCAKE MIXS', 'MUSHROOMS', 'NATURAL HBC', 'NATURAL VITAMINS', 'NDAIRY/TEAS/JUICE/SOD', 'NEW AGE', 'NON-DAIRY BEVERAGES', 'NUTS', 'OLIVES', 'ONIONS', 'ORGANICS FRUIT & VEGETABLES', 'PACKAGED NATURAL SNACKS', 'PARTY TRAYS', 'PASTA SAUCE', 'PEARS', 'PEPPERS-ALL', 'PICKLE/RELISH/PKLD VEG', 'PIES', 'PKG.SEAFOOD MISC', 'PNT BTR/JELLY/JAMS', 'POPCORN', 'PORK', 'POTATOES', 'PREPARED FOOD', 'PREPARED/PKGD FOODS', 'PROCESSED', 'PROD SUPPLIES', 'PWDR/CRYSTL DRNK MX', 'QUICK SERVICE', 'REFRGRATD DOUGH PRODUCTS', 'REFRGRATD JUICES/DRNKS', 'REFRIGERATED', 'RESTRICTED DIET', 'RICE CAKES', 'ROLLS', 'RW FRESH PROCESSED MEAT', 'SALAD BAR', 'SALAD MIX', 'SALADS/DIPS', 'SALD DRSNG/SNDWCH SPRD', 'SANDWICHES', 'SEAFOOD - FROZEN', 'SEAFOOD - MISC', 'SEAFOOD - SHELF STABLE', 'SEAFOOD-FRESH', 'SEASONAL', 'SERVICE BEVERAGE', 'SHORTENING/OIL', 'SMOKED MEATS', 'SNACK NUTS', 'SNACKS', 'SNKS/CKYS/CRKR/CNDY', 'SOFT DRINKS', 'SOUP', 'SPICES & EXTRACTS', 'SPORTS MEMORABLILIA', 'SPRING/SUMMER SEASONAL', 'SQUASH', 'STONE FRUIT', 'SUGARS/SWEETNERS', 'SUSHI', 'SWEET GOODS & SNACKS', 'SYRUPS/TOPPINGS', 'TEAS', 'TOMATOES', 'TROPICAL FRUIT', 'TURKEY', 'UNKNOWN', 'VALUE ADDED FRUIT', 'VALUE ADDED VEGETABLES', 'VEAL', 'VEGETABLES - ALL OTHERS', 'VEGETABLES - SHELF STABLE', 'VEGETABLES SALAD', 'WAREHOUSE SNACKS', 'WATER', 'WATER - CARBONATED/FLVRD DRINK', 'YOGURT']\n"
     ]
    }
   ],
   "source": [
    "list_food_com = ['APPLES', 'BABY FOODS', 'BABYFOOD',\n",
    "       'BAG SNACKS', 'BAKED BREAD/BUNS/ROLLS',\n",
    "       'BAKED SWEET GOODS', 'BAKERY PARTY TRAYS', 'BAKING',\n",
    "       'BAKING MIXES', 'BAKING NEEDS',\n",
    "       'BEANS - CANNED GLASS & MW', 'BEEF', 'BEERS/ALES', 'BERRIES',\n",
    "       'BEVERAGE',\n",
    "       'BREAD', 'BREAKFAST SAUSAGE/SANDWICHES', 'BREAKFAST SWEETS',\n",
    "       'BROCCOLI/CAULIFLOWER', 'BULK FOODS', 'BUTTER',\n",
    "       'CAKES', 'CANDY - CHECKLANE',\n",
    "       'CANDY - PACKAGED', 'CANNED JUICES', 'CANNED MILK', 'CARROTS', 'CEREAL/BREAKFAST',\n",
    "         'CHEESE', 'CHEESES', 'CHICKEN',\n",
    "       'CHICKEN/POULTRY', 'CHIPS&SNACKS', 'CHRISTMAS  SEASONAL',\n",
    "        'CITRUS', 'COCOA MIXES', 'COFFEE', 'COFFEE SHOP', 'COFFEE SHOP SWEET GOODS&RETAIL',\n",
    "       'COLD CEREAL', 'CONDIMENTS', 'CONDIMENTS/SAUCES', 'CONVENIENT BRKFST/WHLSM SNACKS', 'COOKIES',\n",
    "       'COOKIES/CONES', 'CORN', 'CRACKERS/MISC BKD FD', 'DELI MEATS',\n",
    "       'DELI SPECIALTIES (RETAIL PK)', 'DELI SUPPLIES', 'DINNER MXS:DRY',\n",
    "       'DINNER SAUSAGE', 'DOMESTIC GOODS',\n",
    "       'DOMESTIC WINE', 'DRIED FRUIT', 'DRY BN/VEG/POTATO/RICE',\n",
    "       'DRY MIX DESSERTS', 'DRY NOODLES/PASTA', 'DRY SAUCES/GRAVY',\n",
    "       'DRY TEA/COFFEE/COCO MIX', 'EASTER', 'EGGS','EXOTIC GAME/FOWL',\n",
    "       'FALL AND WINTER SEASONAL',\n",
    "       'FITNESS&DIET', 'FLOUR & MEALS', 'FLUID MILK PRODUCTS', 'FROZEN',\n",
    "       'FROZEN - BOXED(GROCERY)', 'FROZEN BREAD/DOUGH', 'FROZEN CHICKEN',\n",
    "       'FROZEN MEAT', 'FROZEN PACKAGE MEAT', 'FROZEN PIE/DESSERTS',\n",
    "       'FROZEN PIZZA', 'FRUIT - SHELF STABLE', 'FRZN BREAKFAST FOODS',\n",
    "       'FRZN FRUITS', 'FRZN ICE', 'FRZN JCE CONC/DRNKS',\n",
    "       'FRZN MEAT/MEAT DINNERS', 'FRZN NOVELTIES/WTR ICE',\n",
    "       'FRZN POTATOES', 'FRZN SEAFOOD', 'FRZN VEGETABLE/VEG DSH', 'GRAPES',  'HEAT/SERVE', 'HERBS', 'HISPANIC',\n",
    "       'HOME FREEZING & CANNING SUPPLY','HOT CEREAL', 'HOT DOGS',\n",
    "        'ICE CREAM/MILK/SHERBTS',\n",
    "       'IMPORTED WINE',\n",
    "       'INFANT FORMULA',\n",
    "       'ISOTONIC DRINKS',  'JUICE' , 'LAMB',\n",
    "        'LIQUOR', 'LUNCHMEAT',\n",
    "        'MARGARINES', 'MEAT - MISC', 'MEAT - SHELF STABLE',\n",
    "       'MEAT SUPPLIES', 'MELONS', 'MILK BY-PRODUCTS', 'MISC WINE',\n",
    "       'MISC. DAIRY', 'MISCELLANEOUS', 'MISCELLANEOUS CROUTONS',\n",
    "       'MOLASSES/SYRUP/PANCAKE MIXS', 'MUSHROOMS', 'NATURAL HBC',\n",
    "       'NATURAL VITAMINS', 'NDAIRY/TEAS/JUICE/SOD', 'NEW AGE',\n",
    "        'NON-DAIRY BEVERAGES', 'NUTS',\n",
    "       'OLIVES', 'ONIONS',\n",
    "       'ORGANICS FRUIT & VEGETABLES', \n",
    "       'PACKAGED NATURAL SNACKS', \n",
    "       'PARTY TRAYS', 'PASTA SAUCE', 'PEARS', 'PEPPERS-ALL',\n",
    "       'PICKLE/RELISH/PKLD VEG', 'PIES', 'PKG.SEAFOOD MISC',\n",
    "        'PNT BTR/JELLY/JAMS', 'POPCORN', 'PORK',\n",
    "        'POTATOES',\n",
    "       'PREPARED FOOD',\n",
    "       'PREPARED/PKGD FOODS', 'PROCESSED', 'PROD SUPPLIES',\n",
    "       'PWDR/CRYSTL DRNK MX', 'QUICK SERVICE', 'REFRGRATD DOUGH PRODUCTS',\n",
    "       'REFRGRATD JUICES/DRNKS', 'REFRIGERATED', 'RESTRICTED DIET',\n",
    "       'RICE CAKES', 'ROLLS', 'RW FRESH PROCESSED MEAT', 'SALAD BAR',\n",
    "       'SALAD MIX', 'SALADS/DIPS', 'SALD DRSNG/SNDWCH SPRD', 'SANDWICHES',\n",
    "       'SEAFOOD - FROZEN', 'SEAFOOD - MISC', 'SEAFOOD - SHELF STABLE',\n",
    "       'SEAFOOD-FRESH', 'SEASONAL', 'SERVICE BEVERAGE',  'SHORTENING/OIL',\n",
    "        'SMOKED MEATS', \n",
    "       'SNACK NUTS', 'SNACKS', 'SNKS/CKYS/CRKR/CNDY', 'SOFT DRINKS', 'SOUP', 'SPICES & EXTRACTS',\n",
    "       'SPORTS MEMORABLILIA', 'SPRING/SUMMER SEASONAL', 'SQUASH',\n",
    "        'STONE FRUIT', 'SUGARS/SWEETNERS',\n",
    "        'SUSHI', 'SWEET GOODS & SNACKS', 'SYRUPS/TOPPINGS',\n",
    "       'TEAS', 'TOMATOES', \n",
    "       'TROPICAL FRUIT', 'TURKEY', 'UNKNOWN', \n",
    "       'VALUE ADDED FRUIT', 'VALUE ADDED VEGETABLES', 'VEAL',\n",
    "       'VEGETABLES - ALL OTHERS', 'VEGETABLES - SHELF STABLE',\n",
    "       'VEGETABLES SALAD', 'WAREHOUSE SNACKS', 'WATER',\n",
    "       'WATER - CARBONATED/FLVRD DRINK', 'YOGURT']\n",
    "print(list_food_com)"
   ]
  },
  {
   "cell_type": "code",
   "execution_count": 25,
   "metadata": {},
   "outputs": [],
   "source": [
    "df_food_com = df_food_dep[df_food_dep[\"COMMODITY_DESC\"].apply(lambda x : x in list_food_com)]"
   ]
  },
  {
   "cell_type": "markdown",
   "metadata": {},
   "source": [
    "In the column *COMMODITY_DESC*, there are some categories, which are non ambigously only contain food items. But there are still categories like *BAKING NEEDS* which can contain non food items. We need to check their *SUB_COMMODITY_DESC* values for a description on the lowest level."
   ]
  },
  {
   "cell_type": "code",
   "execution_count": 26,
   "metadata": {},
   "outputs": [],
   "source": [
    "list_food_com_ambigious=['CHRISTMAS  SEASONAL', 'DOMESTIC GOODS','EASTER', 'FALL AND WINTER SEASONAL','HOME FREEZING & CANNING SUPPLY', 'NATURAL HBC', 'NATURAL VITAMINS','SEASONAL', 'SPORTS MEMORABLILIA', 'SPRING/SUMMER SEASONAL']"
   ]
  },
  {
   "cell_type": "markdown",
   "metadata": {},
   "source": [
    "BAKING MIXES, BAKING NEEDS contains seafood?!?\n",
    "\n",
    "Commodities to throw out (except):\n",
    "* NATURAL HBC – CANDY\n",
    "* NATURAL VITAMINS – PRETZELS\n",
    "* SEASONAL – PUMPKINS\n",
    "* SPORTS MEMORABLILIA – CANDY\n",
    "* 'SPRING/SUMMER SEASONAL' – CANDY"
   ]
  },
  {
   "cell_type": "code",
   "execution_count": 27,
   "metadata": {},
   "outputs": [],
   "source": [
    "df_amb_com = df_food_com[df_food_com[\"COMMODITY_DESC\"].apply(lambda x : x in list_food_com_ambigious)]\n",
    "throw_out =['MISC', 'BAKING CUPS', 'CAKE DECORS - BIRTHDAY CANDLES', 'BANDANA/SCARVES', 'FLASHLIGHTS','AS SEEN ON TV', 'MISC BULK', 'MISC SALES TRANS','PEYTON/GM EXPENSE ITEMS', 'MICROWAVE'] \n",
    "\n",
    "for amb in list_food_com_ambigious:\n",
    "    for item in df_amb_com[df_amb_com[\"COMMODITY_DESC\"].apply(lambda x : x == amb)][\"SUB_COMMODITY_DESC\"].unique():\n",
    "        if not \"CANDY\" in item and not \"PUMPKINS\" in item and not \"PRETZELS\" in item:\n",
    "            throw_out.append(item)\n"
   ]
  },
  {
   "cell_type": "markdown",
   "metadata": {},
   "source": [
    "Final dataframe with only food."
   ]
  },
  {
   "cell_type": "code",
   "execution_count": 28,
   "metadata": {},
   "outputs": [
    {
     "data": {
      "text/html": [
       "<div>\n",
       "<style scoped>\n",
       "    .dataframe tbody tr th:only-of-type {\n",
       "        vertical-align: middle;\n",
       "    }\n",
       "\n",
       "    .dataframe tbody tr th {\n",
       "        vertical-align: top;\n",
       "    }\n",
       "\n",
       "    .dataframe thead th {\n",
       "        text-align: right;\n",
       "    }\n",
       "</style>\n",
       "<table border=\"1\" class=\"dataframe\">\n",
       "  <thead>\n",
       "    <tr style=\"text-align: right;\">\n",
       "      <th></th>\n",
       "      <th>PRODUCT_ID</th>\n",
       "      <th>MANUFACTURER</th>\n",
       "      <th>DEPARTMENT</th>\n",
       "      <th>BRAND</th>\n",
       "      <th>COMMODITY_DESC</th>\n",
       "      <th>SUB_COMMODITY_DESC</th>\n",
       "      <th>CURR_SIZE_OF_PRODUCT</th>\n",
       "    </tr>\n",
       "  </thead>\n",
       "  <tbody>\n",
       "    <tr>\n",
       "      <td>0</td>\n",
       "      <td>25671</td>\n",
       "      <td>2</td>\n",
       "      <td>GROCERY</td>\n",
       "      <td>National</td>\n",
       "      <td>FRZN ICE</td>\n",
       "      <td>ICE - CRUSHED/CUBED</td>\n",
       "      <td>22 LB</td>\n",
       "    </tr>\n",
       "    <tr>\n",
       "      <td>2</td>\n",
       "      <td>26093</td>\n",
       "      <td>69</td>\n",
       "      <td>PASTRY</td>\n",
       "      <td>Private</td>\n",
       "      <td>BREAD</td>\n",
       "      <td>BREAD:ITALIAN/FRENCH</td>\n",
       "      <td></td>\n",
       "    </tr>\n",
       "    <tr>\n",
       "      <td>3</td>\n",
       "      <td>26190</td>\n",
       "      <td>69</td>\n",
       "      <td>GROCERY</td>\n",
       "      <td>Private</td>\n",
       "      <td>FRUIT - SHELF STABLE</td>\n",
       "      <td>APPLE SAUCE</td>\n",
       "      <td>50 OZ</td>\n",
       "    </tr>\n",
       "    <tr>\n",
       "      <td>4</td>\n",
       "      <td>26355</td>\n",
       "      <td>69</td>\n",
       "      <td>GROCERY</td>\n",
       "      <td>Private</td>\n",
       "      <td>COOKIES/CONES</td>\n",
       "      <td>SPECIALTY COOKIES</td>\n",
       "      <td>14 OZ</td>\n",
       "    </tr>\n",
       "    <tr>\n",
       "      <td>5</td>\n",
       "      <td>26426</td>\n",
       "      <td>69</td>\n",
       "      <td>GROCERY</td>\n",
       "      <td>Private</td>\n",
       "      <td>SPICES &amp; EXTRACTS</td>\n",
       "      <td>SPICES &amp; SEASONINGS</td>\n",
       "      <td>2.5 OZ</td>\n",
       "    </tr>\n",
       "    <tr>\n",
       "      <td>...</td>\n",
       "      <td>...</td>\n",
       "      <td>...</td>\n",
       "      <td>...</td>\n",
       "      <td>...</td>\n",
       "      <td>...</td>\n",
       "      <td>...</td>\n",
       "      <td>...</td>\n",
       "    </tr>\n",
       "    <tr>\n",
       "      <td>92341</td>\n",
       "      <td>18272784</td>\n",
       "      <td>103</td>\n",
       "      <td>GROCERY</td>\n",
       "      <td>National</td>\n",
       "      <td>SOFT DRINKS</td>\n",
       "      <td>SOFT DRINKS 12/18&amp;15PK CAN CAR</td>\n",
       "      <td>144 OZ</td>\n",
       "    </tr>\n",
       "    <tr>\n",
       "      <td>92342</td>\n",
       "      <td>18273018</td>\n",
       "      <td>2223</td>\n",
       "      <td>GROCERY</td>\n",
       "      <td>National</td>\n",
       "      <td>BAG SNACKS</td>\n",
       "      <td>BAGGED CHEESE SNACKS</td>\n",
       "      <td>11.5 OZ</td>\n",
       "    </tr>\n",
       "    <tr>\n",
       "      <td>92343</td>\n",
       "      <td>18273019</td>\n",
       "      <td>2223</td>\n",
       "      <td>GROCERY</td>\n",
       "      <td>National</td>\n",
       "      <td>BAG SNACKS</td>\n",
       "      <td>BAGGED CHEESE SNACKS</td>\n",
       "      <td>11.5 OZ</td>\n",
       "    </tr>\n",
       "    <tr>\n",
       "      <td>92344</td>\n",
       "      <td>18273051</td>\n",
       "      <td>436</td>\n",
       "      <td>GROCERY</td>\n",
       "      <td>National</td>\n",
       "      <td>REFRGRATD JUICES/DRNKS</td>\n",
       "      <td>DAIRY CASE CITRUS PNCH/OJ SUBS</td>\n",
       "      <td>64 OZ</td>\n",
       "    </tr>\n",
       "    <tr>\n",
       "      <td>92346</td>\n",
       "      <td>18273133</td>\n",
       "      <td>2227</td>\n",
       "      <td>PRODUCE</td>\n",
       "      <td>National</td>\n",
       "      <td>NUTS</td>\n",
       "      <td>NUTS OTHER</td>\n",
       "      <td>16 OZ</td>\n",
       "    </tr>\n",
       "  </tbody>\n",
       "</table>\n",
       "<p>53924 rows × 7 columns</p>\n",
       "</div>"
      ],
      "text/plain": [
       "       PRODUCT_ID  MANUFACTURER DEPARTMENT     BRAND          COMMODITY_DESC  \\\n",
       "0           25671             2    GROCERY  National                FRZN ICE   \n",
       "2           26093            69     PASTRY   Private                   BREAD   \n",
       "3           26190            69    GROCERY   Private    FRUIT - SHELF STABLE   \n",
       "4           26355            69    GROCERY   Private           COOKIES/CONES   \n",
       "5           26426            69    GROCERY   Private       SPICES & EXTRACTS   \n",
       "...           ...           ...        ...       ...                     ...   \n",
       "92341    18272784           103    GROCERY  National             SOFT DRINKS   \n",
       "92342    18273018          2223    GROCERY  National              BAG SNACKS   \n",
       "92343    18273019          2223    GROCERY  National              BAG SNACKS   \n",
       "92344    18273051           436    GROCERY  National  REFRGRATD JUICES/DRNKS   \n",
       "92346    18273133          2227    PRODUCE  National                    NUTS   \n",
       "\n",
       "                   SUB_COMMODITY_DESC CURR_SIZE_OF_PRODUCT  \n",
       "0                 ICE - CRUSHED/CUBED                22 LB  \n",
       "2                BREAD:ITALIAN/FRENCH                       \n",
       "3                         APPLE SAUCE                50 OZ  \n",
       "4                   SPECIALTY COOKIES                14 OZ  \n",
       "5                 SPICES & SEASONINGS               2.5 OZ  \n",
       "...                               ...                  ...  \n",
       "92341  SOFT DRINKS 12/18&15PK CAN CAR               144 OZ  \n",
       "92342            BAGGED CHEESE SNACKS              11.5 OZ  \n",
       "92343            BAGGED CHEESE SNACKS              11.5 OZ  \n",
       "92344  DAIRY CASE CITRUS PNCH/OJ SUBS                64 OZ  \n",
       "92346                      NUTS OTHER                16 OZ  \n",
       "\n",
       "[53924 rows x 7 columns]"
      ]
     },
     "execution_count": 28,
     "metadata": {},
     "output_type": "execute_result"
    }
   ],
   "source": [
    "df_food = df_food_com[df_food_com[\"SUB_COMMODITY_DESC\"].apply(lambda x : not x in throw_out)]\n",
    "\n",
    "df_food"
   ]
  },
  {
   "cell_type": "code",
   "execution_count": 29,
   "metadata": {},
   "outputs": [],
   "source": [
    "def filter_dataframe(df, word_list):\n",
    "    filtered_df = df.copy()\n",
    "    for word in word_list:\n",
    "        filtered_df = filtered_df[~(filtered_df[\"DEPARTMENT\"].str.contains(word) | filtered_df[\"COMMODITY_DESC\"].str.contains(word) | filtered_df[\"SUB_COMMODITY_DESC\"].str.contains(word))]\n",
    "    return df[~df.index.isin(filtered_df.index)]"
   ]
  },
  {
   "cell_type": "code",
   "execution_count": 30,
   "metadata": {},
   "outputs": [],
   "source": [
    "meat_list = [\"MEAT\",\"PORK\", \"BEEF\", \"DUCK\", \"CHICKEN\", \"POULTRY\", \"LAMB\", \"VEAL\", \"MUTTON\", \"TURKEY\", \"VENISON\", \"WILD BOAR\", \"BISON\", \"GOOSE\", \"RABBIT\", \"PHEASANT\"]\n",
    "seafood_list = [\"HERRING\", \"SEAFOOD\", \"SEAFD\",\"SUSHI\", \"FISH\",\"SHRIMP\",\"SALMON\",\"TUNA\",\"TILAPIA\",\"ALASKA\",\"POLLOCK\",\"PANGASIUS\",\"BASA\",\"SWAI\",\"COD\",\"CATFISH\",\"CRAB\",\"CLAMS\"]\n",
    "sweets_snack_list = [\"ROLLS\", \"PASTRY\", \"NUT\",\"CRACKERS\",\"DESSERT\",\"SNKS\",\"SNACK\",\"CHIP\", \"CANDY\", \"ICE\", \"SWEET\", \"CHOCOLATE\",\"POPCORN\", \"CAKE\", \"COOKIE\", \"PANCAKE\", \"BAKING\", \"BAKE\", \"PIE\"]\n",
    "fruits_list = [\"FRUIT\",\"APPLE\", \"ORANGE\", \"PEAR\", \"BANANA\", \"GRAPE\", \"BERR\", \"TOMATO\", \"LEMON\", \"MELON\", \"PEACH\", \"CHERR\", \"PINEAPPLE\", \"CITRUS\"]\n",
    "vegetable_list = [\"PUMPKIN\", \"COLESLAW\", \"SPINACH\", \"BEAN\",\"VEG\", \"POTATO\", \"CARROT\",\"CORN\",\"PEPPER\", \"SQUASH\", \"ONION\", \"MUSHROOM\", \"CUCUMBER\", \"CAULIFLOWER\", \"BROCCOLI\", \"OLIVE\" ]\n",
    "veg_animal_list = [\"DAIRY\",\"MILK\",\"CHEESE\", \"YOGURT\", \"BUTTER\", \"MARGARINE\", \"EGG\", \"HONEY\"]\n",
    "beverage_list = [\"CIDER\", \"BEVERAGE\", \"WATER\", \"COKE\", \"FANTA\", \"SPRITE\",\"LIQUOR\", \"LEMONADE\", \"COCOA\", \"BEER\", \"WINE\", \"COFFEE\", \"DRINK\", \"TEA\", \"JUICE\", \"DRNKS\", \"JCE\"]\n",
    "condiment_list = [\"SALSA\",\"FLOUR\", \"DIP\",\"OIL\",\"SEASONING\",\"JELLY\", \"JAM\",\"SAUCE\", \"HERBS\", \"CONDIMENT\", \"TOPPING\", \"SYRUP\", \"DRESSING\", \"KETCHUP\", \"MAYO\", \"DRSNG\"]\n",
    "carbs_list = [\"NOODLES\", \"PASTA\", \"CROUTON\",\"RICE\", \"BREAD\", \"TOAST\", \"CEREAL\", \"OATMEAL\", \"DOUGH\", \"POTATO\"]\n",
    "meal_list = [\"PIZZA\", \"RAMEN\", \"SANDWICH\", \"SALAD\",\"SOUP\",\"ENTREE\", \"DINNER\", \"BREAKFAST\", \"THAI\", \"ASIAN\", \"ITALIAN\", \"MEXICAN\", \"GERMAN\", \"BURRITO\", \"FOOD\", \"ORIENTAL\", \"DISH\"]\n",
    "df_meat = filter_dataframe(df_food, meat_list)\n",
    "df_seafood = filter_dataframe(df_food, seafood_list)\n",
    "df_sweets_snack = filter_dataframe(df_food, sweets_snack_list)\n",
    "df_fruits = filter_dataframe(df_food, fruits_list)\n",
    "df_vegetable = filter_dataframe(df_food, vegetable_list)\n",
    "df_veg_animal = filter_dataframe(df_food, veg_animal_list)\n",
    "df_beverage = filter_dataframe(df_food, beverage_list)\n",
    "df_condiments = filter_dataframe(df_food, condiment_list)\n",
    "df_carbs = filter_dataframe(df_food, carbs_list)\n",
    "df_meals = filter_dataframe(df_food, meal_list)\n",
    "df_left = df_food[~df_food.index.isin(np.concatenate((df_meat.index,df_seafood.index, df_sweets_snack.index, df_fruits.index, df_vegetable.index, df_beverage.index, df_veg_animal.index, df_condiments.index, df_carbs.index, df_meals.index)))]"
   ]
  },
  {
   "cell_type": "code",
   "execution_count": 31,
   "metadata": {},
   "outputs": [
    {
     "data": {
      "text/plain": [
       "array(['PACKAGED MIX', 'PROCESSED OTHER', 'INFANT FORMULA TODDLER',\n",
       "       'INFANT FORMULA SPECIALTY', 'CORPORATE DELETES (DO NOT USE',\n",
       "       'INFANT FORMULA SOY BASE', 'DIET BARS DIET LIQUID MEALS',\n",
       "       'GARLIC JAR', 'MISC DIET', 'REFRIGERATED KOSHER PRODUCTS'],\n",
       "      dtype=object)"
      ]
     },
     "execution_count": 31,
     "metadata": {},
     "output_type": "execute_result"
    }
   ],
   "source": [
    "df_left[\"SUB_COMMODITY_DESC\"].unique()"
   ]
  },
  {
   "cell_type": "markdown",
   "metadata": {},
   "source": [
    "## Transaction data"
   ]
  },
  {
   "cell_type": "code",
   "execution_count": 32,
   "metadata": {},
   "outputs": [],
   "source": [
    "df_transaction = pd.read_csv('dunnhumby/transaction_data.csv')"
   ]
  },
  {
   "cell_type": "code",
   "execution_count": 33,
   "metadata": {},
   "outputs": [
    {
     "data": {
      "text/html": [
       "<div>\n",
       "<style scoped>\n",
       "    .dataframe tbody tr th:only-of-type {\n",
       "        vertical-align: middle;\n",
       "    }\n",
       "\n",
       "    .dataframe tbody tr th {\n",
       "        vertical-align: top;\n",
       "    }\n",
       "\n",
       "    .dataframe thead th {\n",
       "        text-align: right;\n",
       "    }\n",
       "</style>\n",
       "<table border=\"1\" class=\"dataframe\">\n",
       "  <thead>\n",
       "    <tr style=\"text-align: right;\">\n",
       "      <th></th>\n",
       "      <th>household_key</th>\n",
       "      <th>BASKET_ID</th>\n",
       "      <th>DAY</th>\n",
       "      <th>PRODUCT_ID</th>\n",
       "      <th>QUANTITY</th>\n",
       "      <th>SALES_VALUE</th>\n",
       "      <th>STORE_ID</th>\n",
       "      <th>RETAIL_DISC</th>\n",
       "      <th>TRANS_TIME</th>\n",
       "      <th>WEEK_NO</th>\n",
       "      <th>COUPON_DISC</th>\n",
       "      <th>COUPON_MATCH_DISC</th>\n",
       "    </tr>\n",
       "  </thead>\n",
       "  <tbody>\n",
       "    <tr>\n",
       "      <td>0</td>\n",
       "      <td>2375</td>\n",
       "      <td>26984851472</td>\n",
       "      <td>1</td>\n",
       "      <td>1004906</td>\n",
       "      <td>1</td>\n",
       "      <td>1.39</td>\n",
       "      <td>364</td>\n",
       "      <td>-0.60</td>\n",
       "      <td>1631</td>\n",
       "      <td>1</td>\n",
       "      <td>0.0</td>\n",
       "      <td>0.0</td>\n",
       "    </tr>\n",
       "    <tr>\n",
       "      <td>1</td>\n",
       "      <td>2375</td>\n",
       "      <td>26984851472</td>\n",
       "      <td>1</td>\n",
       "      <td>1033142</td>\n",
       "      <td>1</td>\n",
       "      <td>0.82</td>\n",
       "      <td>364</td>\n",
       "      <td>0.00</td>\n",
       "      <td>1631</td>\n",
       "      <td>1</td>\n",
       "      <td>0.0</td>\n",
       "      <td>0.0</td>\n",
       "    </tr>\n",
       "    <tr>\n",
       "      <td>2</td>\n",
       "      <td>2375</td>\n",
       "      <td>26984851472</td>\n",
       "      <td>1</td>\n",
       "      <td>1036325</td>\n",
       "      <td>1</td>\n",
       "      <td>0.99</td>\n",
       "      <td>364</td>\n",
       "      <td>-0.30</td>\n",
       "      <td>1631</td>\n",
       "      <td>1</td>\n",
       "      <td>0.0</td>\n",
       "      <td>0.0</td>\n",
       "    </tr>\n",
       "    <tr>\n",
       "      <td>3</td>\n",
       "      <td>2375</td>\n",
       "      <td>26984851472</td>\n",
       "      <td>1</td>\n",
       "      <td>1082185</td>\n",
       "      <td>1</td>\n",
       "      <td>1.21</td>\n",
       "      <td>364</td>\n",
       "      <td>0.00</td>\n",
       "      <td>1631</td>\n",
       "      <td>1</td>\n",
       "      <td>0.0</td>\n",
       "      <td>0.0</td>\n",
       "    </tr>\n",
       "    <tr>\n",
       "      <td>4</td>\n",
       "      <td>2375</td>\n",
       "      <td>26984851472</td>\n",
       "      <td>1</td>\n",
       "      <td>8160430</td>\n",
       "      <td>1</td>\n",
       "      <td>1.50</td>\n",
       "      <td>364</td>\n",
       "      <td>-0.39</td>\n",
       "      <td>1631</td>\n",
       "      <td>1</td>\n",
       "      <td>0.0</td>\n",
       "      <td>0.0</td>\n",
       "    </tr>\n",
       "  </tbody>\n",
       "</table>\n",
       "</div>"
      ],
      "text/plain": [
       "   household_key    BASKET_ID  DAY  PRODUCT_ID  QUANTITY  SALES_VALUE  \\\n",
       "0           2375  26984851472    1     1004906         1         1.39   \n",
       "1           2375  26984851472    1     1033142         1         0.82   \n",
       "2           2375  26984851472    1     1036325         1         0.99   \n",
       "3           2375  26984851472    1     1082185         1         1.21   \n",
       "4           2375  26984851472    1     8160430         1         1.50   \n",
       "\n",
       "   STORE_ID  RETAIL_DISC  TRANS_TIME  WEEK_NO  COUPON_DISC  COUPON_MATCH_DISC  \n",
       "0       364        -0.60        1631        1          0.0                0.0  \n",
       "1       364         0.00        1631        1          0.0                0.0  \n",
       "2       364        -0.30        1631        1          0.0                0.0  \n",
       "3       364         0.00        1631        1          0.0                0.0  \n",
       "4       364        -0.39        1631        1          0.0                0.0  "
      ]
     },
     "execution_count": 33,
     "metadata": {},
     "output_type": "execute_result"
    }
   ],
   "source": [
    "df_transaction.head()"
   ]
  },
  {
   "cell_type": "markdown",
   "metadata": {},
   "source": [
    "Let's precise what does the less obvious column represent. The SALES_VALUE is the amount of dollar received by the retailer for a particular sale. The RETAIL_DISC is a discount applied due to retailer's loyalty card program. The COUPON_DISC is a discount applied due to manufacturer coupon and COUPON_MATCH_DISC a discount applied due to retailer's match of manufacturer coupon. Finally, the TRANS_TIME correspond to the time of the day the purchase was made (ranging from 0 to 2359, i.e. from 0:00 to 23:59)"
   ]
  },
  {
   "cell_type": "code",
   "execution_count": 34,
   "metadata": {},
   "outputs": [
    {
     "name": "stdout",
     "output_type": "stream",
     "text": [
      "The TRANS_TIME ranges between 0 and 2359.\n"
     ]
    }
   ],
   "source": [
    "print('The TRANS_TIME ranges between %d and %d.' %(df_transaction['TRANS_TIME'].min(), df_transaction['TRANS_TIME'].max()))"
   ]
  },
  {
   "cell_type": "markdown",
   "metadata": {},
   "source": [
    "Let's add the actual product prices (with or without loyalty card). To do so, we use the following formulas (as explained in the user guide):  \n",
    "    - Loyalty card price = (sales_value – (retail_disc + coupon_match_disc))/quantity  \n",
    "    - Non-loyalty card price = (sales_value – (coupon_match_disc))/quantity \n",
    "    "
   ]
  },
  {
   "cell_type": "code",
   "execution_count": 35,
   "metadata": {},
   "outputs": [
    {
     "data": {
      "text/html": [
       "<div>\n",
       "<style scoped>\n",
       "    .dataframe tbody tr th:only-of-type {\n",
       "        vertical-align: middle;\n",
       "    }\n",
       "\n",
       "    .dataframe tbody tr th {\n",
       "        vertical-align: top;\n",
       "    }\n",
       "\n",
       "    .dataframe thead th {\n",
       "        text-align: right;\n",
       "    }\n",
       "</style>\n",
       "<table border=\"1\" class=\"dataframe\">\n",
       "  <thead>\n",
       "    <tr style=\"text-align: right;\">\n",
       "      <th></th>\n",
       "      <th>household_key</th>\n",
       "      <th>BASKET_ID</th>\n",
       "      <th>DAY</th>\n",
       "      <th>PRODUCT_ID</th>\n",
       "      <th>QUANTITY</th>\n",
       "      <th>SALES_VALUE</th>\n",
       "      <th>STORE_ID</th>\n",
       "      <th>RETAIL_DISC</th>\n",
       "      <th>TRANS_TIME</th>\n",
       "      <th>WEEK_NO</th>\n",
       "      <th>COUPON_DISC</th>\n",
       "      <th>COUPON_MATCH_DISC</th>\n",
       "      <th>LOYALTY_CARD_PRICE</th>\n",
       "      <th>NO_LOYALTY_CARD_PRICE</th>\n",
       "    </tr>\n",
       "  </thead>\n",
       "  <tbody>\n",
       "    <tr>\n",
       "      <td>0</td>\n",
       "      <td>2375</td>\n",
       "      <td>26984851472</td>\n",
       "      <td>1</td>\n",
       "      <td>1004906</td>\n",
       "      <td>1</td>\n",
       "      <td>1.39</td>\n",
       "      <td>364</td>\n",
       "      <td>-0.60</td>\n",
       "      <td>1631</td>\n",
       "      <td>1</td>\n",
       "      <td>0.0</td>\n",
       "      <td>0.0</td>\n",
       "      <td>1.99</td>\n",
       "      <td>1.39</td>\n",
       "    </tr>\n",
       "    <tr>\n",
       "      <td>1</td>\n",
       "      <td>2375</td>\n",
       "      <td>26984851472</td>\n",
       "      <td>1</td>\n",
       "      <td>1033142</td>\n",
       "      <td>1</td>\n",
       "      <td>0.82</td>\n",
       "      <td>364</td>\n",
       "      <td>0.00</td>\n",
       "      <td>1631</td>\n",
       "      <td>1</td>\n",
       "      <td>0.0</td>\n",
       "      <td>0.0</td>\n",
       "      <td>0.82</td>\n",
       "      <td>0.82</td>\n",
       "    </tr>\n",
       "    <tr>\n",
       "      <td>2</td>\n",
       "      <td>2375</td>\n",
       "      <td>26984851472</td>\n",
       "      <td>1</td>\n",
       "      <td>1036325</td>\n",
       "      <td>1</td>\n",
       "      <td>0.99</td>\n",
       "      <td>364</td>\n",
       "      <td>-0.30</td>\n",
       "      <td>1631</td>\n",
       "      <td>1</td>\n",
       "      <td>0.0</td>\n",
       "      <td>0.0</td>\n",
       "      <td>1.29</td>\n",
       "      <td>0.99</td>\n",
       "    </tr>\n",
       "    <tr>\n",
       "      <td>3</td>\n",
       "      <td>2375</td>\n",
       "      <td>26984851472</td>\n",
       "      <td>1</td>\n",
       "      <td>1082185</td>\n",
       "      <td>1</td>\n",
       "      <td>1.21</td>\n",
       "      <td>364</td>\n",
       "      <td>0.00</td>\n",
       "      <td>1631</td>\n",
       "      <td>1</td>\n",
       "      <td>0.0</td>\n",
       "      <td>0.0</td>\n",
       "      <td>1.21</td>\n",
       "      <td>1.21</td>\n",
       "    </tr>\n",
       "    <tr>\n",
       "      <td>4</td>\n",
       "      <td>2375</td>\n",
       "      <td>26984851472</td>\n",
       "      <td>1</td>\n",
       "      <td>8160430</td>\n",
       "      <td>1</td>\n",
       "      <td>1.50</td>\n",
       "      <td>364</td>\n",
       "      <td>-0.39</td>\n",
       "      <td>1631</td>\n",
       "      <td>1</td>\n",
       "      <td>0.0</td>\n",
       "      <td>0.0</td>\n",
       "      <td>1.89</td>\n",
       "      <td>1.50</td>\n",
       "    </tr>\n",
       "  </tbody>\n",
       "</table>\n",
       "</div>"
      ],
      "text/plain": [
       "   household_key    BASKET_ID  DAY  PRODUCT_ID  QUANTITY  SALES_VALUE  \\\n",
       "0           2375  26984851472    1     1004906         1         1.39   \n",
       "1           2375  26984851472    1     1033142         1         0.82   \n",
       "2           2375  26984851472    1     1036325         1         0.99   \n",
       "3           2375  26984851472    1     1082185         1         1.21   \n",
       "4           2375  26984851472    1     8160430         1         1.50   \n",
       "\n",
       "   STORE_ID  RETAIL_DISC  TRANS_TIME  WEEK_NO  COUPON_DISC  COUPON_MATCH_DISC  \\\n",
       "0       364        -0.60        1631        1          0.0                0.0   \n",
       "1       364         0.00        1631        1          0.0                0.0   \n",
       "2       364        -0.30        1631        1          0.0                0.0   \n",
       "3       364         0.00        1631        1          0.0                0.0   \n",
       "4       364        -0.39        1631        1          0.0                0.0   \n",
       "\n",
       "   LOYALTY_CARD_PRICE  NO_LOYALTY_CARD_PRICE  \n",
       "0                1.99                   1.39  \n",
       "1                0.82                   0.82  \n",
       "2                1.29                   0.99  \n",
       "3                1.21                   1.21  \n",
       "4                1.89                   1.50  "
      ]
     },
     "execution_count": 35,
     "metadata": {},
     "output_type": "execute_result"
    }
   ],
   "source": [
    "df_transaction['LOYALTY_CARD_PRICE'] = (df_transaction['SALES_VALUE'] - (df_transaction['RETAIL_DISC'] + df_transaction['COUPON_MATCH_DISC']))/df_transaction['QUANTITY']\n",
    "df_transaction['NO_LOYALTY_CARD_PRICE'] = (df_transaction['SALES_VALUE'] - df_transaction['COUPON_MATCH_DISC'])/df_transaction['QUANTITY']\n",
    "df_transaction.head()"
   ]
  },
  {
   "cell_type": "markdown",
   "metadata": {},
   "source": [
    "# Campaign analysis "
   ]
  },
  {
   "cell_type": "markdown",
   "metadata": {},
   "source": [
    "Let's start by loading the data."
   ]
  },
  {
   "cell_type": "code",
   "execution_count": 36,
   "metadata": {},
   "outputs": [],
   "source": [
    "df_campaign_desc = pd.read_csv('dunnhumby/campaign_desc.csv')\n",
    "df_campaign_table = pd.read_csv('dunnhumby/campaign_table.csv')"
   ]
  },
  {
   "cell_type": "code",
   "execution_count": 37,
   "metadata": {},
   "outputs": [
    {
     "data": {
      "text/html": [
       "<div>\n",
       "<style scoped>\n",
       "    .dataframe tbody tr th:only-of-type {\n",
       "        vertical-align: middle;\n",
       "    }\n",
       "\n",
       "    .dataframe tbody tr th {\n",
       "        vertical-align: top;\n",
       "    }\n",
       "\n",
       "    .dataframe thead th {\n",
       "        text-align: right;\n",
       "    }\n",
       "</style>\n",
       "<table border=\"1\" class=\"dataframe\">\n",
       "  <thead>\n",
       "    <tr style=\"text-align: right;\">\n",
       "      <th></th>\n",
       "      <th>DESCRIPTION</th>\n",
       "      <th>CAMPAIGN</th>\n",
       "      <th>START_DAY</th>\n",
       "      <th>END_DAY</th>\n",
       "    </tr>\n",
       "  </thead>\n",
       "  <tbody>\n",
       "    <tr>\n",
       "      <td>0</td>\n",
       "      <td>TypeB</td>\n",
       "      <td>24</td>\n",
       "      <td>659</td>\n",
       "      <td>719</td>\n",
       "    </tr>\n",
       "    <tr>\n",
       "      <td>1</td>\n",
       "      <td>TypeC</td>\n",
       "      <td>15</td>\n",
       "      <td>547</td>\n",
       "      <td>708</td>\n",
       "    </tr>\n",
       "    <tr>\n",
       "      <td>2</td>\n",
       "      <td>TypeB</td>\n",
       "      <td>25</td>\n",
       "      <td>659</td>\n",
       "      <td>691</td>\n",
       "    </tr>\n",
       "    <tr>\n",
       "      <td>3</td>\n",
       "      <td>TypeC</td>\n",
       "      <td>20</td>\n",
       "      <td>615</td>\n",
       "      <td>685</td>\n",
       "    </tr>\n",
       "    <tr>\n",
       "      <td>4</td>\n",
       "      <td>TypeB</td>\n",
       "      <td>23</td>\n",
       "      <td>646</td>\n",
       "      <td>684</td>\n",
       "    </tr>\n",
       "  </tbody>\n",
       "</table>\n",
       "</div>"
      ],
      "text/plain": [
       "  DESCRIPTION  CAMPAIGN  START_DAY  END_DAY\n",
       "0       TypeB        24        659      719\n",
       "1       TypeC        15        547      708\n",
       "2       TypeB        25        659      691\n",
       "3       TypeC        20        615      685\n",
       "4       TypeB        23        646      684"
      ]
     },
     "execution_count": 37,
     "metadata": {},
     "output_type": "execute_result"
    }
   ],
   "source": [
    "df_campaign_desc.head()"
   ]
  },
  {
   "cell_type": "code",
   "execution_count": 38,
   "metadata": {},
   "outputs": [
    {
     "data": {
      "text/html": [
       "<div>\n",
       "<style scoped>\n",
       "    .dataframe tbody tr th:only-of-type {\n",
       "        vertical-align: middle;\n",
       "    }\n",
       "\n",
       "    .dataframe tbody tr th {\n",
       "        vertical-align: top;\n",
       "    }\n",
       "\n",
       "    .dataframe thead th {\n",
       "        text-align: right;\n",
       "    }\n",
       "</style>\n",
       "<table border=\"1\" class=\"dataframe\">\n",
       "  <thead>\n",
       "    <tr style=\"text-align: right;\">\n",
       "      <th></th>\n",
       "      <th>DESCRIPTION</th>\n",
       "      <th>household_key</th>\n",
       "      <th>CAMPAIGN</th>\n",
       "    </tr>\n",
       "  </thead>\n",
       "  <tbody>\n",
       "    <tr>\n",
       "      <td>0</td>\n",
       "      <td>TypeA</td>\n",
       "      <td>17</td>\n",
       "      <td>26</td>\n",
       "    </tr>\n",
       "    <tr>\n",
       "      <td>1</td>\n",
       "      <td>TypeA</td>\n",
       "      <td>27</td>\n",
       "      <td>26</td>\n",
       "    </tr>\n",
       "    <tr>\n",
       "      <td>2</td>\n",
       "      <td>TypeA</td>\n",
       "      <td>212</td>\n",
       "      <td>26</td>\n",
       "    </tr>\n",
       "    <tr>\n",
       "      <td>3</td>\n",
       "      <td>TypeA</td>\n",
       "      <td>208</td>\n",
       "      <td>26</td>\n",
       "    </tr>\n",
       "    <tr>\n",
       "      <td>4</td>\n",
       "      <td>TypeA</td>\n",
       "      <td>192</td>\n",
       "      <td>26</td>\n",
       "    </tr>\n",
       "  </tbody>\n",
       "</table>\n",
       "</div>"
      ],
      "text/plain": [
       "  DESCRIPTION  household_key  CAMPAIGN\n",
       "0       TypeA             17        26\n",
       "1       TypeA             27        26\n",
       "2       TypeA            212        26\n",
       "3       TypeA            208        26\n",
       "4       TypeA            192        26"
      ]
     },
     "execution_count": 38,
     "metadata": {},
     "output_type": "execute_result"
    }
   ],
   "source": [
    "df_campaign_table.head()"
   ]
  },
  {
   "cell_type": "markdown",
   "metadata": {},
   "source": [
    "Let's see how many campaigns we have."
   ]
  },
  {
   "cell_type": "code",
   "execution_count": 39,
   "metadata": {},
   "outputs": [
    {
     "name": "stdout",
     "output_type": "stream",
     "text": [
      "Number of campaign:  30\n",
      "Unique description:  ['TypeA' 'TypeB' 'TypeC']\n"
     ]
    }
   ],
   "source": [
    "print('Number of campaign: ', len(df_campaign_desc.CAMPAIGN))\n",
    "print('Unique description: ', df_campaign_desc.DESCRIPTION.sort_values().unique())"
   ]
  },
  {
   "cell_type": "markdown",
   "metadata": {},
   "source": [
    "We add the duration of each campaign."
   ]
  },
  {
   "cell_type": "code",
   "execution_count": 40,
   "metadata": {},
   "outputs": [
    {
     "data": {
      "text/html": [
       "<div>\n",
       "<style scoped>\n",
       "    .dataframe tbody tr th:only-of-type {\n",
       "        vertical-align: middle;\n",
       "    }\n",
       "\n",
       "    .dataframe tbody tr th {\n",
       "        vertical-align: top;\n",
       "    }\n",
       "\n",
       "    .dataframe thead th {\n",
       "        text-align: right;\n",
       "    }\n",
       "</style>\n",
       "<table border=\"1\" class=\"dataframe\">\n",
       "  <thead>\n",
       "    <tr style=\"text-align: right;\">\n",
       "      <th></th>\n",
       "      <th>DESCRIPTION</th>\n",
       "      <th>CAMPAIGN</th>\n",
       "      <th>START_DAY</th>\n",
       "      <th>END_DAY</th>\n",
       "      <th>DURATION</th>\n",
       "    </tr>\n",
       "  </thead>\n",
       "  <tbody>\n",
       "    <tr>\n",
       "      <td>29</td>\n",
       "      <td>TypeA</td>\n",
       "      <td>26</td>\n",
       "      <td>224</td>\n",
       "      <td>264</td>\n",
       "      <td>40</td>\n",
       "    </tr>\n",
       "    <tr>\n",
       "      <td>25</td>\n",
       "      <td>TypeA</td>\n",
       "      <td>30</td>\n",
       "      <td>323</td>\n",
       "      <td>369</td>\n",
       "      <td>46</td>\n",
       "    </tr>\n",
       "    <tr>\n",
       "      <td>12</td>\n",
       "      <td>TypeA</td>\n",
       "      <td>13</td>\n",
       "      <td>504</td>\n",
       "      <td>551</td>\n",
       "      <td>47</td>\n",
       "    </tr>\n",
       "    <tr>\n",
       "      <td>17</td>\n",
       "      <td>TypeA</td>\n",
       "      <td>8</td>\n",
       "      <td>412</td>\n",
       "      <td>460</td>\n",
       "      <td>48</td>\n",
       "    </tr>\n",
       "    <tr>\n",
       "      <td>7</td>\n",
       "      <td>TypeA</td>\n",
       "      <td>18</td>\n",
       "      <td>587</td>\n",
       "      <td>642</td>\n",
       "      <td>55</td>\n",
       "    </tr>\n",
       "  </tbody>\n",
       "</table>\n",
       "</div>"
      ],
      "text/plain": [
       "   DESCRIPTION  CAMPAIGN  START_DAY  END_DAY  DURATION\n",
       "29       TypeA        26        224      264        40\n",
       "25       TypeA        30        323      369        46\n",
       "12       TypeA        13        504      551        47\n",
       "17       TypeA         8        412      460        48\n",
       "7        TypeA        18        587      642        55"
      ]
     },
     "execution_count": 40,
     "metadata": {},
     "output_type": "execute_result"
    }
   ],
   "source": [
    "df_campaign_desc['DURATION'] = df_campaign_desc['END_DAY'] - df_campaign_desc['START_DAY'] \n",
    "df_campaign_desc.sort_values(by = ['DESCRIPTION', 'DURATION']).head()"
   ]
  },
  {
   "cell_type": "markdown",
   "metadata": {},
   "source": [
    "For each type of campaign, we compute some basic statistics."
   ]
  },
  {
   "cell_type": "code",
   "execution_count": 41,
   "metadata": {},
   "outputs": [
    {
     "name": "stdout",
     "output_type": "stream",
     "text": [
      "Campaigns of TypeA range between 40 and 55 days\n",
      "with a mean duration of 47.20 days and a median duration of 47.00 days.\n",
      "Campaigns of TypeB range between 32 and 61 days\n",
      "with a mean duration of 37.63 days and a median duration of 32.00 days.\n",
      "Campaigns of TypeC range between 32 and 161 days\n",
      "with a mean duration of 74.50 days and a median duration of 64.00 days.\n"
     ]
    }
   ],
   "source": [
    "for camp in ['TypeA', 'TypeB', 'TypeC']:\n",
    "    print('Campaigns of %s range between %d and %d days' %(camp, df_campaign_desc[df_campaign_desc.DESCRIPTION == camp].DURATION.min(),\n",
    "                                                     df_campaign_desc[df_campaign_desc.DESCRIPTION == camp].DURATION.max()))\n",
    "    print('with a mean duration of %.2f days and a median duration of %.2f days.' \n",
    "            %(df_campaign_desc[df_campaign_desc.DESCRIPTION == camp].DURATION.mean(),\n",
    "              df_campaign_desc[df_campaign_desc.DESCRIPTION == camp].DURATION.median()))"
   ]
  },
  {
   "cell_type": "markdown",
   "metadata": {},
   "source": [
    "Let's see the different campaigns over time."
   ]
  },
  {
   "cell_type": "code",
   "execution_count": 42,
   "metadata": {},
   "outputs": [
    {
     "data": {
      "image/png": "[encoded data removed]",
      "text/plain": [
       "<Figure size 1152x504 with 1 Axes>"
      ]
     },
     "metadata": {
      "needs_background": "light"
     },
     "output_type": "display_data"
    }
   ],
   "source": [
    "#Split the datas per campaign type for better visualization\n",
    "beginA = df_campaign_desc[df_campaign_desc.DESCRIPTION == 'TypeA']['START_DAY'].values\n",
    "endA =   df_campaign_desc[df_campaign_desc.DESCRIPTION == 'TypeA']['END_DAY'].values\n",
    "beginB = df_campaign_desc[df_campaign_desc.DESCRIPTION == 'TypeB']['START_DAY'].values\n",
    "endB =   df_campaign_desc[df_campaign_desc.DESCRIPTION == 'TypeB']['END_DAY'].values\n",
    "beginC = df_campaign_desc[df_campaign_desc.DESCRIPTION == 'TypeC']['START_DAY'].values\n",
    "endC =   df_campaign_desc[df_campaign_desc.DESCRIPTION == 'TypeC']['END_DAY'].values\n",
    "\n",
    "#Plot the timespan of each campaign (note the +1 to match the indexes starting at 0 with the campaign numbers starting at 1)\n",
    "plt.barh(df_campaign_desc[df_campaign_desc.DESCRIPTION == 'TypeA'].index.values + 1,  endA-beginA, left=beginA, \n",
    "         color = 'red', label = 'TypeA')\n",
    "plt.barh(df_campaign_desc[df_campaign_desc.DESCRIPTION == 'TypeB'].index.values + 1,  endB-beginB, left=beginB, \n",
    "         color = 'blue', label = 'TypeB')\n",
    "plt.barh(df_campaign_desc[df_campaign_desc.DESCRIPTION == 'TypeC'].index.values + 1,  endC-beginC, left=beginC, \n",
    "         color = 'green', label = 'TypeC')\n",
    "\n",
    "#Add title & legend\n",
    "plt.title('Timespan of each campaign')\n",
    "plt.ylabel('Campaign')\n",
    "plt.yticks(df_campaign_desc.index + 1)\n",
    "plt.xlabel('Time')\n",
    "plt.legend()\n",
    "plt.show()"
   ]
  },
  {
   "cell_type": "markdown",
   "metadata": {},
   "source": [
    "Let's observe the distribution of the number of campaigns the household have benefited from."
   ]
  },
  {
   "cell_type": "code",
   "execution_count": 43,
   "metadata": {},
   "outputs": [
    {
     "data": {
      "image/png": "[encoded data removed]",
      "text/plain": [
       "<Figure size 1152x504 with 1 Axes>"
      ]
     },
     "metadata": {
      "needs_background": "light"
     },
     "output_type": "display_data"
    }
   ],
   "source": [
    "nbins = df_campaign_table.groupby(by = 'household_key').CAMPAIGN.count().max()\n",
    "df_campaign_table.groupby(by = 'household_key').CAMPAIGN.count().hist(bins = nbins)\n",
    "plt.title('Distribution of the number of campaigns per household')\n",
    "plt.xlabel('Number of campaigns')\n",
    "plt.ylabel('Number of households')\n",
    "plt.show()"
   ]
  },
  {
   "cell_type": "markdown",
   "metadata": {},
   "source": [
    "We also print some basic statistics on the number of campaigns each household has benefited from."
   ]
  },
  {
   "cell_type": "code",
   "execution_count": 44,
   "metadata": {},
   "outputs": [
    {
     "name": "stdout",
     "output_type": "stream",
     "text": [
      "Mean number of campaigns: 4.55050505050505\n",
      "Median number of campaigns: 4.0\n",
      "Max number of campaigns: 17\n",
      "25% of the households have benefited from 2.0 campaigns or less.\n",
      "75% of the households have benefited from 6.0 campaigns or less.\n",
      "95% of the households have benefited from 10.0 campaigns or less.\n"
     ]
    }
   ],
   "source": [
    "print('Mean number of campaigns:', df_campaign_table.groupby(by = 'household_key').CAMPAIGN.count().mean())\n",
    "print('Median number of campaigns:', df_campaign_table.groupby(by = 'household_key').CAMPAIGN.count().median())\n",
    "print('Max number of campaigns:', df_campaign_table.groupby(by = 'household_key').CAMPAIGN.count().max())\n",
    "print('25% of the households have benefited from', df_campaign_table.groupby(by = 'household_key').CAMPAIGN.count().quantile(q = 0.25),\n",
    "      'campaigns or less.')\n",
    "print('75% of the households have benefited from', df_campaign_table.groupby(by = 'household_key').CAMPAIGN.count().quantile(q = 0.75),\n",
    "      'campaigns or less.')\n",
    "print('95% of the households have benefited from', df_campaign_table.groupby(by = 'household_key').CAMPAIGN.count().quantile(q = 0.95),\n",
    "      'campaigns or less.')"
   ]
  },
  {
   "cell_type": "markdown",
   "metadata": {},
   "source": [
    "We can now move to more advanced analysis. Let's start by combining this data with the coupon data."
   ]
  },
  {
   "cell_type": "code",
   "execution_count": 45,
   "metadata": {},
   "outputs": [
    {
     "data": {
      "text/html": [
       "<div>\n",
       "<style scoped>\n",
       "    .dataframe tbody tr th:only-of-type {\n",
       "        vertical-align: middle;\n",
       "    }\n",
       "\n",
       "    .dataframe tbody tr th {\n",
       "        vertical-align: top;\n",
       "    }\n",
       "\n",
       "    .dataframe thead th {\n",
       "        text-align: right;\n",
       "    }\n",
       "</style>\n",
       "<table border=\"1\" class=\"dataframe\">\n",
       "  <thead>\n",
       "    <tr style=\"text-align: right;\">\n",
       "      <th></th>\n",
       "      <th>DESCRIPTION</th>\n",
       "      <th>START_DAY</th>\n",
       "      <th>END_DAY</th>\n",
       "      <th>DURATION</th>\n",
       "      <th>DISTRIBUTED</th>\n",
       "      <th>REDEEMED</th>\n",
       "      <th>BENEFICIARY</th>\n",
       "    </tr>\n",
       "    <tr>\n",
       "      <th>CAMPAIGN</th>\n",
       "      <th></th>\n",
       "      <th></th>\n",
       "      <th></th>\n",
       "      <th></th>\n",
       "      <th></th>\n",
       "      <th></th>\n",
       "      <th></th>\n",
       "    </tr>\n",
       "  </thead>\n",
       "  <tbody>\n",
       "    <tr>\n",
       "      <td>1</td>\n",
       "      <td>TypeB</td>\n",
       "      <td>346</td>\n",
       "      <td>383</td>\n",
       "      <td>37</td>\n",
       "      <td>383</td>\n",
       "      <td>363.0</td>\n",
       "      <td>13</td>\n",
       "    </tr>\n",
       "    <tr>\n",
       "      <td>2</td>\n",
       "      <td>TypeB</td>\n",
       "      <td>351</td>\n",
       "      <td>383</td>\n",
       "      <td>32</td>\n",
       "      <td>301</td>\n",
       "      <td>78.0</td>\n",
       "      <td>48</td>\n",
       "    </tr>\n",
       "    <tr>\n",
       "      <td>3</td>\n",
       "      <td>TypeC</td>\n",
       "      <td>356</td>\n",
       "      <td>412</td>\n",
       "      <td>56</td>\n",
       "      <td>740</td>\n",
       "      <td>392.0</td>\n",
       "      <td>12</td>\n",
       "    </tr>\n",
       "    <tr>\n",
       "      <td>4</td>\n",
       "      <td>TypeB</td>\n",
       "      <td>372</td>\n",
       "      <td>404</td>\n",
       "      <td>32</td>\n",
       "      <td>200</td>\n",
       "      <td>84.0</td>\n",
       "      <td>81</td>\n",
       "    </tr>\n",
       "    <tr>\n",
       "      <td>5</td>\n",
       "      <td>TypeB</td>\n",
       "      <td>377</td>\n",
       "      <td>411</td>\n",
       "      <td>34</td>\n",
       "      <td>443</td>\n",
       "      <td>97.0</td>\n",
       "      <td>166</td>\n",
       "    </tr>\n",
       "  </tbody>\n",
       "</table>\n",
       "</div>"
      ],
      "text/plain": [
       "         DESCRIPTION  START_DAY  END_DAY  DURATION  DISTRIBUTED  REDEEMED  \\\n",
       "CAMPAIGN                                                                    \n",
       "1              TypeB        346      383        37          383     363.0   \n",
       "2              TypeB        351      383        32          301      78.0   \n",
       "3              TypeC        356      412        56          740     392.0   \n",
       "4              TypeB        372      404        32          200      84.0   \n",
       "5              TypeB        377      411        34          443      97.0   \n",
       "\n",
       "          BENEFICIARY  \n",
       "CAMPAIGN               \n",
       "1                  13  \n",
       "2                  48  \n",
       "3                  12  \n",
       "4                  81  \n",
       "5                 166  "
      ]
     },
     "execution_count": 45,
     "metadata": {},
     "output_type": "execute_result"
    }
   ],
   "source": [
    "df_campaign_desc.sort_values(by = 'CAMPAIGN', inplace = True)\n",
    "df_campaign_desc.set_index(keys = 'CAMPAIGN', drop = True, inplace = True)\n",
    "df_campaign_desc['DISTRIBUTED'] = df_coupon.groupby(by = 'CAMPAIGN').REDEEMED.count() #Number of coupons distributed\n",
    "df_campaign_desc['REDEEMED'] = df_coupon[~df_coupon['REDEEMED']].groupby(by = 'CAMPAIGN').REDEEMED.count() #Number of coupons redeemed\n",
    "df_campaign_desc.fillna(0, inplace = True) \n",
    "df_campaign_desc['BENEFICIARY'] = df_campaign_table.groupby(by = 'CAMPAIGN').DESCRIPTION.count() #Number of beneficiary households\n",
    "df_campaign_desc.head()"
   ]
  },
  {
   "cell_type": "markdown",
   "metadata": {},
   "source": [
    "Let's observe these results in a bar plot. For each campaign we plot the amount of coupon distributed and redeemed, and we add the type of the campaign."
   ]
  },
  {
   "cell_type": "code",
   "execution_count": 46,
   "metadata": {},
   "outputs": [
    {
     "data": {
      "image/png": "[encoded data removed]",
      "text/plain": [
       "<Figure size 1152x504 with 1 Axes>"
      ]
     },
     "metadata": {
      "needs_background": "light"
     },
     "output_type": "display_data"
    }
   ],
   "source": [
    "# set width of bar\n",
    "barWidth = 0.4\n",
    " \n",
    "# set height of bar\n",
    "coupon_distributed = df_campaign_desc['DISTRIBUTED']\n",
    "coupon_redeemed = df_campaign_desc['REDEEMED']\n",
    " \n",
    "# Set position of bar on X axis\n",
    "r = np.arange(len(coupon_distributed)+1)\n",
    "r1 = [x - barWidth/2 for x in r[1:]]\n",
    "r2 = [x + barWidth/2 for x in r[1:]]\n",
    " \n",
    "# Make the plot\n",
    "plt.bar(r1, coupon_distributed, width=barWidth, edgecolor='white', label='Distributed coupons')\n",
    "plt.bar(r2, coupon_redeemed, width=barWidth, edgecolor='white', label='Redeemed coupons')\n",
    "plt.yscale('log') #Better visualizations because very different amounts of coupon between campaign\n",
    " \n",
    "# Attach a text label above each bar in *bars*, displaying the campaign type\n",
    "type_c = df_campaign_desc.DESCRIPTION.values\n",
    "for i in range(len(coupon_distributed.values)):    \n",
    "    plt.annotate('{}'.format(type_c[i]),\n",
    "                xy=(r[i+1], coupon_distributed.values[i]),\n",
    "                xytext=(0, 3),  # 3 points vertical offset\n",
    "                textcoords=\"offset points\",\n",
    "                ha='center', va='bottom',\n",
    "                fontweight = 'bold',\n",
    "                fontsize = 8)\n",
    "  \n",
    "    \n",
    "# Add title and legend\n",
    "plt.title('Amount of coupon per campaign')\n",
    "plt.xlabel('Campaign')\n",
    "plt.xticks(df_campaign_desc.index)\n",
    "plt.ylabel('Amount of coupon')\n",
    "plt.legend()\n",
    "plt.show()"
   ]
  },
  {
   "cell_type": "markdown",
   "metadata": {},
   "source": [
    "We can see the difference between the amount of coupon distributed and redeemed differs a lot from one campaign to another. It goes from cases where it is nearly null (such as campaign 1) to extreme cases where no coupons were redeemed (such as in campaigns 6, 15 and 24). To understand what happened here, we will need to inspect more precisely each campaign and join our results with data about the products and the transactions."
   ]
  },
  {
   "cell_type": "markdown",
   "metadata": {},
   "source": [
    "To do some further analysis, we will create a function *products_categories()* taking the number of a campaign and plotting the repartition of products for which coupons were offered and were redeemed based on the categories previously defined. It will also return these 2 repartitions as dictionaries with the proportion of each category as values and the categories as keys. A parameter *show_plot* will enable to show or not the plot (if only the proportions are needed). Note that the proportions for the coupons redeemed are computed as the proportion out of the total number of coupons distributed (i.e. 20% coupons redeemed in 'meat' means that 20% of the coupons distributed were redeemed for 'meat'). This is not the same as saying that 20% of the coupons redeemed were for 'meat'."
   ]
  },
  {
   "cell_type": "code",
   "execution_count": 55,
   "metadata": {},
   "outputs": [],
   "source": [
    "#Create df with all remaining products (even non-food products)\n",
    "df_left_all = df_products[~df_products.index.isin(np.concatenate((df_meat.index,df_seafood.index, df_sweets_snack.index, df_fruits.index, df_vegetable.index, df_beverage.index, df_veg_animal.index, df_condiments.index, df_carbs.index, df_meals.index)))]"
   ]
  },
  {
   "cell_type": "code",
   "execution_count": 56,
   "metadata": {},
   "outputs": [],
   "source": [
    "categories = ['Meat', 'Seafood', 'Sweet snacks', 'Fruits', 'Vegetables', 'Veg animal', 'Beverage', 'Condiments', 'Carbs', 'Meals', 'Other']\n",
    "df_list = (df_meat, df_seafood, df_sweets_snack, df_fruits, df_vegetable, \n",
    "           df_veg_animal, df_beverage, df_condiments, df_carbs, df_meals, df_left_all)\n",
    "\n",
    "def products_categories(num_camp, show_plot = False):\n",
    "    proportions_dist = dict.fromkeys(categories)\n",
    "    proportions_red = dict.fromkeys(categories)\n",
    "    \n",
    "    #Compute the number of coupons in each category\n",
    "    for categ,df in enumerate(df_list):\n",
    "        #Check if coupon of a category are given for a specific campaign, otherwise simply puts 0 coupons (for coupons distributed)\n",
    "        if num_camp in df.merge(df_coupon, on = 'PRODUCT_ID').groupby(by = 'CAMPAIGN').count().index:\n",
    "            proportions_dist[categories[categ]] = df.merge(df_coupon, on = 'PRODUCT_ID').groupby(by = 'CAMPAIGN').count().loc[num_camp][1] \n",
    "        else:\n",
    "            proportions_dist[categories[categ]] = 0\n",
    "        #Check if coupon of a category are given for a specific campaign, otherwise simply puts 0 coupons (for coupons redeemed)    \n",
    "        if num_camp in df.merge(df_coupon[df_coupon.REDEEMED], on = 'PRODUCT_ID').groupby(by = 'CAMPAIGN').count().index:  \n",
    "            proportions_red[categories[categ]] = df.merge(df_coupon[df_coupon.REDEEMED],\n",
    "                                                          on = 'PRODUCT_ID').groupby(by = 'CAMPAIGN').count().loc[num_camp][1] \n",
    "        else:\n",
    "            proportions_red[categories[categ]] = 0\n",
    "    '''    \n",
    "    proportions['Meat'] = df_meat.merge(df_coupon, on = 'PRODUCT_ID').groupby(by = 'CAMPAIGN').count().loc[num_camp,1]\n",
    "    proportions['Seafood'] = df_seafood.merge(df_coupon, on = 'PRODUCT_ID').groupby(by = 'CAMPAIGN').count().loc[num_camp,1]\n",
    "    proportions['Sweet snacks'] = df_sweets_snack.merge(df_coupon, on = 'PRODUCT_ID').groupby(by = 'CAMPAIGN').count().loc[num_camp,1]\n",
    "    proportions['Fruits'] = df_fruits.merge(df_coupon, on = 'PRODUCT_ID').groupby(by = 'CAMPAIGN').count().loc[num_camp,1]\n",
    "    proportions['Vegetables'] = df_vegetable.merge(df_coupon, on = 'PRODUCT_ID').groupby(by = 'CAMPAIGN').count().loc[num_camp,1]\n",
    "    proportions['Veg animal'] = df_veg_animal.merge(df_coupon, on = 'PRODUCT_ID').groupby(by = 'CAMPAIGN').count().loc[num_camp,1]\n",
    "    proportions['Beverage'] = df_beverage.merge(df_coupon, on = 'PRODUCT_ID').groupby(by = 'CAMPAIGN').count().loc[num_camp,1]\n",
    "    proportions['Condiments'] = df_condiments.merge(df_coupon, on = 'PRODUCT_ID').groupby(by = 'CAMPAIGN').count().loc[num_camp,1]\n",
    "    proportions['Carbs'] = df_carbs.merge(df_coupon, on = 'PRODUCT_ID').groupby(by = 'CAMPAIGN').count().loc[num_camp,1]\n",
    "    proportions['Meals'] = df_meals.merge(df_coupon, on = 'PRODUCT_ID').groupby(by = 'CAMPAIGN').count().loc[num_camp,1]\n",
    "    proportions['Other'] = df_left.merge(df_coupon, on = 'PRODUCT_ID').groupby(by = 'CAMPAIGN').count().loc[num_camp,1]\n",
    "    '''\n",
    "    \n",
    "    #Compute the proportion as percentage\n",
    "        #Compute the total number of coupons distributed\n",
    "    total = 0\n",
    "    for i in proportions_dist.values(): \n",
    "           total += i \n",
    "    if total != 0:\n",
    "        #Compute proportion of coupons distributed per category\n",
    "        for key in proportions_dist.keys():\n",
    "            proportions_dist[key] = 100*proportions_dist[key]/total\n",
    "        #Compute proportion of coupons redeemed per category (proportion of the total number of coupons distributed)\n",
    "            proportions_red[key] = 100*proportions_red[key]/total\n",
    "    \n",
    "    #Plot the repartitions of products for which coupons were offered\n",
    "    if show_plot:   \n",
    "        # set width of bar\n",
    "        barWidth = 0.4\n",
    " \n",
    "        # Set position of bar on X axis\n",
    "        r = np.arange(len(proportions_dist))\n",
    "        r1 = [x - barWidth/2 for x in r]\n",
    "        r2 = [x + barWidth/2 for x in r]\n",
    " \n",
    "        # Make the plot\n",
    "        plt.bar(r1, list(proportions_dist.values()), width=barWidth, edgecolor='white', label='Distributed coupons')\n",
    "        plt.bar(r2, list(proportions_red.values()), width=barWidth, edgecolor='white', label='Redeemed coupons')\n",
    "        plt.xticks(range(len(proportions_dist)), list(proportions_dist.keys()))\n",
    "        plt.title('Proportions of coupons per category during campaign ' + str(num_camp))\n",
    "        plt.xlabel('Categories')\n",
    "        plt.ylabel('Proportion of coupons [%]')\n",
    "        plt.legend()\n",
    "        plt.show()\n",
    "\n",
    "    '''\n",
    "    else: \n",
    "        plt.bar(range(len(proportions_dist)), list(proportions_dist.values()), align='center')\n",
    "        plt.xticks(range(len(proportions_dist)), list(proportions_dist.keys()))\n",
    "        plt.title('Proportions of coupons distributed per category during campaign ' + str(num_camp))\n",
    "        plt.xlabel('Categories')\n",
    "        plt.ylabel('Proportion of coupons [%]')\n",
    "        plt.show()\n",
    "    '''\n",
    "    \n",
    "    return (proportions_dist, proportions_red)"
   ]
  },
  {
   "cell_type": "markdown",
   "metadata": {},
   "source": [
    "Let's see how the coupons distributed are spread over the different categories for campaign 4 for instance (a campaign mainly about sweet snacks)."
   ]
  },
  {
   "cell_type": "code",
   "execution_count": 57,
   "metadata": {},
   "outputs": [
    {
     "data": {
      "image/png": "[encoded data removed]",
      "text/plain": [
       "<Figure size 1152x504 with 1 Axes>"
      ]
     },
     "metadata": {
      "needs_background": "light"
     },
     "output_type": "display_data"
    }
   ],
   "source": [
    "(prop_dist, prop_red) = products_categories(4, True)"
   ]
  },
  {
   "cell_type": "markdown",
   "metadata": {},
   "source": [
    "Let's now take a more overall view, across all campaign. We will compute the proportions of coupons distributed in each category for all campaigns and plot the results in a stacked bar plot."
   ]
  },
  {
   "cell_type": "code",
   "execution_count": 58,
   "metadata": {},
   "outputs": [],
   "source": [
    "proportions_dist_overall = pd.DataFrame(columns = categories)\n",
    "for i in range(30):\n",
    "    proportions_dist_overall = proportions_dist_overall.append(products_categories(i+1)[0], ignore_index = True)\n",
    "proportions_dist_overall.set_index(df_campaign_desc.index, inplace = True)"
   ]
  },
  {
   "cell_type": "code",
   "execution_count": 50,
   "metadata": {},
   "outputs": [
    {
     "data": {
      "text/html": [
       "<div>\n",
       "<style scoped>\n",
       "    .dataframe tbody tr th:only-of-type {\n",
       "        vertical-align: middle;\n",
       "    }\n",
       "\n",
       "    .dataframe tbody tr th {\n",
       "        vertical-align: top;\n",
       "    }\n",
       "\n",
       "    .dataframe thead th {\n",
       "        text-align: right;\n",
       "    }\n",
       "</style>\n",
       "<table border=\"1\" class=\"dataframe\">\n",
       "  <thead>\n",
       "    <tr style=\"text-align: right;\">\n",
       "      <th></th>\n",
       "      <th>Meat</th>\n",
       "      <th>Seafood</th>\n",
       "      <th>Sweet snacks</th>\n",
       "      <th>Fruits</th>\n",
       "      <th>Vegetables</th>\n",
       "      <th>Veg animal</th>\n",
       "      <th>Beverage</th>\n",
       "      <th>Condiments</th>\n",
       "      <th>Carbs</th>\n",
       "      <th>Meals</th>\n",
       "      <th>Other</th>\n",
       "    </tr>\n",
       "    <tr>\n",
       "      <th>CAMPAIGN</th>\n",
       "      <th></th>\n",
       "      <th></th>\n",
       "      <th></th>\n",
       "      <th></th>\n",
       "      <th></th>\n",
       "      <th></th>\n",
       "      <th></th>\n",
       "      <th></th>\n",
       "      <th></th>\n",
       "      <th></th>\n",
       "      <th></th>\n",
       "    </tr>\n",
       "  </thead>\n",
       "  <tbody>\n",
       "    <tr>\n",
       "      <td>1</td>\n",
       "      <td>7.956600</td>\n",
       "      <td>0.000000</td>\n",
       "      <td>9.945750</td>\n",
       "      <td>17.179024</td>\n",
       "      <td>17.721519</td>\n",
       "      <td>30.560579</td>\n",
       "      <td>4.339964</td>\n",
       "      <td>0.361664</td>\n",
       "      <td>0.723327</td>\n",
       "      <td>11.211573</td>\n",
       "      <td>0.00000</td>\n",
       "    </tr>\n",
       "    <tr>\n",
       "      <td>2</td>\n",
       "      <td>7.783418</td>\n",
       "      <td>1.522843</td>\n",
       "      <td>18.274112</td>\n",
       "      <td>0.000000</td>\n",
       "      <td>16.412860</td>\n",
       "      <td>1.015228</td>\n",
       "      <td>0.676819</td>\n",
       "      <td>0.000000</td>\n",
       "      <td>25.042301</td>\n",
       "      <td>29.272420</td>\n",
       "      <td>0.00000</td>\n",
       "    </tr>\n",
       "    <tr>\n",
       "      <td>3</td>\n",
       "      <td>0.432432</td>\n",
       "      <td>0.000000</td>\n",
       "      <td>10.486486</td>\n",
       "      <td>0.000000</td>\n",
       "      <td>10.378378</td>\n",
       "      <td>5.837838</td>\n",
       "      <td>4.756757</td>\n",
       "      <td>23.675676</td>\n",
       "      <td>25.621622</td>\n",
       "      <td>18.810811</td>\n",
       "      <td>0.00000</td>\n",
       "    </tr>\n",
       "    <tr>\n",
       "      <td>4</td>\n",
       "      <td>0.000000</td>\n",
       "      <td>0.000000</td>\n",
       "      <td>57.575758</td>\n",
       "      <td>0.000000</td>\n",
       "      <td>2.651515</td>\n",
       "      <td>13.257576</td>\n",
       "      <td>0.378788</td>\n",
       "      <td>11.742424</td>\n",
       "      <td>11.742424</td>\n",
       "      <td>2.651515</td>\n",
       "      <td>0.00000</td>\n",
       "    </tr>\n",
       "    <tr>\n",
       "      <td>5</td>\n",
       "      <td>0.000000</td>\n",
       "      <td>0.000000</td>\n",
       "      <td>0.630915</td>\n",
       "      <td>0.000000</td>\n",
       "      <td>0.000000</td>\n",
       "      <td>1.261830</td>\n",
       "      <td>0.630915</td>\n",
       "      <td>0.000000</td>\n",
       "      <td>3.470032</td>\n",
       "      <td>92.744479</td>\n",
       "      <td>1.26183</td>\n",
       "    </tr>\n",
       "  </tbody>\n",
       "</table>\n",
       "</div>"
      ],
      "text/plain": [
       "              Meat   Seafood  Sweet snacks     Fruits  Vegetables  Veg animal  \\\n",
       "CAMPAIGN                                                                        \n",
       "1         7.956600  0.000000      9.945750  17.179024   17.721519   30.560579   \n",
       "2         7.783418  1.522843     18.274112   0.000000   16.412860    1.015228   \n",
       "3         0.432432  0.000000     10.486486   0.000000   10.378378    5.837838   \n",
       "4         0.000000  0.000000     57.575758   0.000000    2.651515   13.257576   \n",
       "5         0.000000  0.000000      0.630915   0.000000    0.000000    1.261830   \n",
       "\n",
       "          Beverage  Condiments      Carbs      Meals    Other  \n",
       "CAMPAIGN                                                       \n",
       "1         4.339964    0.361664   0.723327  11.211573  0.00000  \n",
       "2         0.676819    0.000000  25.042301  29.272420  0.00000  \n",
       "3         4.756757   23.675676  25.621622  18.810811  0.00000  \n",
       "4         0.378788   11.742424  11.742424   2.651515  0.00000  \n",
       "5         0.630915    0.000000   3.470032  92.744479  1.26183  "
      ]
     },
     "execution_count": 50,
     "metadata": {},
     "output_type": "execute_result"
    }
   ],
   "source": [
    "proportions_dist_overall.head()"
   ]
  },
  {
   "cell_type": "code",
   "execution_count": 59,
   "metadata": {},
   "outputs": [
    {
     "data": {
      "image/png": "[encoded data removed]",
      "text/plain": [
       "<Figure size 1152x504 with 1 Axes>"
      ]
     },
     "metadata": {
      "needs_background": "light"
     },
     "output_type": "display_data"
    }
   ],
   "source": [
    "proportions_dist_overall.plot.bar(stacked = True)\n",
    "plt.title('Proportions of coupon distributed per category for each campaign')\n",
    "plt.xticks(rotation = 'horizontal')\n",
    "plt.ylabel('Proportions of coupon [%]')\n",
    "plt.legend(loc = 5, bbox_to_anchor = (1.13,0.77))\n",
    "plt.show()"
   ]
  },
  {
   "cell_type": "markdown",
   "metadata": {},
   "source": [
    "We can do the same for the proportions of coupons redeemed per category for each campaign. Note that in this case the total will not add to 100% as not all coupons are redeemed during a campaign."
   ]
  },
  {
   "cell_type": "code",
   "execution_count": 60,
   "metadata": {},
   "outputs": [],
   "source": [
    "proportions_red_overall = pd.DataFrame(columns = categories)\n",
    "for i in range(30):\n",
    "    proportions_red_overall = proportions_red_overall.append(products_categories(i+1)[1], ignore_index = True)\n",
    "proportions_red_overall.set_index(df_campaign_desc.index, inplace = True)"
   ]
  },
  {
   "cell_type": "code",
   "execution_count": 61,
   "metadata": {},
   "outputs": [
    {
     "data": {
      "image/png": "[encoded data removed]",
      "text/plain": [
       "<Figure size 1152x504 with 1 Axes>"
      ]
     },
     "metadata": {
      "needs_background": "light"
     },
     "output_type": "display_data"
    }
   ],
   "source": [
    "proportions_red_overall.plot.bar(stacked = True)\n",
    "plt.title('Proportions of coupon redeemed per category for each campaign')\n",
    "plt.xticks(rotation = 'horizontal')\n",
    "plt.ylabel('Proportions of coupon [%]')\n",
    "plt.legend(loc = 5, bbox_to_anchor = (1.13,0.77))\n",
    "plt.show()"
   ]
  },
  {
   "cell_type": "markdown",
   "metadata": {},
   "source": [
    "As one can see, it is still quite hard to understand what is happening. We will thus group products in fewer categories: vegetarian, non-vegetarian, unknown and other. The 'unknown' category comprises all categories were the exact list of ingredients would be needed to know if it is vegetarian or not."
   ]
  },
  {
   "cell_type": "code",
   "execution_count": 65,
   "metadata": {},
   "outputs": [],
   "source": [
    "proportions_dist_final = pd.DataFrame()\n",
    "proportions_dist_final['Vegetarian'] = proportions_dist_overall['Fruits'] + proportions_dist_overall['Vegetables'] + proportions_dist_overall['Veg animal'] + proportions_dist_overall['Carbs']\n",
    "proportions_dist_final['Non-vegetarian'] = proportions_dist_overall['Meat'] + proportions_dist_overall['Seafood']\n",
    "proportions_dist_final['Unknown'] = proportions_dist_overall['Sweet snacks'] + proportions_dist_overall['Beverage'] + proportions_dist_overall['Condiments'] + proportions_dist_overall['Meals']\n",
    "proportions_dist_final['Other'] = proportions_dist_overall['Other']"
   ]
  },
  {
   "cell_type": "code",
   "execution_count": 68,
   "metadata": {},
   "outputs": [
    {
     "data": {
      "image/png": "[encoded data removed]",
      "text/plain": [
       "<Figure size 1152x504 with 1 Axes>"
      ]
     },
     "metadata": {
      "needs_background": "light"
     },
     "output_type": "display_data"
    }
   ],
   "source": [
    "proportions_dist_final.plot.bar(stacked = True, color = ['green', 'red', 'blue', 'grey'])\n",
    "plt.title('Proportions of coupon distributed per category for each campaign')\n",
    "plt.xticks(rotation = 'horizontal')\n",
    "plt.ylabel('Proportions of coupon [%]')\n",
    "plt.legend(loc = 5, bbox_to_anchor = (1.13,0.77))\n",
    "plt.show()"
   ]
  },
  {
   "cell_type": "code",
   "execution_count": 69,
   "metadata": {},
   "outputs": [],
   "source": [
    "proportions_red_final = pd.DataFrame()\n",
    "proportions_red_final['Vegetarian'] = proportions_red_overall['Fruits'] + proportions_red_overall['Vegetables'] + proportions_red_overall['Veg animal'] + proportions_red_overall['Carbs']\n",
    "proportions_red_final['Non-vegetarian'] = proportions_red_overall['Meat'] + proportions_red_overall['Seafood']\n",
    "proportions_red_final['Unknown'] = proportions_red_overall['Sweet snacks'] + proportions_red_overall['Beverage'] + proportions_red_overall['Condiments'] + proportions_red_overall['Meals']\n",
    "proportions_red_final['Other'] = proportions_red_overall['Other']"
   ]
  },
  {
   "cell_type": "code",
   "execution_count": 70,
   "metadata": {},
   "outputs": [
    {
     "data": {
      "image/png": "[encoded data removed]",
      "text/plain": [
       "<Figure size 1152x504 with 1 Axes>"
      ]
     },
     "metadata": {
      "needs_background": "light"
     },
     "output_type": "display_data"
    }
   ],
   "source": [
    "proportions_red_final.plot.bar(stacked = True, color = ['green', 'red', 'blue', 'grey'])\n",
    "plt.title('Proportions of coupon redeemed per category for each campaign')\n",
    "plt.xticks(rotation = 'horizontal')\n",
    "plt.ylabel('Proportions of coupon [%]')\n",
    "plt.legend(loc = 5, bbox_to_anchor = (1.13,0.77))\n",
    "plt.show()"
   ]
  },
  {
   "cell_type": "markdown",
   "metadata": {},
   "source": [
    "## Join Food and Transaction"
   ]
  },
  {
   "cell_type": "code",
   "execution_count": null,
   "metadata": {},
   "outputs": [],
   "source": [
    "df_food_trans = pd.merge(df_food, df_transaction, on='PRODUCT_ID', how='left')"
   ]
  },
  {
   "cell_type": "code",
   "execution_count": null,
   "metadata": {},
   "outputs": [],
   "source": [
    "number_households = len(df_food_trans[\"household_key\"].unique())\n",
    "number_households"
   ]
  },
  {
   "cell_type": "markdown",
   "metadata": {},
   "source": [
    "Let's check what percentile of the households did not buy meat and seafood products at all."
   ]
  },
  {
   "cell_type": "code",
   "execution_count": null,
   "metadata": {},
   "outputs": [],
   "source": [
    "df_meat_seafood = df_meat.append(df_seafood)\n",
    "df_meat_seafood.drop_duplicates()"
   ]
  },
  {
   "cell_type": "code",
   "execution_count": null,
   "metadata": {},
   "outputs": [],
   "source": [
    "df_meat_seafood_trans = pd.merge(df_meat_seafood, df_transaction, on='PRODUCT_ID', how='left')\n",
    "number_household_meat_seafood = len(df_meat_seafood_trans[\"household_key\"].unique())\n",
    "print(\"Number of households who did not purchased any meat or seafood: % d\" %(number_households-number_household_meat_seafood))"
   ]
  },
  {
   "cell_type": "code",
   "execution_count": null,
   "metadata": {},
   "outputs": [],
   "source": [
    "weekly_meat_sea = df_meat_seafood_trans.groupby(\"WEEK_NO\").count()[\"PRODUCT_ID\"]\n",
    "weekly_trans = df_food_trans.groupby(\"WEEK_NO\").count()[\"PRODUCT_ID\"]\n",
    "plt.plot(weekly_meat_sea)\n",
    "plt.xlabel(\"Week\")\n",
    "plt.ylabel(\"Number of Meat and Seafood Transactions\")\n",
    "plt.title(\"Meat and Seafood Transactions [Weekly]\")\n",
    "plt.show()"
   ]
  },
  {
   "cell_type": "markdown",
   "metadata": {},
   "source": [
    "Overall there is no upwards or downwards trend of meat and seafood transactions. But it is weird that the meat and seafood transactions rose rapidly in the first few weeks. It is likely that in the beginning not all transactions were caught. We take a look at the relation between the number of transactions and the number of meat and seafood transactions. If the rise in the beginning is only due to the fact that not all transactions were recorded, then the relation should be linear."
   ]
  },
  {
   "cell_type": "code",
   "execution_count": null,
   "metadata": {},
   "outputs": [],
   "source": [
    "plt.scatter(weekly_trans, weekly_meat_sea)\n",
    "plt.xlabel(\"Number of Transactions\")\n",
    "plt.ylabel(\"Number of Meat and Seafood Transactions\")\n",
    "plt.title(\"Meat and Seafood Transaction in Relation to overall Number of Transactions [Weekly]\")\n",
    "plt.show()"
   ]
  },
  {
   "cell_type": "markdown",
   "metadata": {},
   "source": [
    "The relation is indeed linear.\n",
    "\n",
    "Next we take a look at the number of households which weekly buy meat or seafood products."
   ]
  },
  {
   "cell_type": "code",
   "execution_count": null,
   "metadata": {},
   "outputs": [],
   "source": [
    "plt.plot(df_meat_seafood_trans.groupby(\"WEEK_NO\")[\"household_key\"].nunique())\n",
    "plt.xlabel(\"Week\")\n",
    "plt.ylabel(\"Number of Households that purchased Meat or Seafood\")\n",
    "plt.title(\"Households that purchased Meat and Seafood Transactions [Weekly]\")\n",
    "plt.show()"
   ]
  },
  {
   "cell_type": "markdown",
   "metadata": {},
   "source": [
    "The number again stays relatively stable at around 800-900. That is surprising, because the number of households which did purchase a meat product in the two years is 2475.\n",
    "\n",
    "Let's check the number of households, which go vegetarian in a week."
   ]
  },
  {
   "cell_type": "code",
   "execution_count": null,
   "metadata": {},
   "outputs": [],
   "source": [
    "weekly_vege = df_food_trans.groupby(\"WEEK_NO\")[\"household_key\"].nunique()-df_meat_seafood_trans.groupby(\"WEEK_NO\")[\"household_key\"].nunique()\n",
    "plt.plot(weekly_vege)\n",
    "plt.xlabel(\"Week\")\n",
    "plt.ylabel(\"Number of Households that purchased Meat or Seafood\")\n",
    "plt.title(\"Relation of overall households and households that bought meat or seafood [Weekly]\")\n",
    "plt.show()"
   ]
  },
  {
   "cell_type": "markdown",
   "metadata": {},
   "source": [
    "Surprisingly the number is super high considering that almost all households do not live completely vegetarian. Lets check the frequency of the meat and seafood purchases of all households."
   ]
  },
  {
   "cell_type": "code",
   "execution_count": null,
   "metadata": {},
   "outputs": [],
   "source": [
    "house_purchase = df_meat_seafood_trans.groupby(\"household_key\").count()[\"PRODUCT_ID\"]\n",
    "print(house_purchase)\n",
    "plt.hist(weekly_house_purchase, bins=50)\n",
    "plt.xlabel(\"Number of meat and seafood transactions\")\n",
    "plt.ylabel(\"Frequency\")\n",
    "plt.title(\"Histrogram for Meat and SEAFOOD transaction in a household\")\n",
    "plt.show()"
   ]
  },
  {
   "cell_type": "code",
   "execution_count": null,
   "metadata": {},
   "outputs": [],
   "source": [
    "house_purchase.sort_values().head(50)"
   ]
  },
  {
   "cell_type": "markdown",
   "metadata": {},
   "source": [
    "Lets check the "
   ]
  }
 ],
 "metadata": {
  "kernelspec": {
   "display_name": "Python [conda env:ada] *",
   "language": "python",
   "name": "conda-env-ada-py"
  },
  "language_info": {
   "codemirror_mode": {
    "name": "ipython",
    "version": 3
   },
   "file_extension": ".py",
   "mimetype": "text/x-python",
   "name": "python",
   "nbconvert_exporter": "python",
   "pygments_lexer": "ipython3",
   "version": "3.7.4"
  }
 },
 "nbformat": 4,
 "nbformat_minor": 4
}
