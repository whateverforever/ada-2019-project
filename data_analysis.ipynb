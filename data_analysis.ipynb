{
 "cells": [
  {
   "cell_type": "code",
   "execution_count": 74,
   "metadata": {},
   "outputs": [],
   "source": [
    "import pandas as pd\n",
    "import numpy as np\n",
    "import re\n",
    "import matplotlib.pyplot as plt\n",
    "from scipy import stats"
   ]
  },
  {
   "cell_type": "code",
   "execution_count": 75,
   "metadata": {},
   "outputs": [],
   "source": [
    "plt.rcParams[\"figure.figsize\"] = (16, 7)"
   ]
  },
  {
   "cell_type": "code",
   "execution_count": 76,
   "metadata": {},
   "outputs": [
    {
     "data": {
      "text/html": [
       "<style>\n",
       "  table {margin-left: 0 !important;}\n",
       "</style>\n"
      ],
      "text/plain": [
       "<IPython.core.display.HTML object>"
      ]
     },
     "metadata": {},
     "output_type": "display_data"
    }
   ],
   "source": [
    "%%html\n",
    "<style>\n",
    "  table {margin-left: 0 !important;}\n",
    "</style>"
   ]
  },
  {
   "cell_type": "markdown",
   "metadata": {},
   "source": [
    "# Overview of the data structure: \n",
    "Our main dataset [Dunnhumby - The complete journey](https://www.dunnhumby.com/careers/engineering/sourcefiles) comprises 8 csv files with the following tabular structure and content.\n",
    "\n",
    "#### Campaign Desc\n",
    "> This table gives the length of time for which a campaign runs. So, any coupons received as part of a campaign are valid within the dates contained in this table.\n",
    "\n",
    "Description | Campaign ID | Start and End Day\n",
    "--- | --- | ---\n",
    "{TypeA, TypeB, TypeC} | int | int (probably day count from study)\n",
    "\n",
    "\n",
    "#### Campaign Table\n",
    "> This table lists the campaigns received by each household in the study. Each household received a different set of campaigns.\n",
    "\n",
    "Description | Campaign ID | Household key\n",
    "--- | --- | ---\n",
    "{TypeA, TypeB, TypeC} | int | int\n",
    "\n",
    "\n",
    "#### Casual Data\n",
    "> This table signifies whether a given product was featured in the weekly mailer or was part of an in-store display (other than regular product placement).\n",
    "\n",
    "Product ID | Store ID | Week | Display location | Mailer location\n",
    "--- | --- | --- | --- | --- \n",
    "int | int | int | int | String\n",
    " | | | Advertisement in in-store display? | Featured as ad in weekly mailer\n",
    " \n",
    " \n",
    "#### Coupon Redemption\n",
    "Household ID | Day | Coupon ID | Campaign ID \n",
    "--- | --- | --- | --- \n",
    "int | int | int | int \n",
    "\n",
    "\n",
    "#### Coupon\n",
    "> This table lists all the coupons sent to customers as part of a campaign, as well as the products for which each coupon is redeemable. Some coupons are redeemable for multiple products. \n",
    "\n",
    "Coupon ID | Product ID | Campaign ID \n",
    "--- | --- | ---  \n",
    "int | int | int \n",
    "\n",
    "\n",
    "#### Demographic\n",
    "> This table contains demographic information for a portion of households. Due to nature of the data, the demographic information is not available for all households.\n",
    "\n",
    "Age | Marital Status Code | Income | Homeowner | Household composition | Household size | Number of kids | Household Id\n",
    "--- | --- | --- | --- | --- | --- | --- | --- |\n",
    "(19-65+) | {A: Married, B: Single, U: Unknown} | | {Homeowner, Retired, etc.} | {Female/Male single, adults with/without kids, etc.} || (1-3+) |\n",
    "\n",
    "\n",
    "#### Products\n",
    "Product Id | Manufacturer Id | Departement  | Brand | Commodity description | Sub commodity description | Size\n",
    "--- | --- | --- | --- | --- | --- | --- \n",
    " | | {grocery, pastry, etc.} | {national/private} | | |\n",
    " \n",
    " \n",
    "### Transaction\n",
    "> This table contains all products purchased by households within this study. Each line found in this table is essentially the same line that would be found on a store receipt.\n",
    "\n",
    "Household Id | Manufacturer Id | Week | Day | Time of Day | Product Id | Quantity | Sales value | Store Id | Retail discount | Coupon discount | Coupon match discount\n",
    "--- | --- | --- | --- | --- | --- | --- | --- | --- | --- | --- | --- | \n",
    " | | | | | | | What the shop actually gets | | | Loyalty program of retailer | Shop does not get price before discount | Shop does get price before discount"
   ]
  },
  {
   "cell_type": "markdown",
   "metadata": {},
   "source": [
    "# Loading the data"
   ]
  },
  {
   "cell_type": "markdown",
   "metadata": {},
   "source": [
    "Let's start by loading the data in pandas dataframes."
   ]
  },
  {
   "cell_type": "markdown",
   "metadata": {},
   "source": [
    "## Campaign description"
   ]
  },
  {
   "cell_type": "code",
   "execution_count": 77,
   "metadata": {},
   "outputs": [
    {
     "name": "stdout",
     "output_type": "stream",
     "text": [
      "(30, 4)\n"
     ]
    },
    {
     "data": {
      "text/html": [
       "<div>\n",
       "<style scoped>\n",
       "    .dataframe tbody tr th:only-of-type {\n",
       "        vertical-align: middle;\n",
       "    }\n",
       "\n",
       "    .dataframe tbody tr th {\n",
       "        vertical-align: top;\n",
       "    }\n",
       "\n",
       "    .dataframe thead th {\n",
       "        text-align: right;\n",
       "    }\n",
       "</style>\n",
       "<table border=\"1\" class=\"dataframe\">\n",
       "  <thead>\n",
       "    <tr style=\"text-align: right;\">\n",
       "      <th></th>\n",
       "      <th>description</th>\n",
       "      <th>campaign</th>\n",
       "      <th>start_day</th>\n",
       "      <th>end_day</th>\n",
       "    </tr>\n",
       "  </thead>\n",
       "  <tbody>\n",
       "    <tr>\n",
       "      <td>0</td>\n",
       "      <td>TypeB</td>\n",
       "      <td>24</td>\n",
       "      <td>659</td>\n",
       "      <td>719</td>\n",
       "    </tr>\n",
       "    <tr>\n",
       "      <td>1</td>\n",
       "      <td>TypeC</td>\n",
       "      <td>15</td>\n",
       "      <td>547</td>\n",
       "      <td>708</td>\n",
       "    </tr>\n",
       "    <tr>\n",
       "      <td>2</td>\n",
       "      <td>TypeB</td>\n",
       "      <td>25</td>\n",
       "      <td>659</td>\n",
       "      <td>691</td>\n",
       "    </tr>\n",
       "    <tr>\n",
       "      <td>3</td>\n",
       "      <td>TypeC</td>\n",
       "      <td>20</td>\n",
       "      <td>615</td>\n",
       "      <td>685</td>\n",
       "    </tr>\n",
       "    <tr>\n",
       "      <td>4</td>\n",
       "      <td>TypeB</td>\n",
       "      <td>23</td>\n",
       "      <td>646</td>\n",
       "      <td>684</td>\n",
       "    </tr>\n",
       "  </tbody>\n",
       "</table>\n",
       "</div>"
      ],
      "text/plain": [
       "  description  campaign  start_day  end_day\n",
       "0       TypeB        24        659      719\n",
       "1       TypeC        15        547      708\n",
       "2       TypeB        25        659      691\n",
       "3       TypeC        20        615      685\n",
       "4       TypeB        23        646      684"
      ]
     },
     "execution_count": 77,
     "metadata": {},
     "output_type": "execute_result"
    }
   ],
   "source": [
    "df_campaign_desc = pd.read_csv('dunnhumby/campaign_desc.csv')\n",
    "df_campaign_desc.columns = map(str.lower, df_campaign_desc.columns)\n",
    "print(df_campaign_desc.shape)\n",
    "df_campaign_desc.head()"
   ]
  },
  {
   "cell_type": "code",
   "execution_count": 78,
   "metadata": {},
   "outputs": [
    {
     "name": "stdout",
     "output_type": "stream",
     "text": [
      "Total number of campaigns: 30 \n",
      "Unique description values: ['TypeB' 'TypeC' 'TypeA'] \n"
     ]
    }
   ],
   "source": [
    "print('Total number of campaigns: {} '.format(len(df_campaign_desc.campaign)))\n",
    "print('Unique description values: {} '.format(df_campaign_desc.description.unique()))"
   ]
  },
  {
   "cell_type": "code",
   "execution_count": 79,
   "metadata": {},
   "outputs": [
    {
     "data": {
      "text/html": [
       "<div>\n",
       "<style scoped>\n",
       "    .dataframe tbody tr th:only-of-type {\n",
       "        vertical-align: middle;\n",
       "    }\n",
       "\n",
       "    .dataframe tbody tr th {\n",
       "        vertical-align: top;\n",
       "    }\n",
       "\n",
       "    .dataframe thead th {\n",
       "        text-align: right;\n",
       "    }\n",
       "</style>\n",
       "<table border=\"1\" class=\"dataframe\">\n",
       "  <thead>\n",
       "    <tr style=\"text-align: right;\">\n",
       "      <th></th>\n",
       "      <th>description</th>\n",
       "      <th>campaign</th>\n",
       "      <th>start_day</th>\n",
       "      <th>end_day</th>\n",
       "      <th>duration</th>\n",
       "    </tr>\n",
       "  </thead>\n",
       "  <tbody>\n",
       "    <tr>\n",
       "      <td>0</td>\n",
       "      <td>TypeA</td>\n",
       "      <td>26</td>\n",
       "      <td>224</td>\n",
       "      <td>264</td>\n",
       "      <td>40</td>\n",
       "    </tr>\n",
       "    <tr>\n",
       "      <td>1</td>\n",
       "      <td>TypeA</td>\n",
       "      <td>30</td>\n",
       "      <td>323</td>\n",
       "      <td>369</td>\n",
       "      <td>46</td>\n",
       "    </tr>\n",
       "    <tr>\n",
       "      <td>2</td>\n",
       "      <td>TypeA</td>\n",
       "      <td>13</td>\n",
       "      <td>504</td>\n",
       "      <td>551</td>\n",
       "      <td>47</td>\n",
       "    </tr>\n",
       "    <tr>\n",
       "      <td>3</td>\n",
       "      <td>TypeA</td>\n",
       "      <td>8</td>\n",
       "      <td>412</td>\n",
       "      <td>460</td>\n",
       "      <td>48</td>\n",
       "    </tr>\n",
       "    <tr>\n",
       "      <td>4</td>\n",
       "      <td>TypeA</td>\n",
       "      <td>18</td>\n",
       "      <td>587</td>\n",
       "      <td>642</td>\n",
       "      <td>55</td>\n",
       "    </tr>\n",
       "    <tr>\n",
       "      <td>5</td>\n",
       "      <td>TypeB</td>\n",
       "      <td>25</td>\n",
       "      <td>659</td>\n",
       "      <td>691</td>\n",
       "      <td>32</td>\n",
       "    </tr>\n",
       "    <tr>\n",
       "      <td>6</td>\n",
       "      <td>TypeB</td>\n",
       "      <td>21</td>\n",
       "      <td>624</td>\n",
       "      <td>656</td>\n",
       "      <td>32</td>\n",
       "    </tr>\n",
       "    <tr>\n",
       "      <td>7</td>\n",
       "      <td>TypeB</td>\n",
       "      <td>22</td>\n",
       "      <td>624</td>\n",
       "      <td>656</td>\n",
       "      <td>32</td>\n",
       "    </tr>\n",
       "    <tr>\n",
       "      <td>8</td>\n",
       "      <td>TypeB</td>\n",
       "      <td>19</td>\n",
       "      <td>603</td>\n",
       "      <td>635</td>\n",
       "      <td>32</td>\n",
       "    </tr>\n",
       "    <tr>\n",
       "      <td>9</td>\n",
       "      <td>TypeB</td>\n",
       "      <td>17</td>\n",
       "      <td>575</td>\n",
       "      <td>607</td>\n",
       "      <td>32</td>\n",
       "    </tr>\n",
       "  </tbody>\n",
       "</table>\n",
       "</div>"
      ],
      "text/plain": [
       "  description  campaign  start_day  end_day  duration\n",
       "0       TypeA        26        224      264        40\n",
       "1       TypeA        30        323      369        46\n",
       "2       TypeA        13        504      551        47\n",
       "3       TypeA         8        412      460        48\n",
       "4       TypeA        18        587      642        55\n",
       "5       TypeB        25        659      691        32\n",
       "6       TypeB        21        624      656        32\n",
       "7       TypeB        22        624      656        32\n",
       "8       TypeB        19        603      635        32\n",
       "9       TypeB        17        575      607        32"
      ]
     },
     "execution_count": 79,
     "metadata": {},
     "output_type": "execute_result"
    }
   ],
   "source": [
    "# Add duration column to dataframe\n",
    "df_campaign_desc['duration'] = df_campaign_desc['end_day'] - df_campaign_desc['start_day'] \n",
    "df_campaign_desc.sort_values(by = ['description', 'duration']).reset_index(drop=True).head(10)"
   ]
  },
  {
   "cell_type": "markdown",
   "metadata": {},
   "source": [
    "We can see that the longest campaign was on for 40 days."
   ]
  },
  {
   "cell_type": "code",
   "execution_count": 80,
   "metadata": {},
   "outputs": [
    {
     "name": "stdout",
     "output_type": "stream",
     "text": [
      "Campaigns of TypeA range between 40 and 55 days\n",
      "with a mean duration of 47.20 days and a median duration of 47.00 days. \n",
      "\n",
      "Campaigns of TypeB range between 32 and 61 days\n",
      "with a mean duration of 37.63 days and a median duration of 32.00 days. \n",
      "\n",
      "Campaigns of TypeC range between 32 and 161 days\n",
      "with a mean duration of 74.50 days and a median duration of 64.00 days. \n",
      "\n"
     ]
    }
   ],
   "source": [
    "for camp in ['TypeA', 'TypeB', 'TypeC']:\n",
    "    print('Campaigns of %s range between %d and %d days' %(camp, df_campaign_desc[df_campaign_desc.description == camp].duration.min(),\n",
    "                                                     df_campaign_desc[df_campaign_desc.description == camp].duration.max()))\n",
    "    print('with a mean duration of %.2f days and a median duration of %.2f days. \\n' \n",
    "            %(df_campaign_desc[df_campaign_desc.description == camp].duration.mean(),\n",
    "              df_campaign_desc[df_campaign_desc.description == camp].duration.median()))"
   ]
  },
  {
   "cell_type": "markdown",
   "metadata": {},
   "source": [
    "## Campaign table"
   ]
  },
  {
   "cell_type": "code",
   "execution_count": 81,
   "metadata": {},
   "outputs": [
    {
     "name": "stdout",
     "output_type": "stream",
     "text": [
      "(7208, 3)\n"
     ]
    },
    {
     "data": {
      "text/html": [
       "<div>\n",
       "<style scoped>\n",
       "    .dataframe tbody tr th:only-of-type {\n",
       "        vertical-align: middle;\n",
       "    }\n",
       "\n",
       "    .dataframe tbody tr th {\n",
       "        vertical-align: top;\n",
       "    }\n",
       "\n",
       "    .dataframe thead th {\n",
       "        text-align: right;\n",
       "    }\n",
       "</style>\n",
       "<table border=\"1\" class=\"dataframe\">\n",
       "  <thead>\n",
       "    <tr style=\"text-align: right;\">\n",
       "      <th></th>\n",
       "      <th>description</th>\n",
       "      <th>household_key</th>\n",
       "      <th>campaign</th>\n",
       "    </tr>\n",
       "  </thead>\n",
       "  <tbody>\n",
       "    <tr>\n",
       "      <td>0</td>\n",
       "      <td>TypeA</td>\n",
       "      <td>17</td>\n",
       "      <td>26</td>\n",
       "    </tr>\n",
       "    <tr>\n",
       "      <td>1</td>\n",
       "      <td>TypeA</td>\n",
       "      <td>27</td>\n",
       "      <td>26</td>\n",
       "    </tr>\n",
       "    <tr>\n",
       "      <td>2</td>\n",
       "      <td>TypeA</td>\n",
       "      <td>212</td>\n",
       "      <td>26</td>\n",
       "    </tr>\n",
       "    <tr>\n",
       "      <td>3</td>\n",
       "      <td>TypeA</td>\n",
       "      <td>208</td>\n",
       "      <td>26</td>\n",
       "    </tr>\n",
       "    <tr>\n",
       "      <td>4</td>\n",
       "      <td>TypeA</td>\n",
       "      <td>192</td>\n",
       "      <td>26</td>\n",
       "    </tr>\n",
       "  </tbody>\n",
       "</table>\n",
       "</div>"
      ],
      "text/plain": [
       "  description  household_key  campaign\n",
       "0       TypeA             17        26\n",
       "1       TypeA             27        26\n",
       "2       TypeA            212        26\n",
       "3       TypeA            208        26\n",
       "4       TypeA            192        26"
      ]
     },
     "execution_count": 81,
     "metadata": {},
     "output_type": "execute_result"
    }
   ],
   "source": [
    "df_campaign_table = pd.read_csv('dunnhumby/campaign_table.csv')\n",
    "df_campaign_table.columns = map(str.lower, df_campaign_table.columns)\n",
    "print(df_campaign_table.shape)\n",
    "df_campaign_table.head()"
   ]
  },
  {
   "cell_type": "markdown",
   "metadata": {},
   "source": [
    "Since both campaign tables (one containing the data and the other providing further descriptions regarding each campaign) have one \"key\" in common, namely the `campaign id` we can join (full outer join) these two tables in order to have all information in one place."
   ]
  },
  {
   "cell_type": "code",
   "execution_count": 82,
   "metadata": {},
   "outputs": [
    {
     "data": {
      "text/html": [
       "<div>\n",
       "<style scoped>\n",
       "    .dataframe tbody tr th:only-of-type {\n",
       "        vertical-align: middle;\n",
       "    }\n",
       "\n",
       "    .dataframe tbody tr th {\n",
       "        vertical-align: top;\n",
       "    }\n",
       "\n",
       "    .dataframe thead th {\n",
       "        text-align: right;\n",
       "    }\n",
       "</style>\n",
       "<table border=\"1\" class=\"dataframe\">\n",
       "  <thead>\n",
       "    <tr style=\"text-align: right;\">\n",
       "      <th></th>\n",
       "      <th>description_x</th>\n",
       "      <th>campaign</th>\n",
       "      <th>start_day</th>\n",
       "      <th>end_day</th>\n",
       "      <th>duration</th>\n",
       "      <th>household_key</th>\n",
       "    </tr>\n",
       "  </thead>\n",
       "  <tbody>\n",
       "    <tr>\n",
       "      <td>0</td>\n",
       "      <td>TypeB</td>\n",
       "      <td>24</td>\n",
       "      <td>659</td>\n",
       "      <td>719</td>\n",
       "      <td>60</td>\n",
       "      <td>31</td>\n",
       "    </tr>\n",
       "    <tr>\n",
       "      <td>1</td>\n",
       "      <td>TypeB</td>\n",
       "      <td>24</td>\n",
       "      <td>659</td>\n",
       "      <td>719</td>\n",
       "      <td>60</td>\n",
       "      <td>149</td>\n",
       "    </tr>\n",
       "    <tr>\n",
       "      <td>2</td>\n",
       "      <td>TypeB</td>\n",
       "      <td>24</td>\n",
       "      <td>659</td>\n",
       "      <td>719</td>\n",
       "      <td>60</td>\n",
       "      <td>332</td>\n",
       "    </tr>\n",
       "    <tr>\n",
       "      <td>3</td>\n",
       "      <td>TypeB</td>\n",
       "      <td>24</td>\n",
       "      <td>659</td>\n",
       "      <td>719</td>\n",
       "      <td>60</td>\n",
       "      <td>371</td>\n",
       "    </tr>\n",
       "    <tr>\n",
       "      <td>4</td>\n",
       "      <td>TypeB</td>\n",
       "      <td>24</td>\n",
       "      <td>659</td>\n",
       "      <td>719</td>\n",
       "      <td>60</td>\n",
       "      <td>518</td>\n",
       "    </tr>\n",
       "    <tr>\n",
       "      <td>5</td>\n",
       "      <td>TypeB</td>\n",
       "      <td>24</td>\n",
       "      <td>659</td>\n",
       "      <td>719</td>\n",
       "      <td>60</td>\n",
       "      <td>553</td>\n",
       "    </tr>\n",
       "    <tr>\n",
       "      <td>6</td>\n",
       "      <td>TypeB</td>\n",
       "      <td>24</td>\n",
       "      <td>659</td>\n",
       "      <td>719</td>\n",
       "      <td>60</td>\n",
       "      <td>766</td>\n",
       "    </tr>\n",
       "    <tr>\n",
       "      <td>7</td>\n",
       "      <td>TypeB</td>\n",
       "      <td>24</td>\n",
       "      <td>659</td>\n",
       "      <td>719</td>\n",
       "      <td>60</td>\n",
       "      <td>706</td>\n",
       "    </tr>\n",
       "    <tr>\n",
       "      <td>8</td>\n",
       "      <td>TypeB</td>\n",
       "      <td>24</td>\n",
       "      <td>659</td>\n",
       "      <td>719</td>\n",
       "      <td>60</td>\n",
       "      <td>690</td>\n",
       "    </tr>\n",
       "    <tr>\n",
       "      <td>9</td>\n",
       "      <td>TypeB</td>\n",
       "      <td>24</td>\n",
       "      <td>659</td>\n",
       "      <td>719</td>\n",
       "      <td>60</td>\n",
       "      <td>676</td>\n",
       "    </tr>\n",
       "  </tbody>\n",
       "</table>\n",
       "</div>"
      ],
      "text/plain": [
       "  description_x  campaign  start_day  end_day  duration  household_key\n",
       "0         TypeB        24        659      719        60             31\n",
       "1         TypeB        24        659      719        60            149\n",
       "2         TypeB        24        659      719        60            332\n",
       "3         TypeB        24        659      719        60            371\n",
       "4         TypeB        24        659      719        60            518\n",
       "5         TypeB        24        659      719        60            553\n",
       "6         TypeB        24        659      719        60            766\n",
       "7         TypeB        24        659      719        60            706\n",
       "8         TypeB        24        659      719        60            690\n",
       "9         TypeB        24        659      719        60            676"
      ]
     },
     "execution_count": 82,
     "metadata": {},
     "output_type": "execute_result"
    }
   ],
   "source": [
    "df_campaign_full = pd.merge(df_campaign_desc, df_campaign_table, on='campaign', how='outer').rename(columns={\"descritpion_x\": \"description\"}).drop(columns='description_y')\n",
    "# Map the lowering function to all column names\n",
    "df_campaign_full.columns = map(str.lower, df_campaign_full.columns)\n",
    "df_campaign_full.head(10)"
   ]
  },
  {
   "cell_type": "markdown",
   "metadata": {},
   "source": [
    "#### Distributional analysis of how campaigns reached each household"
   ]
  },
  {
   "cell_type": "code",
   "execution_count": 83,
   "metadata": {},
   "outputs": [
    {
     "data": {
      "image/png": "[encoded data removed]",
      "text/plain": [
       "<Figure size 1152x504 with 1 Axes>"
      ]
     },
     "metadata": {
      "needs_background": "light"
     },
     "output_type": "display_data"
    }
   ],
   "source": [
    "nbins = df_campaign_table.groupby(by = 'household_key').campaign.count().max()\n",
    "df_campaign_table.groupby(by = 'household_key').campaign.count().hist(bins = nbins)\n",
    "plt.title('Distribution of how many households have benefitted from how many campaigns')\n",
    "plt.xlabel('Number of campaigns')\n",
    "plt.ylabel('Number of households')\n",
    "plt.show()"
   ]
  },
  {
   "cell_type": "markdown",
   "metadata": {},
   "source": [
    "In the above plot we can see, that most households have only benefited from 1 campaign and very few have made use of more than 10 campaigns."
   ]
  },
  {
   "cell_type": "code",
   "execution_count": 84,
   "metadata": {},
   "outputs": [
    {
     "data": {
      "text/plain": [
       "count    1584.000000\n",
       "mean        4.550505\n",
       "std         2.993988\n",
       "min         1.000000\n",
       "25%         2.000000\n",
       "50%         4.000000\n",
       "75%         6.000000\n",
       "max        17.000000\n",
       "Name: campaign, dtype: float64"
      ]
     },
     "execution_count": 84,
     "metadata": {},
     "output_type": "execute_result"
    }
   ],
   "source": [
    "df_campaign_full.groupby(by = 'household_key').campaign.count().describe()"
   ]
  },
  {
   "cell_type": "markdown",
   "metadata": {},
   "source": [
    "_Mean number of campaigns:_ ~4.55\n",
    "\n",
    "_Max number of campaigns:_ 17\n",
    "\n",
    "_Looking at the quantiles:_\n",
    "\n",
    "* 25% of the households have made use of 2 campaigns or less. \n",
    "* 75% of the households have made use of 6 campaigns or less.\n",
    "* 95% of the households have made use of 10 campaigns or less."
   ]
  },
  {
   "cell_type": "markdown",
   "metadata": {},
   "source": [
    "Let's see how many campaigns we have."
   ]
  },
  {
   "cell_type": "code",
   "execution_count": 85,
   "metadata": {},
   "outputs": [
    {
     "name": "stdout",
     "output_type": "stream",
     "text": [
      "Number of campaign:  30\n",
      "Unique description:  ['TypeA' 'TypeB' 'TypeC']\n"
     ]
    }
   ],
   "source": [
    "print('Number of campaign: ', len(df_campaign_desc.campaign))\n",
    "print('Unique description: ', df_campaign_desc.description.sort_values().unique())"
   ]
  },
  {
   "cell_type": "markdown",
   "metadata": {},
   "source": [
    "Let's see the different campaigns over time."
   ]
  },
  {
   "cell_type": "code",
   "execution_count": 86,
   "metadata": {},
   "outputs": [
    {
     "data": {
      "image/png": "[encoded data removed]",
      "text/plain": [
       "<Figure size 1152x504 with 1 Axes>"
      ]
     },
     "metadata": {
      "needs_background": "light"
     },
     "output_type": "display_data"
    }
   ],
   "source": [
    "#Split the datas per campaign type for better visualization\n",
    "beginA = df_campaign_desc[df_campaign_desc.description == 'TypeA']['start_day'].values\n",
    "endA =   df_campaign_desc[df_campaign_desc.description == 'TypeA']['end_day'].values\n",
    "beginB = df_campaign_desc[df_campaign_desc.description == 'TypeB']['start_day'].values\n",
    "endB =   df_campaign_desc[df_campaign_desc.description == 'TypeB']['end_day'].values\n",
    "beginC = df_campaign_desc[df_campaign_desc.description == 'TypeC']['start_day'].values\n",
    "endC =   df_campaign_desc[df_campaign_desc.description == 'TypeC']['end_day'].values\n",
    "\n",
    "#Plot the timespan of each campaign (note the +1 to match the indexes starting at 0 with the campaign numbers starting at 1)\n",
    "plt.barh(df_campaign_desc[df_campaign_desc.description == 'TypeA'].index.values + 1,  endA-beginA, left=beginA, \n",
    "         color = 'red', label = 'TypeA')\n",
    "plt.barh(df_campaign_desc[df_campaign_desc.description == 'TypeB'].index.values + 1,  endB-beginB, left=beginB, \n",
    "         color = 'blue', label = 'TypeB')\n",
    "plt.barh(df_campaign_desc[df_campaign_desc.description == 'TypeC'].index.values + 1,  endC-beginC, left=beginC, \n",
    "         color = 'green', label = 'TypeC')\n",
    "\n",
    "#Add title & legend\n",
    "plt.title('Timespan of each campaign')\n",
    "plt.ylabel('Campaign')\n",
    "plt.yticks(df_campaign_desc.index + 1)\n",
    "plt.xlabel('Time')\n",
    "plt.legend()\n",
    "plt.show()"
   ]
  },
  {
   "cell_type": "markdown",
   "metadata": {},
   "source": [
    "## Causal data"
   ]
  },
  {
   "cell_type": "code",
   "execution_count": 87,
   "metadata": {},
   "outputs": [
    {
     "data": {
      "text/html": [
       "<div>\n",
       "<style scoped>\n",
       "    .dataframe tbody tr th:only-of-type {\n",
       "        vertical-align: middle;\n",
       "    }\n",
       "\n",
       "    .dataframe tbody tr th {\n",
       "        vertical-align: top;\n",
       "    }\n",
       "\n",
       "    .dataframe thead th {\n",
       "        text-align: right;\n",
       "    }\n",
       "</style>\n",
       "<table border=\"1\" class=\"dataframe\">\n",
       "  <thead>\n",
       "    <tr style=\"text-align: right;\">\n",
       "      <th></th>\n",
       "      <th>product_id</th>\n",
       "      <th>store_id</th>\n",
       "      <th>week_no</th>\n",
       "      <th>display</th>\n",
       "      <th>mailer</th>\n",
       "    </tr>\n",
       "  </thead>\n",
       "  <tbody>\n",
       "    <tr>\n",
       "      <td>0</td>\n",
       "      <td>26190</td>\n",
       "      <td>286</td>\n",
       "      <td>70</td>\n",
       "      <td>0</td>\n",
       "      <td>A</td>\n",
       "    </tr>\n",
       "    <tr>\n",
       "      <td>1</td>\n",
       "      <td>26190</td>\n",
       "      <td>288</td>\n",
       "      <td>70</td>\n",
       "      <td>0</td>\n",
       "      <td>A</td>\n",
       "    </tr>\n",
       "    <tr>\n",
       "      <td>2</td>\n",
       "      <td>26190</td>\n",
       "      <td>289</td>\n",
       "      <td>70</td>\n",
       "      <td>0</td>\n",
       "      <td>A</td>\n",
       "    </tr>\n",
       "    <tr>\n",
       "      <td>3</td>\n",
       "      <td>26190</td>\n",
       "      <td>292</td>\n",
       "      <td>70</td>\n",
       "      <td>0</td>\n",
       "      <td>A</td>\n",
       "    </tr>\n",
       "    <tr>\n",
       "      <td>4</td>\n",
       "      <td>26190</td>\n",
       "      <td>293</td>\n",
       "      <td>70</td>\n",
       "      <td>0</td>\n",
       "      <td>A</td>\n",
       "    </tr>\n",
       "  </tbody>\n",
       "</table>\n",
       "</div>"
      ],
      "text/plain": [
       "   product_id  store_id  week_no display mailer\n",
       "0       26190       286       70       0      A\n",
       "1       26190       288       70       0      A\n",
       "2       26190       289       70       0      A\n",
       "3       26190       292       70       0      A\n",
       "4       26190       293       70       0      A"
      ]
     },
     "execution_count": 87,
     "metadata": {},
     "output_type": "execute_result"
    }
   ],
   "source": [
    "df_causal = pd.read_csv('dunnhumby/causal_data.csv')\n",
    "df_causal.columns = map(str.lower, df_causal.columns)\n",
    "df_causal.head()"
   ]
  },
  {
   "cell_type": "markdown",
   "metadata": {},
   "source": [
    "## Coupon redemption"
   ]
  },
  {
   "cell_type": "code",
   "execution_count": 88,
   "metadata": {},
   "outputs": [
    {
     "data": {
      "text/html": [
       "<div>\n",
       "<style scoped>\n",
       "    .dataframe tbody tr th:only-of-type {\n",
       "        vertical-align: middle;\n",
       "    }\n",
       "\n",
       "    .dataframe tbody tr th {\n",
       "        vertical-align: top;\n",
       "    }\n",
       "\n",
       "    .dataframe thead th {\n",
       "        text-align: right;\n",
       "    }\n",
       "</style>\n",
       "<table border=\"1\" class=\"dataframe\">\n",
       "  <thead>\n",
       "    <tr style=\"text-align: right;\">\n",
       "      <th></th>\n",
       "      <th>household_key</th>\n",
       "      <th>day</th>\n",
       "      <th>coupon_upc</th>\n",
       "      <th>campaign</th>\n",
       "    </tr>\n",
       "  </thead>\n",
       "  <tbody>\n",
       "    <tr>\n",
       "      <td>0</td>\n",
       "      <td>1</td>\n",
       "      <td>421</td>\n",
       "      <td>10000085364</td>\n",
       "      <td>8</td>\n",
       "    </tr>\n",
       "    <tr>\n",
       "      <td>1</td>\n",
       "      <td>1</td>\n",
       "      <td>421</td>\n",
       "      <td>51700010076</td>\n",
       "      <td>8</td>\n",
       "    </tr>\n",
       "    <tr>\n",
       "      <td>2</td>\n",
       "      <td>1</td>\n",
       "      <td>427</td>\n",
       "      <td>54200000033</td>\n",
       "      <td>8</td>\n",
       "    </tr>\n",
       "    <tr>\n",
       "      <td>3</td>\n",
       "      <td>1</td>\n",
       "      <td>597</td>\n",
       "      <td>10000085476</td>\n",
       "      <td>18</td>\n",
       "    </tr>\n",
       "    <tr>\n",
       "      <td>4</td>\n",
       "      <td>1</td>\n",
       "      <td>597</td>\n",
       "      <td>54200029176</td>\n",
       "      <td>18</td>\n",
       "    </tr>\n",
       "  </tbody>\n",
       "</table>\n",
       "</div>"
      ],
      "text/plain": [
       "   household_key  day   coupon_upc  campaign\n",
       "0              1  421  10000085364         8\n",
       "1              1  421  51700010076         8\n",
       "2              1  427  54200000033         8\n",
       "3              1  597  10000085476        18\n",
       "4              1  597  54200029176        18"
      ]
     },
     "execution_count": 88,
     "metadata": {},
     "output_type": "execute_result"
    }
   ],
   "source": [
    "df_coupon_redempt = pd.read_csv('dunnhumby/coupon_redempt.csv')\n",
    "df_coupon_redempt.columns = map(str.lower, df_coupon_redempt.columns)\n",
    "df_coupon_redempt.head()"
   ]
  },
  {
   "cell_type": "markdown",
   "metadata": {},
   "source": [
    "## Coupon"
   ]
  },
  {
   "cell_type": "code",
   "execution_count": 89,
   "metadata": {},
   "outputs": [
    {
     "data": {
      "text/html": [
       "<div>\n",
       "<style scoped>\n",
       "    .dataframe tbody tr th:only-of-type {\n",
       "        vertical-align: middle;\n",
       "    }\n",
       "\n",
       "    .dataframe tbody tr th {\n",
       "        vertical-align: top;\n",
       "    }\n",
       "\n",
       "    .dataframe thead th {\n",
       "        text-align: right;\n",
       "    }\n",
       "</style>\n",
       "<table border=\"1\" class=\"dataframe\">\n",
       "  <thead>\n",
       "    <tr style=\"text-align: right;\">\n",
       "      <th></th>\n",
       "      <th>coupon_upc</th>\n",
       "      <th>product_id</th>\n",
       "      <th>campaign</th>\n",
       "    </tr>\n",
       "  </thead>\n",
       "  <tbody>\n",
       "    <tr>\n",
       "      <td>0</td>\n",
       "      <td>10000089061</td>\n",
       "      <td>27160</td>\n",
       "      <td>4</td>\n",
       "    </tr>\n",
       "    <tr>\n",
       "      <td>1</td>\n",
       "      <td>10000089064</td>\n",
       "      <td>27754</td>\n",
       "      <td>9</td>\n",
       "    </tr>\n",
       "    <tr>\n",
       "      <td>2</td>\n",
       "      <td>10000089073</td>\n",
       "      <td>28897</td>\n",
       "      <td>12</td>\n",
       "    </tr>\n",
       "    <tr>\n",
       "      <td>3</td>\n",
       "      <td>51800009050</td>\n",
       "      <td>28919</td>\n",
       "      <td>28</td>\n",
       "    </tr>\n",
       "    <tr>\n",
       "      <td>4</td>\n",
       "      <td>52100000076</td>\n",
       "      <td>28929</td>\n",
       "      <td>25</td>\n",
       "    </tr>\n",
       "  </tbody>\n",
       "</table>\n",
       "</div>"
      ],
      "text/plain": [
       "    coupon_upc  product_id  campaign\n",
       "0  10000089061       27160         4\n",
       "1  10000089064       27754         9\n",
       "2  10000089073       28897        12\n",
       "3  51800009050       28919        28\n",
       "4  52100000076       28929        25"
      ]
     },
     "execution_count": 89,
     "metadata": {},
     "output_type": "execute_result"
    }
   ],
   "source": [
    "df_coupon = pd.read_csv('dunnhumby/coupon.csv')\n",
    "df_coupon.columns = map(str.lower, df_coupon.columns)\n",
    "df_coupon.head()"
   ]
  },
  {
   "cell_type": "markdown",
   "metadata": {},
   "source": [
    "Let's study how many coupons were redeemed for each campaign:\n",
    "we start by adding a column stating if a coupon has been redeemed or not. `coupon_upc` here is the unique identifier of each coupon."
   ]
  },
  {
   "cell_type": "code",
   "execution_count": 90,
   "metadata": {},
   "outputs": [
    {
     "data": {
      "text/html": [
       "<div>\n",
       "<style scoped>\n",
       "    .dataframe tbody tr th:only-of-type {\n",
       "        vertical-align: middle;\n",
       "    }\n",
       "\n",
       "    .dataframe tbody tr th {\n",
       "        vertical-align: top;\n",
       "    }\n",
       "\n",
       "    .dataframe thead th {\n",
       "        text-align: right;\n",
       "    }\n",
       "</style>\n",
       "<table border=\"1\" class=\"dataframe\">\n",
       "  <thead>\n",
       "    <tr style=\"text-align: right;\">\n",
       "      <th></th>\n",
       "      <th>coupon_upc</th>\n",
       "      <th>product_id</th>\n",
       "      <th>campaign</th>\n",
       "      <th>redeemed</th>\n",
       "    </tr>\n",
       "  </thead>\n",
       "  <tbody>\n",
       "    <tr>\n",
       "      <td>0</td>\n",
       "      <td>10000089061</td>\n",
       "      <td>27160</td>\n",
       "      <td>4</td>\n",
       "      <td>False</td>\n",
       "    </tr>\n",
       "    <tr>\n",
       "      <td>1</td>\n",
       "      <td>10000089064</td>\n",
       "      <td>27754</td>\n",
       "      <td>9</td>\n",
       "      <td>True</td>\n",
       "    </tr>\n",
       "    <tr>\n",
       "      <td>2</td>\n",
       "      <td>10000089073</td>\n",
       "      <td>28897</td>\n",
       "      <td>12</td>\n",
       "      <td>True</td>\n",
       "    </tr>\n",
       "    <tr>\n",
       "      <td>3</td>\n",
       "      <td>51800009050</td>\n",
       "      <td>28919</td>\n",
       "      <td>28</td>\n",
       "      <td>True</td>\n",
       "    </tr>\n",
       "    <tr>\n",
       "      <td>4</td>\n",
       "      <td>52100000076</td>\n",
       "      <td>28929</td>\n",
       "      <td>25</td>\n",
       "      <td>True</td>\n",
       "    </tr>\n",
       "  </tbody>\n",
       "</table>\n",
       "</div>"
      ],
      "text/plain": [
       "    coupon_upc  product_id  campaign  redeemed\n",
       "0  10000089061       27160         4     False\n",
       "1  10000089064       27754         9      True\n",
       "2  10000089073       28897        12      True\n",
       "3  51800009050       28919        28      True\n",
       "4  52100000076       28929        25      True"
      ]
     },
     "execution_count": 90,
     "metadata": {},
     "output_type": "execute_result"
    }
   ],
   "source": [
    "df_coupon['redeemed'] = df_coupon['coupon_upc'].isin(df_coupon_redempt['coupon_upc'])\n",
    "df_coupon.head()"
   ]
  },
  {
   "cell_type": "code",
   "execution_count": 91,
   "metadata": {},
   "outputs": [
    {
     "data": {
      "text/plain": [
       "108257"
      ]
     },
     "execution_count": 91,
     "metadata": {},
     "output_type": "execute_result"
    }
   ],
   "source": [
    "df_coupon.redeemed[df_coupon.redeemed == True].shape[0]"
   ]
  },
  {
   "cell_type": "markdown",
   "metadata": {},
   "source": [
    "### Number of coupons"
   ]
  },
  {
   "cell_type": "code",
   "execution_count": 92,
   "metadata": {},
   "outputs": [
    {
     "name": "stdout",
     "output_type": "stream",
     "text": [
      "108257 of 124548 coupons in total were actually redeemed, which corresponds to a redemption rate of 86.92 %.\n"
     ]
    }
   ],
   "source": [
    "num_redempt_coupons = df_coupon.redeemed[df_coupon.redeemed == True].shape[0]\n",
    "redemption_rate = num_redempt_coupons / df_coupon.shape[0] * 100\n",
    "print(\"{} of {} coupons in total were actually redeemed, which corresponds to a redemption rate of {} %.\".format(num_redempt_coupons,df_coupon.shape[0], round(redemption_rate,2)))"
   ]
  },
  {
   "cell_type": "markdown",
   "metadata": {},
   "source": [
    "The above rate is suprisingly high...\n",
    "\n",
    "So let us have a look how many coupons were distributed within the course of each campaign."
   ]
  },
  {
   "cell_type": "code",
   "execution_count": 93,
   "metadata": {},
   "outputs": [
    {
     "data": {
      "image/png": "[encoded data removed]",
      "text/plain": [
       "<Figure size 1152x504 with 1 Axes>"
      ]
     },
     "metadata": {
      "needs_background": "light"
     },
     "output_type": "display_data"
    }
   ],
   "source": [
    "df_coupon.groupby(by = 'campaign').count().plot.bar(y = 'coupon_upc')\n",
    "plt.xlabel('Campaign')\n",
    "plt.ylabel('Number of coupons')\n",
    "plt.title('Number of coupons per campaign')\n",
    "plt.show()"
   ]
  },
  {
   "cell_type": "markdown",
   "metadata": {},
   "source": [
    "We notice there are definetely some campaigns with way more coupons than others. Is this related to the type of campaign?"
   ]
  },
  {
   "cell_type": "markdown",
   "metadata": {},
   "source": [
    "### Amount of coupons per campaign"
   ]
  },
  {
   "cell_type": "markdown",
   "metadata": {},
   "source": [
    "We can now move to more advanced analysis. Let's start by combining this data with the coupon data."
   ]
  },
  {
   "cell_type": "code",
   "execution_count": 94,
   "metadata": {},
   "outputs": [
    {
     "data": {
      "text/plain": [
       "<bound method NDFrame.head of    description  campaign  start_day  end_day  duration\n",
       "0        TypeB        24        659      719        60\n",
       "1        TypeC        15        547      708       161\n",
       "2        TypeB        25        659      691        32\n",
       "3        TypeC        20        615      685        70\n",
       "4        TypeB        23        646      684        38\n",
       "5        TypeB        21        624      656        32\n",
       "6        TypeB        22        624      656        32\n",
       "7        TypeA        18        587      642        55\n",
       "8        TypeB        19        603      635        32\n",
       "9        TypeB        17        575      607        32\n",
       "10       TypeC        14        531      596        65\n",
       "11       TypeB        16        561      593        32\n",
       "12       TypeA        13        504      551        47\n",
       "13       TypeB        11        477      523        46\n",
       "14       TypeB        12        477      509        32\n",
       "15       TypeB        10        463      495        32\n",
       "16       TypeB         9        435      467        32\n",
       "17       TypeA         8        412      460        48\n",
       "18       TypeB         7        398      432        34\n",
       "19       TypeC         6        393      425        32\n",
       "20       TypeC         3        356      412        56\n",
       "21       TypeB         5        377      411        34\n",
       "22       TypeB         4        372      404        32\n",
       "23       TypeB         1        346      383        37\n",
       "24       TypeB         2        351      383        32\n",
       "25       TypeA        30        323      369        46\n",
       "26       TypeB        29        281      334        53\n",
       "27       TypeB        28        259      320        61\n",
       "28       TypeC        27        237      300        63\n",
       "29       TypeA        26        224      264        40>"
      ]
     },
     "execution_count": 94,
     "metadata": {},
     "output_type": "execute_result"
    }
   ],
   "source": [
    "df_campaign_desc.head"
   ]
  },
  {
   "cell_type": "code",
   "execution_count": 95,
   "metadata": {},
   "outputs": [
    {
     "data": {
      "text/html": [
       "<div>\n",
       "<style scoped>\n",
       "    .dataframe tbody tr th:only-of-type {\n",
       "        vertical-align: middle;\n",
       "    }\n",
       "\n",
       "    .dataframe tbody tr th {\n",
       "        vertical-align: top;\n",
       "    }\n",
       "\n",
       "    .dataframe thead th {\n",
       "        text-align: right;\n",
       "    }\n",
       "</style>\n",
       "<table border=\"1\" class=\"dataframe\">\n",
       "  <thead>\n",
       "    <tr style=\"text-align: right;\">\n",
       "      <th></th>\n",
       "      <th>description</th>\n",
       "      <th>start_day</th>\n",
       "      <th>end_day</th>\n",
       "      <th>duration</th>\n",
       "      <th>distributed</th>\n",
       "      <th>redeemed</th>\n",
       "      <th>beneficiary</th>\n",
       "    </tr>\n",
       "    <tr>\n",
       "      <th>campaign</th>\n",
       "      <th></th>\n",
       "      <th></th>\n",
       "      <th></th>\n",
       "      <th></th>\n",
       "      <th></th>\n",
       "      <th></th>\n",
       "      <th></th>\n",
       "    </tr>\n",
       "  </thead>\n",
       "  <tbody>\n",
       "    <tr>\n",
       "      <td>1</td>\n",
       "      <td>TypeB</td>\n",
       "      <td>346</td>\n",
       "      <td>383</td>\n",
       "      <td>37</td>\n",
       "      <td>383</td>\n",
       "      <td>363.0</td>\n",
       "      <td>13</td>\n",
       "    </tr>\n",
       "    <tr>\n",
       "      <td>2</td>\n",
       "      <td>TypeB</td>\n",
       "      <td>351</td>\n",
       "      <td>383</td>\n",
       "      <td>32</td>\n",
       "      <td>301</td>\n",
       "      <td>78.0</td>\n",
       "      <td>48</td>\n",
       "    </tr>\n",
       "    <tr>\n",
       "      <td>3</td>\n",
       "      <td>TypeC</td>\n",
       "      <td>356</td>\n",
       "      <td>412</td>\n",
       "      <td>56</td>\n",
       "      <td>740</td>\n",
       "      <td>392.0</td>\n",
       "      <td>12</td>\n",
       "    </tr>\n",
       "    <tr>\n",
       "      <td>4</td>\n",
       "      <td>TypeB</td>\n",
       "      <td>372</td>\n",
       "      <td>404</td>\n",
       "      <td>32</td>\n",
       "      <td>200</td>\n",
       "      <td>84.0</td>\n",
       "      <td>81</td>\n",
       "    </tr>\n",
       "    <tr>\n",
       "      <td>5</td>\n",
       "      <td>TypeB</td>\n",
       "      <td>377</td>\n",
       "      <td>411</td>\n",
       "      <td>34</td>\n",
       "      <td>443</td>\n",
       "      <td>97.0</td>\n",
       "      <td>166</td>\n",
       "    </tr>\n",
       "  </tbody>\n",
       "</table>\n",
       "</div>"
      ],
      "text/plain": [
       "         description  start_day  end_day  duration  distributed  redeemed  \\\n",
       "campaign                                                                    \n",
       "1              TypeB        346      383        37          383     363.0   \n",
       "2              TypeB        351      383        32          301      78.0   \n",
       "3              TypeC        356      412        56          740     392.0   \n",
       "4              TypeB        372      404        32          200      84.0   \n",
       "5              TypeB        377      411        34          443      97.0   \n",
       "\n",
       "          beneficiary  \n",
       "campaign               \n",
       "1                  13  \n",
       "2                  48  \n",
       "3                  12  \n",
       "4                  81  \n",
       "5                 166  "
      ]
     },
     "execution_count": 95,
     "metadata": {},
     "output_type": "execute_result"
    }
   ],
   "source": [
    "df_campaign_desc.sort_values(by = 'campaign', inplace = True)\n",
    "df_campaign_desc.set_index(keys = 'campaign', drop = True, inplace = True)\n",
    "df_campaign_desc['distributed'] = df_coupon.groupby(by = 'campaign').redeemed.count() #Number of coupons distributed\n",
    "df_campaign_desc['redeemed'] = df_coupon[~df_coupon['redeemed']].groupby(by = 'campaign').redeemed.count() #Number of coupons redeemed\n",
    "df_campaign_desc.fillna(0, inplace = True) \n",
    "df_campaign_desc['beneficiary'] = df_campaign_table.groupby(by = 'campaign').description.count() #Number of beneficiary households\n",
    "df_campaign_desc.head()"
   ]
  },
  {
   "cell_type": "markdown",
   "metadata": {},
   "source": [
    "Let's observe these results in a bar plot. For each campaign we plot the amount of coupon distributed and redeemed, and we add the type of the campaign."
   ]
  },
  {
   "cell_type": "code",
   "execution_count": 96,
   "metadata": {},
   "outputs": [
    {
     "data": {
      "image/png": "[encoded data removed]",
      "text/plain": [
       "<Figure size 1152x504 with 1 Axes>"
      ]
     },
     "metadata": {
      "needs_background": "light"
     },
     "output_type": "display_data"
    }
   ],
   "source": [
    "# set width of bar\n",
    "barWidth = 0.4\n",
    " \n",
    "# set height of bar\n",
    "coupon_distributed = df_campaign_desc['distributed']\n",
    "coupon_redeemed = df_campaign_desc['redeemed']\n",
    " \n",
    "# Set position of bar on X axis\n",
    "r = np.arange(len(coupon_distributed)+1)\n",
    "r1 = [x - barWidth/2 for x in r[1:]]\n",
    "r2 = [x + barWidth/2 for x in r[1:]]\n",
    " \n",
    "# Make the plot\n",
    "plt.bar(r1, coupon_distributed, width=barWidth, edgecolor='white', label='Distributed coupons')\n",
    "plt.bar(r2, coupon_redeemed, width=barWidth, edgecolor='white', label='Redeemed coupons')\n",
    "plt.yscale('log') #Better visualizations because very different amounts of coupon between campaign\n",
    " \n",
    "# Attach a text label above each bar in *bars*, displaying the campaign type\n",
    "type_c = df_campaign_desc.description.values\n",
    "for i in range(len(coupon_distributed.values)):    \n",
    "    plt.annotate('{}'.format(type_c[i]),\n",
    "                xy=(r[i+1], coupon_distributed.values[i]),\n",
    "                xytext=(0, 3),  # 3 points vertical offset\n",
    "                textcoords=\"offset points\",\n",
    "                ha='center', va='bottom',\n",
    "                fontweight = 'bold',\n",
    "                fontsize = 8)\n",
    "  \n",
    "    \n",
    "# Add title and legend\n",
    "plt.title('Amount of coupons per campaign')\n",
    "plt.xlabel('Campaign')\n",
    "plt.xticks(df_campaign_desc.index)\n",
    "plt.ylabel('Amount of coupons')\n",
    "plt.legend()\n",
    "plt.show()"
   ]
  },
  {
   "cell_type": "markdown",
   "metadata": {},
   "source": [
    "We can see the difference between the amount of coupon distributed and redeemed differs a lot from one campaign to another. It goes from cases where it is nearly null (such as campaign 1) to extreme cases where no coupons were redeemed (such as in campaigns 6, 15 and 24). To understand what happened here, we will need to inspect more precisely each campaign and join our results with data about the products and the transactions."
   ]
  },
  {
   "cell_type": "markdown",
   "metadata": {},
   "source": [
    "## Demographics"
   ]
  },
  {
   "cell_type": "code",
   "execution_count": 97,
   "metadata": {},
   "outputs": [],
   "source": [
    "marital_dict = {\"A\": \"Married\", \"B\": \"Single\", \"U\": \"Unknown\"}\n",
    "household_size_dict = {\"1\": 1, \"2\": 2, \"3\": 3, \"4\": 4, \"5+\": 5}"
   ]
  },
  {
   "cell_type": "code",
   "execution_count": 98,
   "metadata": {},
   "outputs": [
    {
     "data": {
      "text/html": [
       "<div>\n",
       "<style scoped>\n",
       "    .dataframe tbody tr th:only-of-type {\n",
       "        vertical-align: middle;\n",
       "    }\n",
       "\n",
       "    .dataframe tbody tr th {\n",
       "        vertical-align: top;\n",
       "    }\n",
       "\n",
       "    .dataframe thead th {\n",
       "        text-align: right;\n",
       "    }\n",
       "</style>\n",
       "<table border=\"1\" class=\"dataframe\">\n",
       "  <thead>\n",
       "    <tr style=\"text-align: right;\">\n",
       "      <th></th>\n",
       "      <th>age_desc</th>\n",
       "      <th>marital_status_code</th>\n",
       "      <th>income_desc</th>\n",
       "      <th>homeowner_desc</th>\n",
       "      <th>hh_comp_desc</th>\n",
       "      <th>household_size_desc</th>\n",
       "      <th>kid_category_desc</th>\n",
       "      <th>household_key</th>\n",
       "      <th>married</th>\n",
       "      <th>household_size_desc_numeric</th>\n",
       "    </tr>\n",
       "  </thead>\n",
       "  <tbody>\n",
       "    <tr>\n",
       "      <td>0</td>\n",
       "      <td>65+</td>\n",
       "      <td>A</td>\n",
       "      <td>35-49K</td>\n",
       "      <td>Homeowner</td>\n",
       "      <td>2 Adults No Kids</td>\n",
       "      <td>2</td>\n",
       "      <td>None/Unknown</td>\n",
       "      <td>1</td>\n",
       "      <td>Married</td>\n",
       "      <td>2</td>\n",
       "    </tr>\n",
       "    <tr>\n",
       "      <td>1</td>\n",
       "      <td>45-54</td>\n",
       "      <td>A</td>\n",
       "      <td>50-74K</td>\n",
       "      <td>Homeowner</td>\n",
       "      <td>2 Adults No Kids</td>\n",
       "      <td>2</td>\n",
       "      <td>None/Unknown</td>\n",
       "      <td>7</td>\n",
       "      <td>Married</td>\n",
       "      <td>2</td>\n",
       "    </tr>\n",
       "    <tr>\n",
       "      <td>2</td>\n",
       "      <td>25-34</td>\n",
       "      <td>U</td>\n",
       "      <td>25-34K</td>\n",
       "      <td>Unknown</td>\n",
       "      <td>2 Adults Kids</td>\n",
       "      <td>3</td>\n",
       "      <td>1</td>\n",
       "      <td>8</td>\n",
       "      <td>Unknown</td>\n",
       "      <td>3</td>\n",
       "    </tr>\n",
       "    <tr>\n",
       "      <td>3</td>\n",
       "      <td>25-34</td>\n",
       "      <td>U</td>\n",
       "      <td>75-99K</td>\n",
       "      <td>Homeowner</td>\n",
       "      <td>2 Adults Kids</td>\n",
       "      <td>4</td>\n",
       "      <td>2</td>\n",
       "      <td>13</td>\n",
       "      <td>Unknown</td>\n",
       "      <td>4</td>\n",
       "    </tr>\n",
       "    <tr>\n",
       "      <td>4</td>\n",
       "      <td>45-54</td>\n",
       "      <td>B</td>\n",
       "      <td>50-74K</td>\n",
       "      <td>Homeowner</td>\n",
       "      <td>Single Female</td>\n",
       "      <td>1</td>\n",
       "      <td>None/Unknown</td>\n",
       "      <td>16</td>\n",
       "      <td>Single</td>\n",
       "      <td>1</td>\n",
       "    </tr>\n",
       "  </tbody>\n",
       "</table>\n",
       "</div>"
      ],
      "text/plain": [
       "  age_desc marital_status_code income_desc homeowner_desc      hh_comp_desc  \\\n",
       "0      65+                   A      35-49K      Homeowner  2 Adults No Kids   \n",
       "1    45-54                   A      50-74K      Homeowner  2 Adults No Kids   \n",
       "2    25-34                   U      25-34K        Unknown     2 Adults Kids   \n",
       "3    25-34                   U      75-99K      Homeowner     2 Adults Kids   \n",
       "4    45-54                   B      50-74K      Homeowner     Single Female   \n",
       "\n",
       "  household_size_desc kid_category_desc  household_key  married  \\\n",
       "0                   2      None/Unknown              1  Married   \n",
       "1                   2      None/Unknown              7  Married   \n",
       "2                   3                 1              8  Unknown   \n",
       "3                   4                 2             13  Unknown   \n",
       "4                   1      None/Unknown             16   Single   \n",
       "\n",
       "   household_size_desc_numeric  \n",
       "0                            2  \n",
       "1                            2  \n",
       "2                            3  \n",
       "3                            4  \n",
       "4                            1  "
      ]
     },
     "execution_count": 98,
     "metadata": {},
     "output_type": "execute_result"
    }
   ],
   "source": [
    "df_demo = pd.read_csv(\"dunnhumby/hh_demographic.csv\")\n",
    "df_demo.columns = map(str.lower, df_demo.columns)\n",
    "\n",
    "# Replace cryptic character with actual label\n",
    "df_demo[\"married\"] = df_demo[\"marital_status_code\"].apply(\n",
    "    lambda code: marital_dict[code]\n",
    ")\n",
    "\n",
    "# Create new column with numerical household size\n",
    "for hh_str, hh_int in household_size_dict.items():\n",
    "    df_demo[\"household_size_desc_numeric\"] = df_demo[\"household_size_desc\"].replace(\n",
    "        hh_str, hh_int\n",
    "    )\n",
    "df_demo[\"household_size_desc_numeric\"] = df_demo[\"household_size_desc_numeric\"].astype(int)\n",
    "    \n",
    "df_demo.head()"
   ]
  },
  {
   "cell_type": "markdown",
   "metadata": {},
   "source": [
    "Let's see from which age groups we have the most people"
   ]
  },
  {
   "cell_type": "code",
   "execution_count": 99,
   "metadata": {},
   "outputs": [
    {
     "data": {
      "image/png": "[encoded data removed]",
      "text/plain": [
       "<Figure size 1152x504 with 1 Axes>"
      ]
     },
     "metadata": {
      "needs_background": "light"
     },
     "output_type": "display_data"
    }
   ],
   "source": [
    "df_demo[\"age_desc\"].value_counts().sort_index().plot(kind=\"bar\")\n",
    "plt.show()"
   ]
  },
  {
   "cell_type": "markdown",
   "metadata": {},
   "source": [
    "## Products"
   ]
  },
  {
   "cell_type": "code",
   "execution_count": 100,
   "metadata": {},
   "outputs": [
    {
     "data": {
      "text/html": [
       "<div>\n",
       "<style scoped>\n",
       "    .dataframe tbody tr th:only-of-type {\n",
       "        vertical-align: middle;\n",
       "    }\n",
       "\n",
       "    .dataframe tbody tr th {\n",
       "        vertical-align: top;\n",
       "    }\n",
       "\n",
       "    .dataframe thead th {\n",
       "        text-align: right;\n",
       "    }\n",
       "</style>\n",
       "<table border=\"1\" class=\"dataframe\">\n",
       "  <thead>\n",
       "    <tr style=\"text-align: right;\">\n",
       "      <th></th>\n",
       "      <th>product_id</th>\n",
       "      <th>manufacturer</th>\n",
       "      <th>department</th>\n",
       "      <th>brand</th>\n",
       "      <th>commodity_desc</th>\n",
       "      <th>sub_commodity_desc</th>\n",
       "      <th>curr_size_of_product</th>\n",
       "    </tr>\n",
       "  </thead>\n",
       "  <tbody>\n",
       "    <tr>\n",
       "      <td>0</td>\n",
       "      <td>25671</td>\n",
       "      <td>2</td>\n",
       "      <td>GROCERY</td>\n",
       "      <td>National</td>\n",
       "      <td>FRZN ICE</td>\n",
       "      <td>ICE - CRUSHED/CUBED</td>\n",
       "      <td>22 LB</td>\n",
       "    </tr>\n",
       "    <tr>\n",
       "      <td>1</td>\n",
       "      <td>26081</td>\n",
       "      <td>2</td>\n",
       "      <td>MISC. TRANS.</td>\n",
       "      <td>National</td>\n",
       "      <td>NO COMMODITY DESCRIPTION</td>\n",
       "      <td>NO SUBCOMMODITY DESCRIPTION</td>\n",
       "      <td></td>\n",
       "    </tr>\n",
       "    <tr>\n",
       "      <td>2</td>\n",
       "      <td>26093</td>\n",
       "      <td>69</td>\n",
       "      <td>PASTRY</td>\n",
       "      <td>Private</td>\n",
       "      <td>BREAD</td>\n",
       "      <td>BREAD:ITALIAN/FRENCH</td>\n",
       "      <td></td>\n",
       "    </tr>\n",
       "    <tr>\n",
       "      <td>3</td>\n",
       "      <td>26190</td>\n",
       "      <td>69</td>\n",
       "      <td>GROCERY</td>\n",
       "      <td>Private</td>\n",
       "      <td>FRUIT - SHELF STABLE</td>\n",
       "      <td>APPLE SAUCE</td>\n",
       "      <td>50 OZ</td>\n",
       "    </tr>\n",
       "    <tr>\n",
       "      <td>4</td>\n",
       "      <td>26355</td>\n",
       "      <td>69</td>\n",
       "      <td>GROCERY</td>\n",
       "      <td>Private</td>\n",
       "      <td>COOKIES/CONES</td>\n",
       "      <td>SPECIALTY COOKIES</td>\n",
       "      <td>14 OZ</td>\n",
       "    </tr>\n",
       "  </tbody>\n",
       "</table>\n",
       "</div>"
      ],
      "text/plain": [
       "   product_id  manufacturer    department     brand            commodity_desc  \\\n",
       "0       25671             2       GROCERY  National                  FRZN ICE   \n",
       "1       26081             2  MISC. TRANS.  National  NO COMMODITY DESCRIPTION   \n",
       "2       26093            69        PASTRY   Private                     BREAD   \n",
       "3       26190            69       GROCERY   Private      FRUIT - SHELF STABLE   \n",
       "4       26355            69       GROCERY   Private             COOKIES/CONES   \n",
       "\n",
       "            sub_commodity_desc curr_size_of_product  \n",
       "0          ICE - CRUSHED/CUBED                22 LB  \n",
       "1  NO SUBCOMMODITY DESCRIPTION                       \n",
       "2         BREAD:ITALIAN/FRENCH                       \n",
       "3                  APPLE SAUCE                50 OZ  \n",
       "4            SPECIALTY COOKIES                14 OZ  "
      ]
     },
     "execution_count": 100,
     "metadata": {},
     "output_type": "execute_result"
    }
   ],
   "source": [
    "df_products = pd.read_csv('dunnhumby/product.csv')\n",
    "df_products.columns = map(str.lower, df_products.columns)\n",
    "df_products.head()"
   ]
  },
  {
   "cell_type": "markdown",
   "metadata": {},
   "source": [
    "Let's explore the product data frame and filter for anything food related. The columns *department*, *commodity_desc* and *sub_commodity_desc* describe the product which increasing detail. "
   ]
  },
  {
   "cell_type": "code",
   "execution_count": 159,
   "metadata": {},
   "outputs": [
    {
     "data": {
      "text/html": [
       "<div>\n",
       "<style scoped>\n",
       "    .dataframe tbody tr th:only-of-type {\n",
       "        vertical-align: middle;\n",
       "    }\n",
       "\n",
       "    .dataframe tbody tr th {\n",
       "        vertical-align: top;\n",
       "    }\n",
       "\n",
       "    .dataframe thead th {\n",
       "        text-align: right;\n",
       "    }\n",
       "</style>\n",
       "<table border=\"1\" class=\"dataframe\">\n",
       "  <thead>\n",
       "    <tr style=\"text-align: right;\">\n",
       "      <th></th>\n",
       "      <th>product_id</th>\n",
       "      <th>manufacturer</th>\n",
       "      <th>department</th>\n",
       "      <th>brand</th>\n",
       "      <th>commodity_desc</th>\n",
       "      <th>sub_commodity_desc</th>\n",
       "      <th>curr_size_of_product</th>\n",
       "    </tr>\n",
       "  </thead>\n",
       "  <tbody>\n",
       "    <tr>\n",
       "      <td>2</td>\n",
       "      <td>26093</td>\n",
       "      <td>69</td>\n",
       "      <td>PASTRY</td>\n",
       "      <td>Private</td>\n",
       "      <td>BREAD</td>\n",
       "      <td>BREAD:ITALIAN/FRENCH</td>\n",
       "      <td></td>\n",
       "    </tr>\n",
       "  </tbody>\n",
       "</table>\n",
       "</div>"
      ],
      "text/plain": [
       "   product_id  manufacturer department    brand commodity_desc  \\\n",
       "2       26093            69     PASTRY  Private          BREAD   \n",
       "\n",
       "     sub_commodity_desc curr_size_of_product  \n",
       "2  BREAD:ITALIAN/FRENCH                       "
      ]
     },
     "execution_count": 159,
     "metadata": {},
     "output_type": "execute_result"
    }
   ],
   "source": [
    "df_products[df_products.product_id ==26093]"
   ]
  },
  {
   "cell_type": "markdown",
   "metadata": {},
   "source": [
    "We extract the food data completely manually. We use the most common food categories like meat, seafood, fruits, etc and manage lists of them. We start out with common words for the lists. Then we filter the product dataframe for products which contains the key words in the three columns mentions above.Then we look at what items have not been assigned to a food category. Food items that have not been aissgned yet we add to the category lists. We do this iteratively until no food items are left. In the end we get dataframes of different food categories and also a rest dataframe which contains all non food-related products. "
   ]
  },
  {
   "cell_type": "code",
   "execution_count": 160,
   "metadata": {},
   "outputs": [],
   "source": [
    "def filter_dataframe(df, word_list):\n",
    "    '''\n",
    "    Filters a dataframe, which has to have the columns \"department\", \"commodity_desc\" and \n",
    "    \"sub_commodity_desc\", for products which contain the words in word_list in the columns mentioned above. \n",
    "    The method returns the filtered dataframe and also the complement. \n",
    "    '''\n",
    "    filtered_df = df.copy()\n",
    "    for word in word_list:\n",
    "        filtered_df = filtered_df[~(filtered_df[\"department\"].str.contains(word) | filtered_df[\"commodity_desc\"].str.contains(word) | filtered_df[\"sub_commodity_desc\"].str.contains(word))]\n",
    "    return df[~df.index.isin(filtered_df.index)], df[df.index.isin(filtered_df.index)]"
   ]
  },
  {
   "cell_type": "code",
   "execution_count": 102,
   "metadata": {},
   "outputs": [],
   "source": [
    "meat_list = [\"MEAT\",\"PORK\", \"BEEF\", \"DUCK\", \"CHICKEN\", \"POULTRY\", \"LAMB\", \"VEAL\",\n",
    "             \"MUTTON\", \"TURKEY\", \"VENISON\", \"WILD BOAR\", \"BISON\", \"GOOSE\", \"RABBIT\", \"PHEASANT\"]\n",
    "seafood_list = [\"HERRING\", \"SEAFOOD\", \"SEAFD\",\"SUSHI\", \"FISH\",\"SHRIMP\",\"SALMON\",\"TUNA\",\n",
    "                \"TILAPIA\",\"ALASKA\",\"POLLOCK\",\"PANGASIUS\",\"BASA\",\"SWAI\",\"COD\",\"CATFISH\",\"CRAB\",\"CLAMS\"]\n",
    "sweets_snack_list = [\"ROLLS\", \"GUM\", \"PASTRY\", \"NUT\",\"CRACKERS\",\"DESSERT\",\"SNKS\",\"SNACK\",\"CHIP\",\n",
    "                     \"CANDY\", \"ICE\", \"SWEET\", \"CHOCOLATE\",\"POPCORN\", \"CAKE\", \"COOKIE\", \"PANCAKE\",\n",
    "                     \"BAKING\", \"BAKE\", \"PIE\"]\n",
    "fruits_list = [\"FRUIT\",\"APPLE\", \"ORANGE\", \"PEAR\", \"BANANA\", \"GRAPE\", \"BERR\", \n",
    "               \"TOMATO\", \"LEMON\", \"MELON\", \"PEACH\", \"CHERR\", \"PINEAPPLE\", \"CITRUS\"]\n",
    "vegetable_list = [\"PUMPKIN\", \"COLESLAW\", \"SPINACH\", \"BEAN\",\"VEG\", \"POTATO\", \"CARROT\",\"CORN\",\"PEPPER\", \n",
    "                  \"SQUASH\", \"ONION\", \"MUSHROOM\", \"CUCUMBER\", \"CAULIFLOWER\", \"BROCCOLI\", \"OLIVE\" ]\n",
    "veg_animal_list = [\"DAIRY\",\"MILK\",\"CHEESE\", \"YOGURT\", \"BUTTER\", \"MARGARINE\", \"EGG\", \"HONEY\"]\n",
    "beverage_list = [\"CIDER\", \"BEVERAGE\", \"WATER\", \"COKE\", \"FANTA\", \"SPRITE\",\"LIQUOR\", \"LEMONADE\", \"COCOA\", \n",
    "                 \"VODKA\", \"BEER\", \"WINE\", \"COFFEE\", \"DRINK\", \"TEA\", \"JUICE\", \"DRNKS\", \"JCE\"]\n",
    "condiment_list = [\"GARLIC\",\"SALSA\",\"FLOUR\", \"DIP\",\"OIL\",\"SEASONING\",\"JELLY\", \"JAM\",\"SAUCE\", \"HERBS\", \n",
    "                  \"CONDIMENT\", \"TOPPING\", \"SYRUP\", \"DRESSING\", \"KETCHUP\", \"MAYO\", \"DRSNG\"]\n",
    "carbs_list = [\"NOODLES\", \"PASTA\", \"CROUTON\",\"RICE\", \"BREAD\", \"TOAST\", \"CEREAL\", \"OATMEAL\", \"DOUGH\", \n",
    "              \"POTATO\"]\n",
    "meal_list = [\"PIZZA\", \"RAMEN\", \"SANDWICH\", \"SALAD\",\"SOUP\",\"ENTREE\", \"DINNER\", \"BREAKFAST\", \"THAI\", \n",
    "             \"ASIAN\", \"ITALIAN\", \"MEXICAN\", \"GERMAN\", \"BURRITO\", \"FOOD\", \"ORIENTAL\", \"DISH\", \"KOSHER\"]\n",
    "\n",
    "df_meat, df_rest = filter_dataframe(df_products, meat_list)\n",
    "df_seafood, df_rest = filter_dataframe(df_rest, seafood_list)\n",
    "df_sweets_snack, df_rest = filter_dataframe(df_rest, sweets_snack_list)\n",
    "df_fruits, df_rest = filter_dataframe(df_rest, fruits_list)\n",
    "df_vegetable, df_rest = filter_dataframe(df_rest, vegetable_list)\n",
    "df_veg_animal, df_rest = filter_dataframe(df_rest, veg_animal_list)\n",
    "df_beverage, df_rest = filter_dataframe(df_rest, beverage_list)\n",
    "df_condiments, df_rest = filter_dataframe(df_rest, condiment_list)\n",
    "df_carbs, df_rest = filter_dataframe(df_rest, carbs_list)\n",
    "df_meals, df_rest = filter_dataframe(df_rest, meal_list)"
   ]
  },
  {
   "cell_type": "code",
   "execution_count": 103,
   "metadata": {},
   "outputs": [],
   "source": [
    "#df_rest[\"sub_commodity_desc\"].unique()"
   ]
  },
  {
   "cell_type": "code",
   "execution_count": 104,
   "metadata": {},
   "outputs": [
    {
     "data": {
      "text/html": [
       "<div>\n",
       "<style scoped>\n",
       "    .dataframe tbody tr th:only-of-type {\n",
       "        vertical-align: middle;\n",
       "    }\n",
       "\n",
       "    .dataframe tbody tr th {\n",
       "        vertical-align: top;\n",
       "    }\n",
       "\n",
       "    .dataframe thead th {\n",
       "        text-align: right;\n",
       "    }\n",
       "</style>\n",
       "<table border=\"1\" class=\"dataframe\">\n",
       "  <thead>\n",
       "    <tr style=\"text-align: right;\">\n",
       "      <th></th>\n",
       "      <th>product_id</th>\n",
       "      <th>manufacturer</th>\n",
       "      <th>department</th>\n",
       "      <th>brand</th>\n",
       "      <th>commodity_desc</th>\n",
       "      <th>sub_commodity_desc</th>\n",
       "      <th>curr_size_of_product</th>\n",
       "    </tr>\n",
       "  </thead>\n",
       "  <tbody>\n",
       "    <tr>\n",
       "      <td>0</td>\n",
       "      <td>27860</td>\n",
       "      <td>69</td>\n",
       "      <td>GROCERY</td>\n",
       "      <td>Private</td>\n",
       "      <td>BAKING NEEDS</td>\n",
       "      <td>PIE FILLING MINCEMEAT GLAZES</td>\n",
       "      <td>21 OZ</td>\n",
       "    </tr>\n",
       "    <tr>\n",
       "      <td>1</td>\n",
       "      <td>27951</td>\n",
       "      <td>69</td>\n",
       "      <td>MEAT-PCKGD</td>\n",
       "      <td>Private</td>\n",
       "      <td>DINNER SAUSAGE</td>\n",
       "      <td>FRESH</td>\n",
       "      <td>18 OZ</td>\n",
       "    </tr>\n",
       "    <tr>\n",
       "      <td>2</td>\n",
       "      <td>28267</td>\n",
       "      <td>69</td>\n",
       "      <td>MEAT-PCKGD</td>\n",
       "      <td>Private</td>\n",
       "      <td>DINNER SAUSAGE</td>\n",
       "      <td>FRESH</td>\n",
       "      <td>18 OZ</td>\n",
       "    </tr>\n",
       "    <tr>\n",
       "      <td>3</td>\n",
       "      <td>30003</td>\n",
       "      <td>397</td>\n",
       "      <td>MEAT-PCKGD</td>\n",
       "      <td>National</td>\n",
       "      <td>FROZEN MEAT</td>\n",
       "      <td>FRZN BREADED PREPARED CHICK</td>\n",
       "      <td>9 OZ</td>\n",
       "    </tr>\n",
       "    <tr>\n",
       "      <td>4</td>\n",
       "      <td>31493</td>\n",
       "      <td>151</td>\n",
       "      <td>GROCERY</td>\n",
       "      <td>National</td>\n",
       "      <td>FRZN MEAT/MEAT DINNERS</td>\n",
       "      <td>FRZN SS PREMIUM ENTREES/DNRS/T</td>\n",
       "      <td>10 OZ</td>\n",
       "    </tr>\n",
       "    <tr>\n",
       "      <td>...</td>\n",
       "      <td>...</td>\n",
       "      <td>...</td>\n",
       "      <td>...</td>\n",
       "      <td>...</td>\n",
       "      <td>...</td>\n",
       "      <td>...</td>\n",
       "      <td>...</td>\n",
       "    </tr>\n",
       "    <tr>\n",
       "      <td>58742</td>\n",
       "      <td>18037791</td>\n",
       "      <td>69</td>\n",
       "      <td>GROCERY</td>\n",
       "      <td>Private</td>\n",
       "      <td>DOG FOODS</td>\n",
       "      <td>DRY DOG ECONOMY (COST CUTTER/F</td>\n",
       "      <td>15 LBS</td>\n",
       "    </tr>\n",
       "    <tr>\n",
       "      <td>58743</td>\n",
       "      <td>18105562</td>\n",
       "      <td>6235</td>\n",
       "      <td>GROCERY</td>\n",
       "      <td>National</td>\n",
       "      <td>DOG FOODS</td>\n",
       "      <td>SEMI MOIST DOG FOOD</td>\n",
       "      <td>1.5 LB</td>\n",
       "    </tr>\n",
       "    <tr>\n",
       "      <td>58744</td>\n",
       "      <td>18107080</td>\n",
       "      <td>6235</td>\n",
       "      <td>GROCERY</td>\n",
       "      <td>National</td>\n",
       "      <td>DOG FOODS</td>\n",
       "      <td>SEMI MOIST DOG FOOD</td>\n",
       "      <td>1 LB</td>\n",
       "    </tr>\n",
       "    <tr>\n",
       "      <td>58745</td>\n",
       "      <td>18118989</td>\n",
       "      <td>69</td>\n",
       "      <td>GROCERY</td>\n",
       "      <td>Private</td>\n",
       "      <td>DOG FOODS</td>\n",
       "      <td>DRY DOG ECONOMY (COST CUTTER/F</td>\n",
       "      <td>37.5 LBS</td>\n",
       "    </tr>\n",
       "    <tr>\n",
       "      <td>58746</td>\n",
       "      <td>18185750</td>\n",
       "      <td>69</td>\n",
       "      <td>GROCERY</td>\n",
       "      <td>Private</td>\n",
       "      <td>FD WRAPS/BAGS/TRSH BG</td>\n",
       "      <td>FOOD STORAGE BAGS</td>\n",
       "      <td>15 CT</td>\n",
       "    </tr>\n",
       "  </tbody>\n",
       "</table>\n",
       "<p>58747 rows × 7 columns</p>\n",
       "</div>"
      ],
      "text/plain": [
       "       product_id  manufacturer  department     brand          commodity_desc  \\\n",
       "0           27860            69     GROCERY   Private            BAKING NEEDS   \n",
       "1           27951            69  MEAT-PCKGD   Private          DINNER SAUSAGE   \n",
       "2           28267            69  MEAT-PCKGD   Private          DINNER SAUSAGE   \n",
       "3           30003           397  MEAT-PCKGD  National             FROZEN MEAT   \n",
       "4           31493           151     GROCERY  National  FRZN MEAT/MEAT DINNERS   \n",
       "...           ...           ...         ...       ...                     ...   \n",
       "58742    18037791            69     GROCERY   Private               DOG FOODS   \n",
       "58743    18105562          6235     GROCERY  National               DOG FOODS   \n",
       "58744    18107080          6235     GROCERY  National               DOG FOODS   \n",
       "58745    18118989            69     GROCERY   Private               DOG FOODS   \n",
       "58746    18185750            69     GROCERY   Private   FD WRAPS/BAGS/TRSH BG   \n",
       "\n",
       "                   sub_commodity_desc curr_size_of_product  \n",
       "0        PIE FILLING MINCEMEAT GLAZES                21 OZ  \n",
       "1                               FRESH                18 OZ  \n",
       "2                               FRESH                18 OZ  \n",
       "3         FRZN BREADED PREPARED CHICK                 9 OZ  \n",
       "4      FRZN SS PREMIUM ENTREES/DNRS/T                10 OZ  \n",
       "...                               ...                  ...  \n",
       "58742  DRY DOG ECONOMY (COST CUTTER/F               15 LBS  \n",
       "58743             SEMI MOIST DOG FOOD               1.5 LB  \n",
       "58744             SEMI MOIST DOG FOOD                 1 LB  \n",
       "58745  DRY DOG ECONOMY (COST CUTTER/F             37.5 LBS  \n",
       "58746               FOOD STORAGE BAGS                15 CT  \n",
       "\n",
       "[58747 rows x 7 columns]"
      ]
     },
     "execution_count": 104,
     "metadata": {},
     "output_type": "execute_result"
    }
   ],
   "source": [
    "df_food = pd.concat([df_meat, df_seafood, df_sweets_snack, df_fruits, df_vegetable, df_veg_animal, df_beverage, df_condiments, df_carbs, df_meals])\n",
    "df_food.reset_index(drop=True)"
   ]
  },
  {
   "cell_type": "code",
   "execution_count": 166,
   "metadata": {},
   "outputs": [],
   "source": [
    "nfoods_no_size = df_food[df_food[\"curr_size_of_product\"] == \" \"].count()[\"product_id\"]\n",
    "nfoods = df_food.count()[\"product_id\"]"
   ]
  },
  {
   "cell_type": "code",
   "execution_count": 167,
   "metadata": {},
   "outputs": [
    {
     "name": "stdout",
     "output_type": "stream",
     "text": [
      "We have size info for 85.41% of food products\n"
     ]
    }
   ],
   "source": [
    "print(\"We have size info for {:.2f}% of food products\".format(100 * (1 - nfoods_no_size / nfoods)))"
   ]
  },
  {
   "cell_type": "markdown",
   "metadata": {},
   "source": [
    "## Transaction data and price analysis"
   ]
  },
  {
   "cell_type": "code",
   "execution_count": 107,
   "metadata": {},
   "outputs": [
    {
     "data": {
      "text/html": [
       "<div>\n",
       "<style scoped>\n",
       "    .dataframe tbody tr th:only-of-type {\n",
       "        vertical-align: middle;\n",
       "    }\n",
       "\n",
       "    .dataframe tbody tr th {\n",
       "        vertical-align: top;\n",
       "    }\n",
       "\n",
       "    .dataframe thead th {\n",
       "        text-align: right;\n",
       "    }\n",
       "</style>\n",
       "<table border=\"1\" class=\"dataframe\">\n",
       "  <thead>\n",
       "    <tr style=\"text-align: right;\">\n",
       "      <th></th>\n",
       "      <th>household_key</th>\n",
       "      <th>basket_id</th>\n",
       "      <th>day</th>\n",
       "      <th>product_id</th>\n",
       "      <th>quantity</th>\n",
       "      <th>sales_value</th>\n",
       "      <th>store_id</th>\n",
       "      <th>retail_disc</th>\n",
       "      <th>trans_time</th>\n",
       "      <th>week_no</th>\n",
       "      <th>coupon_disc</th>\n",
       "      <th>coupon_match_disc</th>\n",
       "    </tr>\n",
       "  </thead>\n",
       "  <tbody>\n",
       "    <tr>\n",
       "      <td>0</td>\n",
       "      <td>2375</td>\n",
       "      <td>26984851472</td>\n",
       "      <td>1</td>\n",
       "      <td>1004906</td>\n",
       "      <td>1</td>\n",
       "      <td>1.39</td>\n",
       "      <td>364</td>\n",
       "      <td>-0.60</td>\n",
       "      <td>1631</td>\n",
       "      <td>1</td>\n",
       "      <td>0.0</td>\n",
       "      <td>0.0</td>\n",
       "    </tr>\n",
       "    <tr>\n",
       "      <td>1</td>\n",
       "      <td>2375</td>\n",
       "      <td>26984851472</td>\n",
       "      <td>1</td>\n",
       "      <td>1033142</td>\n",
       "      <td>1</td>\n",
       "      <td>0.82</td>\n",
       "      <td>364</td>\n",
       "      <td>0.00</td>\n",
       "      <td>1631</td>\n",
       "      <td>1</td>\n",
       "      <td>0.0</td>\n",
       "      <td>0.0</td>\n",
       "    </tr>\n",
       "    <tr>\n",
       "      <td>2</td>\n",
       "      <td>2375</td>\n",
       "      <td>26984851472</td>\n",
       "      <td>1</td>\n",
       "      <td>1036325</td>\n",
       "      <td>1</td>\n",
       "      <td>0.99</td>\n",
       "      <td>364</td>\n",
       "      <td>-0.30</td>\n",
       "      <td>1631</td>\n",
       "      <td>1</td>\n",
       "      <td>0.0</td>\n",
       "      <td>0.0</td>\n",
       "    </tr>\n",
       "    <tr>\n",
       "      <td>3</td>\n",
       "      <td>2375</td>\n",
       "      <td>26984851472</td>\n",
       "      <td>1</td>\n",
       "      <td>1082185</td>\n",
       "      <td>1</td>\n",
       "      <td>1.21</td>\n",
       "      <td>364</td>\n",
       "      <td>0.00</td>\n",
       "      <td>1631</td>\n",
       "      <td>1</td>\n",
       "      <td>0.0</td>\n",
       "      <td>0.0</td>\n",
       "    </tr>\n",
       "    <tr>\n",
       "      <td>4</td>\n",
       "      <td>2375</td>\n",
       "      <td>26984851472</td>\n",
       "      <td>1</td>\n",
       "      <td>8160430</td>\n",
       "      <td>1</td>\n",
       "      <td>1.50</td>\n",
       "      <td>364</td>\n",
       "      <td>-0.39</td>\n",
       "      <td>1631</td>\n",
       "      <td>1</td>\n",
       "      <td>0.0</td>\n",
       "      <td>0.0</td>\n",
       "    </tr>\n",
       "  </tbody>\n",
       "</table>\n",
       "</div>"
      ],
      "text/plain": [
       "   household_key    basket_id  day  product_id  quantity  sales_value  \\\n",
       "0           2375  26984851472    1     1004906         1         1.39   \n",
       "1           2375  26984851472    1     1033142         1         0.82   \n",
       "2           2375  26984851472    1     1036325         1         0.99   \n",
       "3           2375  26984851472    1     1082185         1         1.21   \n",
       "4           2375  26984851472    1     8160430         1         1.50   \n",
       "\n",
       "   store_id  retail_disc  trans_time  week_no  coupon_disc  coupon_match_disc  \n",
       "0       364        -0.60        1631        1          0.0                0.0  \n",
       "1       364         0.00        1631        1          0.0                0.0  \n",
       "2       364        -0.30        1631        1          0.0                0.0  \n",
       "3       364         0.00        1631        1          0.0                0.0  \n",
       "4       364        -0.39        1631        1          0.0                0.0  "
      ]
     },
     "execution_count": 107,
     "metadata": {},
     "output_type": "execute_result"
    }
   ],
   "source": [
    "df_transaction = pd.read_csv('dunnhumby/transaction_data.csv')\n",
    "df_transaction.columns = map(str.lower, df_transaction.columns)\n",
    "df_transaction.head()"
   ]
  },
  {
   "cell_type": "markdown",
   "metadata": {},
   "source": [
    "Now let us join the food and transaction data for more insights."
   ]
  },
  {
   "cell_type": "code",
   "execution_count": 108,
   "metadata": {},
   "outputs": [],
   "source": [
    "df_food_trans = pd.merge(df_food, df_transaction, on='product_id', how='left')"
   ]
  },
  {
   "cell_type": "code",
   "execution_count": 109,
   "metadata": {},
   "outputs": [
    {
     "name": "stdout",
     "output_type": "stream",
     "text": [
      "The dataset contains 2501 individual households.\n"
     ]
    }
   ],
   "source": [
    "number_households = len(df_food_trans[\"household_key\"].unique())\n",
    "print('The dataset contains {} individual households.'.format(number_households))"
   ]
  },
  {
   "cell_type": "markdown",
   "metadata": {},
   "source": [
    "Let's check what percentile of the households did not buy meat and seafood products at all."
   ]
  },
  {
   "cell_type": "code",
   "execution_count": 110,
   "metadata": {},
   "outputs": [
    {
     "data": {
      "text/html": [
       "<div>\n",
       "<style scoped>\n",
       "    .dataframe tbody tr th:only-of-type {\n",
       "        vertical-align: middle;\n",
       "    }\n",
       "\n",
       "    .dataframe tbody tr th {\n",
       "        vertical-align: top;\n",
       "    }\n",
       "\n",
       "    .dataframe thead th {\n",
       "        text-align: right;\n",
       "    }\n",
       "</style>\n",
       "<table border=\"1\" class=\"dataframe\">\n",
       "  <thead>\n",
       "    <tr style=\"text-align: right;\">\n",
       "      <th></th>\n",
       "      <th>product_id</th>\n",
       "      <th>manufacturer</th>\n",
       "      <th>department</th>\n",
       "      <th>brand</th>\n",
       "      <th>commodity_desc</th>\n",
       "      <th>sub_commodity_desc</th>\n",
       "      <th>curr_size_of_product</th>\n",
       "    </tr>\n",
       "  </thead>\n",
       "  <tbody>\n",
       "    <tr>\n",
       "      <td>45</td>\n",
       "      <td>27860</td>\n",
       "      <td>69</td>\n",
       "      <td>GROCERY</td>\n",
       "      <td>Private</td>\n",
       "      <td>BAKING NEEDS</td>\n",
       "      <td>PIE FILLING MINCEMEAT GLAZES</td>\n",
       "      <td>21 OZ</td>\n",
       "    </tr>\n",
       "    <tr>\n",
       "      <td>52</td>\n",
       "      <td>27951</td>\n",
       "      <td>69</td>\n",
       "      <td>MEAT-PCKGD</td>\n",
       "      <td>Private</td>\n",
       "      <td>DINNER SAUSAGE</td>\n",
       "      <td>FRESH</td>\n",
       "      <td>18 OZ</td>\n",
       "    </tr>\n",
       "    <tr>\n",
       "      <td>71</td>\n",
       "      <td>28267</td>\n",
       "      <td>69</td>\n",
       "      <td>MEAT-PCKGD</td>\n",
       "      <td>Private</td>\n",
       "      <td>DINNER SAUSAGE</td>\n",
       "      <td>FRESH</td>\n",
       "      <td>18 OZ</td>\n",
       "    </tr>\n",
       "    <tr>\n",
       "      <td>123</td>\n",
       "      <td>30003</td>\n",
       "      <td>397</td>\n",
       "      <td>MEAT-PCKGD</td>\n",
       "      <td>National</td>\n",
       "      <td>FROZEN MEAT</td>\n",
       "      <td>FRZN BREADED PREPARED CHICK</td>\n",
       "      <td>9 OZ</td>\n",
       "    </tr>\n",
       "    <tr>\n",
       "      <td>156</td>\n",
       "      <td>31493</td>\n",
       "      <td>151</td>\n",
       "      <td>GROCERY</td>\n",
       "      <td>National</td>\n",
       "      <td>FRZN MEAT/MEAT DINNERS</td>\n",
       "      <td>FRZN SS PREMIUM ENTREES/DNRS/T</td>\n",
       "      <td>10 OZ</td>\n",
       "    </tr>\n",
       "  </tbody>\n",
       "</table>\n",
       "</div>"
      ],
      "text/plain": [
       "     product_id  manufacturer  department     brand          commodity_desc  \\\n",
       "45        27860            69     GROCERY   Private            BAKING NEEDS   \n",
       "52        27951            69  MEAT-PCKGD   Private          DINNER SAUSAGE   \n",
       "71        28267            69  MEAT-PCKGD   Private          DINNER SAUSAGE   \n",
       "123       30003           397  MEAT-PCKGD  National             FROZEN MEAT   \n",
       "156       31493           151     GROCERY  National  FRZN MEAT/MEAT DINNERS   \n",
       "\n",
       "                 sub_commodity_desc curr_size_of_product  \n",
       "45     PIE FILLING MINCEMEAT GLAZES                21 OZ  \n",
       "52                            FRESH                18 OZ  \n",
       "71                            FRESH                18 OZ  \n",
       "123     FRZN BREADED PREPARED CHICK                 9 OZ  \n",
       "156  FRZN SS PREMIUM ENTREES/DNRS/T                10 OZ  "
      ]
     },
     "execution_count": 110,
     "metadata": {},
     "output_type": "execute_result"
    }
   ],
   "source": [
    "df_meat_seafood = df_meat.append(df_seafood).drop_duplicates()\n",
    "df_meat_seafood.head()"
   ]
  },
  {
   "cell_type": "code",
   "execution_count": 111,
   "metadata": {},
   "outputs": [
    {
     "name": "stdout",
     "output_type": "stream",
     "text": [
      "Number of households who did not purchased any meat or seafood:  24\n"
     ]
    }
   ],
   "source": [
    "df_meat_seafood_trans = pd.merge(df_meat_seafood, df_transaction, on='product_id', how='left')\n",
    "number_household_meat_seafood = len(df_meat_seafood_trans[\"household_key\"].unique())\n",
    "print(\"Number of households who did not purchased any meat or seafood: % d\" %(number_households-number_household_meat_seafood))"
   ]
  },
  {
   "cell_type": "code",
   "execution_count": 112,
   "metadata": {},
   "outputs": [
    {
     "data": {
      "image/png": "[encoded data removed]",
      "text/plain": [
       "<Figure size 1152x504 with 1 Axes>"
      ]
     },
     "metadata": {
      "needs_background": "light"
     },
     "output_type": "display_data"
    }
   ],
   "source": [
    "weekly_meat_sea = df_meat_seafood_trans.groupby(\"week_no\").count()[\"product_id\"]\n",
    "weekly_trans = df_food_trans.groupby(\"week_no\").count()[\"product_id\"]\n",
    "plt.plot(weekly_meat_sea)\n",
    "plt.xlabel(\"Week\")\n",
    "plt.ylabel(\"Number of Meat and Seafood Transactions\")\n",
    "plt.title(\"Meat and Seafood Transactions [Weekly]\")\n",
    "plt.show()"
   ]
  },
  {
   "cell_type": "markdown",
   "metadata": {},
   "source": [
    "Overall there is no upwards or downwards trend of meat and seafood transactions. But it is weird that the meat and seafood transactions rose rapidly in the first few weeks. It is likely that in the beginning not all transactions were caught. We take a look at the relation between the number of transactions and the number of meat and seafood transactions. If the rise in the beginning is only due to the fact that not all transactions were recorded, then the relation should be linear."
   ]
  },
  {
   "cell_type": "code",
   "execution_count": 113,
   "metadata": {},
   "outputs": [
    {
     "data": {
      "image/png": "[encoded data removed]",
      "text/plain": [
       "<Figure size 1152x504 with 1 Axes>"
      ]
     },
     "metadata": {
      "needs_background": "light"
     },
     "output_type": "display_data"
    }
   ],
   "source": [
    "plt.scatter(weekly_trans, weekly_meat_sea)\n",
    "plt.xlabel(\"Number of Transactions\")\n",
    "plt.ylabel(\"Number of Meat and Seafood Transactions\")\n",
    "plt.title(\"Meat and Seafood Transaction in Relation to overall Number of Transactions [Weekly]\")\n",
    "plt.show()"
   ]
  },
  {
   "cell_type": "markdown",
   "metadata": {},
   "source": [
    "The relation is indeed linear.\n",
    "\n",
    "Next we take a look at the number of households which weekly buy meat or seafood products."
   ]
  },
  {
   "cell_type": "code",
   "execution_count": 114,
   "metadata": {},
   "outputs": [
    {
     "data": {
      "image/png": "[encoded data removed]",
      "text/plain": [
       "<Figure size 1152x504 with 1 Axes>"
      ]
     },
     "metadata": {
      "needs_background": "light"
     },
     "output_type": "display_data"
    }
   ],
   "source": [
    "plt.plot(df_meat_seafood_trans.groupby(\"week_no\")[\"household_key\"].nunique())\n",
    "plt.xlabel(\"Week\")\n",
    "plt.ylabel(\"Number of Households that purchased Meat or Seafood\")\n",
    "plt.title(\"Households that purchased Meat and Seafood Transactions [Weekly]\")\n",
    "plt.show()"
   ]
  },
  {
   "cell_type": "markdown",
   "metadata": {},
   "source": [
    "The number again stays relatively stable at around 800-900. That is surprising, because the number of households which did purchase a meat product in the two years is 2475.\n",
    "\n",
    "Let's check the number of households, which go vegetarian in a week."
   ]
  },
  {
   "cell_type": "code",
   "execution_count": 115,
   "metadata": {},
   "outputs": [
    {
     "data": {
      "image/png": "[encoded data removed]",
      "text/plain": [
       "<Figure size 1152x504 with 1 Axes>"
      ]
     },
     "metadata": {
      "needs_background": "light"
     },
     "output_type": "display_data"
    }
   ],
   "source": [
    "weekly_vege = df_food_trans.groupby(\"week_no\")[\"household_key\"].nunique()-df_meat_seafood_trans.groupby(\"week_no\")[\"household_key\"].nunique()\n",
    "plt.plot(weekly_vege)\n",
    "plt.xlabel(\"Week\")\n",
    "plt.ylabel(\"Number of Households that purchased Meat or Seafood\")\n",
    "plt.title(\"Relation of overall households and households that bought meat or seafood [Weekly]\")\n",
    "plt.show()"
   ]
  },
  {
   "cell_type": "markdown",
   "metadata": {},
   "source": [
    "Surprisingly the number is super high considering that almost all households do not live completely vegetarian. Lets check the frequency of the meat and seafood purchases of all households."
   ]
  },
  {
   "cell_type": "code",
   "execution_count": 116,
   "metadata": {},
   "outputs": [
    {
     "name": "stdout",
     "output_type": "stream",
     "text": [
      "household_key\n",
      "253     975\n",
      "718     952\n",
      "2459    849\n",
      "1795    848\n",
      "19      819\n",
      "1453    805\n",
      "1653    789\n",
      "1430    761\n",
      "389     760\n",
      "2296    736\n",
      "Name: product_id, dtype: int64\n"
     ]
    },
    {
     "data": {
      "image/png": "[encoded data removed]",
      "text/plain": [
       "<Figure size 1152x504 with 1 Axes>"
      ]
     },
     "metadata": {
      "needs_background": "light"
     },
     "output_type": "display_data"
    }
   ],
   "source": [
    "house_purchase = df_meat_seafood_trans.groupby(\"household_key\").count()[\"product_id\"]\n",
    "print(house_purchase.sort_values(ascending=False).head(10))\n",
    "plt.hist(house_purchase, bins=50)\n",
    "plt.xlabel(\"Number of meat and seafood transactions\")\n",
    "plt.ylabel(\"Frequency\")\n",
    "plt.title(\"Histrogram for Meat and SEAFOOD transaction in a household\")\n",
    "plt.show()"
   ]
  },
  {
   "cell_type": "markdown",
   "metadata": {},
   "source": [
    "## Categories of coupons per campaign"
   ]
  },
  {
   "cell_type": "markdown",
   "metadata": {},
   "source": [
    "To do some further analysis, we will create a function *products_categories()* taking the number of a campaign and plotting the repartition of products for which coupons were offered and were redeemed based on the categories previously defined. It will also return these 2 repartitions as dictionaries with the proportion of each category as values and the categories as keys. A parameter *show_plot* will enable to show or not the plot (if only the proportions are needed). Note that the proportions for the coupons redeemed are computed as the proportion out of the total number of coupons distributed (i.e. 20% coupons redeemed in 'meat' means that 20% of the coupons distributed were redeemed for 'meat'). This is not the same as saying that 20% of the coupons redeemed were for 'meat'."
   ]
  },
  {
   "cell_type": "code",
   "execution_count": 117,
   "metadata": {},
   "outputs": [],
   "source": [
    "# Create df with all remaining products (even non-food products)\n",
    "df_left_all = df_products[\n",
    "    ~df_products.index.isin(\n",
    "        np.concatenate(\n",
    "            (\n",
    "                df_meat.index,\n",
    "                df_seafood.index,\n",
    "                df_sweets_snack.index,\n",
    "                df_fruits.index,\n",
    "                df_vegetable.index,\n",
    "                df_beverage.index,\n",
    "                df_veg_animal.index,\n",
    "                df_condiments.index,\n",
    "                df_carbs.index,\n",
    "                df_meals.index,\n",
    "            )\n",
    "        )\n",
    "    )\n",
    "]"
   ]
  },
  {
   "cell_type": "code",
   "execution_count": 118,
   "metadata": {},
   "outputs": [],
   "source": [
    "#Categories of food (previously defined)\n",
    "categories = ['Meat', 'Seafood', 'Sweet snacks', 'Fruits', 'Vegetables', 'Veg animal', 'Beverage', 'Condiments', 'Carbs', 'Meals', 'Other']\n",
    "df_list = (df_meat, df_seafood, df_sweets_snack, df_fruits, df_vegetable, \n",
    "           df_veg_animal, df_beverage, df_condiments, df_carbs, df_meals, df_left_all)\n",
    "\n",
    "def products_categories(num_camp, show_plot = False):\n",
    "    proportions_dist = dict.fromkeys(categories)\n",
    "    proportions_red = dict.fromkeys(categories)\n",
    "    \n",
    "    #Compute the number of coupons in each category\n",
    "    for categ,df in enumerate(df_list):\n",
    "        #Check if coupon of a category are given for a specific campaign, otherwise simply puts 0 coupons (for coupons distributed)\n",
    "        if num_camp in df.merge(df_coupon, on = 'product_id').groupby(by = 'campaign').count().index:\n",
    "            proportions_dist[categories[categ]] = df.merge(df_coupon, on = 'product_id').groupby(by = 'campaign').count().loc[num_camp][1] \n",
    "        else:\n",
    "            proportions_dist[categories[categ]] = 0\n",
    "        #Check if coupon of a category are given for a specific campaign, otherwise simply puts 0 coupons (for coupons redeemed)    \n",
    "        if num_camp in df.merge(df_coupon[df_coupon.redeemed], on = 'product_id').groupby(by = 'campaign').count().index:  \n",
    "            proportions_red[categories[categ]] = df.merge(df_coupon[df_coupon.redeemed],\n",
    "                                                          on = 'product_id').groupby(by = 'campaign').count().loc[num_camp][1] \n",
    "        else:\n",
    "            proportions_red[categories[categ]] = 0\n",
    "    \n",
    "    #Compute the proportion as percentage\n",
    "        #Compute the total number of coupons distributed\n",
    "    total = 0\n",
    "    for i in proportions_dist.values(): \n",
    "           total += i \n",
    "    if total != 0:\n",
    "        #Compute proportion of coupons distributed per category\n",
    "        for key in proportions_dist.keys():\n",
    "            proportions_dist[key] = 100*proportions_dist[key]/total\n",
    "        #Compute proportion of coupons redeemed per category (proportion of the total number of coupons distributed)\n",
    "            proportions_red[key] = 100*proportions_red[key]/total\n",
    "    \n",
    "    #Plot the repartitions of products for which coupons were offered\n",
    "    if show_plot:   \n",
    "        # set width of bar\n",
    "        barWidth = 0.4\n",
    " \n",
    "        # Set position of bar on X axis\n",
    "        r = np.arange(len(proportions_dist))\n",
    "        r1 = [x - barWidth/2 for x in r]\n",
    "        r2 = [x + barWidth/2 for x in r]\n",
    " \n",
    "        # Make the plot\n",
    "        plt.bar(r1, list(proportions_dist.values()), width=barWidth, edgecolor='white', label='Distributed coupons')\n",
    "        plt.bar(r2, list(proportions_red.values()), width=barWidth, edgecolor='white', label='Redeemed coupons')\n",
    "        plt.xticks(range(len(proportions_dist)), list(proportions_dist.keys()))\n",
    "        plt.title('Proportions of coupons per category during campaign ' + str(num_camp))\n",
    "        plt.xlabel('Categories')\n",
    "        plt.ylabel('Proportion of coupons [%]')\n",
    "        plt.legend()\n",
    "        plt.show()\n",
    "    \n",
    "    return (proportions_dist, proportions_red)"
   ]
  },
  {
   "cell_type": "markdown",
   "metadata": {},
   "source": [
    "Let's see how the coupons distributed are spread over the different categories for campaign 4 for instance (a campaign mainly about sweet snacks)."
   ]
  },
  {
   "cell_type": "code",
   "execution_count": 119,
   "metadata": {},
   "outputs": [
    {
     "data": {
      "image/png": "[encoded data removed]",
      "text/plain": [
       "<Figure size 1152x504 with 1 Axes>"
      ]
     },
     "metadata": {
      "needs_background": "light"
     },
     "output_type": "display_data"
    }
   ],
   "source": [
    "(prop_dist, prop_red) = products_categories(4, True)"
   ]
  },
  {
   "cell_type": "markdown",
   "metadata": {},
   "source": [
    "Let's now take a more overall view, across all campaign. We will compute the proportions of coupons distributed in each category for all campaigns and plot the results in a stacked bar plot."
   ]
  },
  {
   "cell_type": "code",
   "execution_count": 120,
   "metadata": {},
   "outputs": [],
   "source": [
    "proportions_dist_overall = pd.DataFrame(columns = categories)\n",
    "for i in range(30):\n",
    "    proportions_dist_overall = proportions_dist_overall.append(products_categories(i+1)[0], ignore_index = True)\n",
    "proportions_dist_overall.set_index(df_campaign_desc.index, inplace = True)"
   ]
  },
  {
   "cell_type": "code",
   "execution_count": 121,
   "metadata": {},
   "outputs": [
    {
     "data": {
      "text/html": [
       "<div>\n",
       "<style scoped>\n",
       "    .dataframe tbody tr th:only-of-type {\n",
       "        vertical-align: middle;\n",
       "    }\n",
       "\n",
       "    .dataframe tbody tr th {\n",
       "        vertical-align: top;\n",
       "    }\n",
       "\n",
       "    .dataframe thead th {\n",
       "        text-align: right;\n",
       "    }\n",
       "</style>\n",
       "<table border=\"1\" class=\"dataframe\">\n",
       "  <thead>\n",
       "    <tr style=\"text-align: right;\">\n",
       "      <th></th>\n",
       "      <th>Meat</th>\n",
       "      <th>Seafood</th>\n",
       "      <th>Sweet snacks</th>\n",
       "      <th>Fruits</th>\n",
       "      <th>Vegetables</th>\n",
       "      <th>Veg animal</th>\n",
       "      <th>Beverage</th>\n",
       "      <th>Condiments</th>\n",
       "      <th>Carbs</th>\n",
       "      <th>Meals</th>\n",
       "      <th>Other</th>\n",
       "    </tr>\n",
       "    <tr>\n",
       "      <th>campaign</th>\n",
       "      <th></th>\n",
       "      <th></th>\n",
       "      <th></th>\n",
       "      <th></th>\n",
       "      <th></th>\n",
       "      <th></th>\n",
       "      <th></th>\n",
       "      <th></th>\n",
       "      <th></th>\n",
       "      <th></th>\n",
       "      <th></th>\n",
       "    </tr>\n",
       "  </thead>\n",
       "  <tbody>\n",
       "    <tr>\n",
       "      <td>1</td>\n",
       "      <td>11.488251</td>\n",
       "      <td>0.000000</td>\n",
       "      <td>14.360313</td>\n",
       "      <td>16.971279</td>\n",
       "      <td>17.754569</td>\n",
       "      <td>39.164491</td>\n",
       "      <td>0.000000</td>\n",
       "      <td>0.261097</td>\n",
       "      <td>0.00000</td>\n",
       "      <td>0.000000</td>\n",
       "      <td>0.000000</td>\n",
       "    </tr>\n",
       "    <tr>\n",
       "      <td>2</td>\n",
       "      <td>15.282392</td>\n",
       "      <td>2.990033</td>\n",
       "      <td>35.880399</td>\n",
       "      <td>0.000000</td>\n",
       "      <td>29.235880</td>\n",
       "      <td>0.664452</td>\n",
       "      <td>0.000000</td>\n",
       "      <td>8.637874</td>\n",
       "      <td>0.00000</td>\n",
       "      <td>7.308970</td>\n",
       "      <td>0.000000</td>\n",
       "    </tr>\n",
       "    <tr>\n",
       "      <td>3</td>\n",
       "      <td>0.540541</td>\n",
       "      <td>0.000000</td>\n",
       "      <td>13.108108</td>\n",
       "      <td>0.000000</td>\n",
       "      <td>0.000000</td>\n",
       "      <td>7.162162</td>\n",
       "      <td>5.945946</td>\n",
       "      <td>29.189189</td>\n",
       "      <td>0.00000</td>\n",
       "      <td>0.000000</td>\n",
       "      <td>44.054054</td>\n",
       "    </tr>\n",
       "    <tr>\n",
       "      <td>4</td>\n",
       "      <td>0.000000</td>\n",
       "      <td>0.000000</td>\n",
       "      <td>77.000000</td>\n",
       "      <td>0.000000</td>\n",
       "      <td>3.500000</td>\n",
       "      <td>17.500000</td>\n",
       "      <td>0.000000</td>\n",
       "      <td>2.000000</td>\n",
       "      <td>0.00000</td>\n",
       "      <td>0.000000</td>\n",
       "      <td>0.000000</td>\n",
       "    </tr>\n",
       "    <tr>\n",
       "      <td>5</td>\n",
       "      <td>0.000000</td>\n",
       "      <td>0.000000</td>\n",
       "      <td>0.451467</td>\n",
       "      <td>0.000000</td>\n",
       "      <td>0.000000</td>\n",
       "      <td>0.902935</td>\n",
       "      <td>1.354402</td>\n",
       "      <td>4.966140</td>\n",
       "      <td>2.48307</td>\n",
       "      <td>63.431151</td>\n",
       "      <td>26.410835</td>\n",
       "    </tr>\n",
       "  </tbody>\n",
       "</table>\n",
       "</div>"
      ],
      "text/plain": [
       "               Meat   Seafood  Sweet snacks     Fruits  Vegetables  \\\n",
       "campaign                                                             \n",
       "1         11.488251  0.000000     14.360313  16.971279   17.754569   \n",
       "2         15.282392  2.990033     35.880399   0.000000   29.235880   \n",
       "3          0.540541  0.000000     13.108108   0.000000    0.000000   \n",
       "4          0.000000  0.000000     77.000000   0.000000    3.500000   \n",
       "5          0.000000  0.000000      0.451467   0.000000    0.000000   \n",
       "\n",
       "          Veg animal  Beverage  Condiments    Carbs      Meals      Other  \n",
       "campaign                                                                   \n",
       "1          39.164491  0.000000    0.261097  0.00000   0.000000   0.000000  \n",
       "2           0.664452  0.000000    8.637874  0.00000   7.308970   0.000000  \n",
       "3           7.162162  5.945946   29.189189  0.00000   0.000000  44.054054  \n",
       "4          17.500000  0.000000    2.000000  0.00000   0.000000   0.000000  \n",
       "5           0.902935  1.354402    4.966140  2.48307  63.431151  26.410835  "
      ]
     },
     "execution_count": 121,
     "metadata": {},
     "output_type": "execute_result"
    }
   ],
   "source": [
    "proportions_dist_overall.head()"
   ]
  },
  {
   "cell_type": "code",
   "execution_count": 122,
   "metadata": {},
   "outputs": [
    {
     "data": {
      "image/png": "[encoded data removed]",
      "text/plain": [
       "<Figure size 1152x504 with 1 Axes>"
      ]
     },
     "metadata": {
      "needs_background": "light"
     },
     "output_type": "display_data"
    }
   ],
   "source": [
    "proportions_dist_overall.plot.bar(stacked = True)\n",
    "plt.title('Proportions of coupon distributed per category for each campaign')\n",
    "plt.xticks(rotation = 'horizontal')\n",
    "plt.ylabel('Proportions of coupon [%]')\n",
    "plt.legend(loc = 5, bbox_to_anchor = (1.13,0.77))\n",
    "plt.show()"
   ]
  },
  {
   "cell_type": "markdown",
   "metadata": {},
   "source": [
    "We can do the same for the proportions of coupons redeemed per category for each campaign. Note that in this case the total will not add to 100% as not all coupons are redeemed during a campaign."
   ]
  },
  {
   "cell_type": "code",
   "execution_count": 123,
   "metadata": {},
   "outputs": [],
   "source": [
    "proportions_red_overall = pd.DataFrame(columns = categories)\n",
    "for i in range(30):\n",
    "    proportions_red_overall = proportions_red_overall.append(products_categories(i+1)[1], ignore_index = True)\n",
    "proportions_red_overall.set_index(df_campaign_desc.index, inplace = True)"
   ]
  },
  {
   "cell_type": "code",
   "execution_count": 124,
   "metadata": {},
   "outputs": [
    {
     "data": {
      "image/png": "[encoded data removed]",
      "text/plain": [
       "<Figure size 1152x504 with 1 Axes>"
      ]
     },
     "metadata": {
      "needs_background": "light"
     },
     "output_type": "display_data"
    }
   ],
   "source": [
    "proportions_red_overall.plot.bar(stacked = True)\n",
    "plt.title('Proportions of coupon redeemed per category for each campaign')\n",
    "plt.xticks(rotation = 'horizontal')\n",
    "plt.ylabel('Proportions of coupon [%]')\n",
    "plt.legend(loc = 5, bbox_to_anchor = (1.13,0.77))\n",
    "plt.show()"
   ]
  },
  {
   "cell_type": "markdown",
   "metadata": {},
   "source": [
    "## Vegetarian vs non-vegetarian"
   ]
  },
  {
   "cell_type": "markdown",
   "metadata": {},
   "source": [
    "As one can see, it is still quite hard to understand what is happening. We will thus group products in fewer categories: vegetarian, non-vegetarian, unknown and other. The 'unknown' category comprises all categories were the exact list of ingredients would be needed to know if it is vegetarian or not."
   ]
  },
  {
   "cell_type": "code",
   "execution_count": 125,
   "metadata": {},
   "outputs": [],
   "source": [
    "proportions_dist_final = pd.DataFrame()\n",
    "proportions_dist_final['Vegetarian'] = proportions_dist_overall['Fruits'] + proportions_dist_overall['Vegetables'] + proportions_dist_overall['Veg animal'] + proportions_dist_overall['Carbs']\n",
    "proportions_dist_final['Non-vegetarian'] = proportions_dist_overall['Meat'] + proportions_dist_overall['Seafood']\n",
    "proportions_dist_final['Unknown'] = proportions_dist_overall['Sweet snacks'] + proportions_dist_overall['Beverage'] + proportions_dist_overall['Condiments'] + proportions_dist_overall['Meals']\n",
    "proportions_dist_final['Other'] = proportions_dist_overall['Other']"
   ]
  },
  {
   "cell_type": "code",
   "execution_count": 126,
   "metadata": {},
   "outputs": [
    {
     "data": {
      "image/png": "[encoded data removed]",
      "text/plain": [
       "<Figure size 1152x504 with 1 Axes>"
      ]
     },
     "metadata": {
      "needs_background": "light"
     },
     "output_type": "display_data"
    }
   ],
   "source": [
    "proportions_dist_final.plot.bar(stacked = True, color = ['green', 'red', 'blue', 'grey'])\n",
    "plt.title('Proportions of coupon distributed per category for each campaign')\n",
    "plt.xticks(rotation = 'horizontal')\n",
    "plt.ylabel('Proportions of coupon [%]')\n",
    "plt.legend(loc = 5, bbox_to_anchor = (1.14,0.77))\n",
    "plt.show()"
   ]
  },
  {
   "cell_type": "code",
   "execution_count": 127,
   "metadata": {},
   "outputs": [],
   "source": [
    "proportions_red_final = pd.DataFrame()\n",
    "proportions_red_final['Vegetarian'] = proportions_red_overall['Fruits'] + proportions_red_overall['Vegetables'] + proportions_red_overall['Veg animal'] + proportions_red_overall['Carbs']\n",
    "proportions_red_final['Non-vegetarian'] = proportions_red_overall['Meat'] + proportions_red_overall['Seafood']\n",
    "proportions_red_final['Unknown'] = proportions_red_overall['Sweet snacks'] + proportions_red_overall['Beverage'] + proportions_red_overall['Condiments'] + proportions_red_overall['Meals']\n",
    "proportions_red_final['Other'] = proportions_red_overall['Other']"
   ]
  },
  {
   "cell_type": "code",
   "execution_count": 128,
   "metadata": {},
   "outputs": [
    {
     "data": {
      "image/png": "[encoded data removed]",
      "text/plain": [
       "<Figure size 1152x504 with 1 Axes>"
      ]
     },
     "metadata": {
      "needs_background": "light"
     },
     "output_type": "display_data"
    }
   ],
   "source": [
    "proportions_red_final.plot.bar(stacked = True, color = ['green', 'red', 'blue', 'grey'])\n",
    "plt.title('Proportions of coupon redeemed per category for each campaign')\n",
    "plt.xticks(rotation = 'horizontal')\n",
    "plt.ylabel('Proportions of coupon [%]')\n",
    "plt.legend(loc = 5, bbox_to_anchor = (1.14,0.77))\n",
    "plt.show()"
   ]
  },
  {
   "cell_type": "markdown",
   "metadata": {},
   "source": [
    "Let's have a more overall view at the vegetarian vs non-vegetarian proportions of coupons distributed and redeemed."
   ]
  },
  {
   "cell_type": "code",
   "execution_count": 129,
   "metadata": {},
   "outputs": [
    {
     "data": {
      "image/png": "[encoded data removed]",
      "text/plain": [
       "<Figure size 1152x504 with 2 Axes>"
      ]
     },
     "metadata": {
      "needs_background": "light"
     },
     "output_type": "display_data"
    }
   ],
   "source": [
    "fig, axes = plt.subplots(1,2)\n",
    "\n",
    "axes[0].boxplot((proportions_dist_final['Vegetarian'],proportions_dist_final['Non-vegetarian']), \n",
    "                labels = ('Vegetarian', 'Non-vegetarian'),\n",
    "                notch = True, bootstrap = 1000, #Add CI for median, computed through bootstrap with n = 1000\n",
    "                widths = 0.6,\n",
    "                showmeans = True) #Add arithmetic means as green triangle\n",
    "axes[0].set_title('Coupons distributed')\n",
    "axes[1].boxplot((proportions_red_final['Vegetarian'],proportions_red_final['Non-vegetarian']), \n",
    "                labels = ('Vegetarian', 'Non-vegetarian'),\n",
    "                notch = True, bootstrap = 1000, #Add CI for median, computed through bootstrap with n = 1000\n",
    "                widths = 0.6,\n",
    "                showmeans = True) #Add arithmetic means as green triangle\n",
    "axes[1].set_title('Coupons redeemed')\n",
    "\n",
    "for ax in axes:\n",
    "    ax.set_xlabel('Category')\n",
    "    ax.set_ylabel('Proportion of coupons')\n",
    "\n",
    "fig.suptitle('Vegetarian vs non-vegetarian proportions of coupons (overall view)')\n",
    "plt.show()"
   ]
  },
  {
   "cell_type": "markdown",
   "metadata": {},
   "source": [
    "# Advertisement analysis"
   ]
  },
  {
   "cell_type": "code",
   "execution_count": 130,
   "metadata": {},
   "outputs": [
    {
     "data": {
      "text/html": [
       "<div>\n",
       "<style scoped>\n",
       "    .dataframe tbody tr th:only-of-type {\n",
       "        vertical-align: middle;\n",
       "    }\n",
       "\n",
       "    .dataframe tbody tr th {\n",
       "        vertical-align: top;\n",
       "    }\n",
       "\n",
       "    .dataframe thead th {\n",
       "        text-align: right;\n",
       "    }\n",
       "</style>\n",
       "<table border=\"1\" class=\"dataframe\">\n",
       "  <thead>\n",
       "    <tr style=\"text-align: right;\">\n",
       "      <th></th>\n",
       "      <th>product_id</th>\n",
       "      <th>store_id</th>\n",
       "      <th>week_no</th>\n",
       "      <th>display</th>\n",
       "      <th>mailer</th>\n",
       "    </tr>\n",
       "  </thead>\n",
       "  <tbody>\n",
       "    <tr>\n",
       "      <td>0</td>\n",
       "      <td>26190</td>\n",
       "      <td>286</td>\n",
       "      <td>70</td>\n",
       "      <td>0</td>\n",
       "      <td>A</td>\n",
       "    </tr>\n",
       "    <tr>\n",
       "      <td>1</td>\n",
       "      <td>26190</td>\n",
       "      <td>288</td>\n",
       "      <td>70</td>\n",
       "      <td>0</td>\n",
       "      <td>A</td>\n",
       "    </tr>\n",
       "    <tr>\n",
       "      <td>2</td>\n",
       "      <td>26190</td>\n",
       "      <td>289</td>\n",
       "      <td>70</td>\n",
       "      <td>0</td>\n",
       "      <td>A</td>\n",
       "    </tr>\n",
       "    <tr>\n",
       "      <td>3</td>\n",
       "      <td>26190</td>\n",
       "      <td>292</td>\n",
       "      <td>70</td>\n",
       "      <td>0</td>\n",
       "      <td>A</td>\n",
       "    </tr>\n",
       "    <tr>\n",
       "      <td>4</td>\n",
       "      <td>26190</td>\n",
       "      <td>293</td>\n",
       "      <td>70</td>\n",
       "      <td>0</td>\n",
       "      <td>A</td>\n",
       "    </tr>\n",
       "  </tbody>\n",
       "</table>\n",
       "</div>"
      ],
      "text/plain": [
       "   product_id  store_id  week_no display mailer\n",
       "0       26190       286       70       0      A\n",
       "1       26190       288       70       0      A\n",
       "2       26190       289       70       0      A\n",
       "3       26190       292       70       0      A\n",
       "4       26190       293       70       0      A"
      ]
     },
     "execution_count": 130,
     "metadata": {},
     "output_type": "execute_result"
    }
   ],
   "source": [
    "df_causal.head()"
   ]
  },
  {
   "cell_type": "markdown",
   "metadata": {},
   "source": [
    "Let's start by changing the 'display' and 'mailer' values to make them more explicit. We will define two dict and then use the map() method for this."
   ]
  },
  {
   "cell_type": "code",
   "execution_count": 131,
   "metadata": {},
   "outputs": [],
   "source": [
    "display_dict = {'0':'Not on Display', '1':'Store Front', '2':'Store Rear', '3':'Front End Cap',\n",
    "                '4':'Mid-Aisle End Cap', '5':'Read End Cap', '6':'Side-Aisle End Cap', '7':'In-Aisle' ,\n",
    "                '9':'Secondary Location Display' ,'A':'In-Shelf' }\n",
    "mailer_dict = {'0':'Not on ad', 'A':'Interior page feature', 'C':'Interior page line item', \n",
    "              'D':'Front page feature', 'F':'Back page feature', 'H':'Wrap front feature',\n",
    "              'J':'Wrap interior coupon', 'L':'Wrap back feature', 'P':'Interior page coupon',\n",
    "              'X':'Free on interior page', 'Z':'Free on front page, back page or wrap'}"
   ]
  },
  {
   "cell_type": "code",
   "execution_count": 132,
   "metadata": {},
   "outputs": [],
   "source": [
    "df_causal.display = df_causal.display.apply(lambda x: str(x))\n",
    "df_causal.display = df_causal.display.map(display_dict, na_action = 'ignore')\n",
    "df_causal.mailer = df_causal.mailer.map(mailer_dict, na_action = 'ignore')"
   ]
  },
  {
   "cell_type": "markdown",
   "metadata": {},
   "source": [
    "Let's observe how many products we have in each category, both for display and mailer."
   ]
  },
  {
   "cell_type": "code",
   "execution_count": 133,
   "metadata": {},
   "outputs": [
    {
     "data": {
      "image/png": "[encoded data removed]",
      "text/plain": [
       "<Figure size 1152x504 with 1 Axes>"
      ]
     },
     "metadata": {
      "needs_background": "light"
     },
     "output_type": "display_data"
    }
   ],
   "source": [
    "df_causal.groupby(by = 'display').count().mailer.plot(kind = 'barh')\n",
    "plt.show()"
   ]
  },
  {
   "cell_type": "markdown",
   "metadata": {},
   "source": [
    "As expected, many products are simply not in display."
   ]
  },
  {
   "cell_type": "code",
   "execution_count": 134,
   "metadata": {},
   "outputs": [
    {
     "data": {
      "image/png": "[encoded data removed]",
      "text/plain": [
       "<Figure size 1152x504 with 1 Axes>"
      ]
     },
     "metadata": {
      "needs_background": "light"
     },
     "output_type": "display_data"
    }
   ],
   "source": [
    "df_causal.groupby(by = 'mailer').count().display.plot(kind = 'barh')\n",
    "plt.show()"
   ]
  },
  {
   "cell_type": "markdown",
   "metadata": {},
   "source": [
    "As expected, the largest numbers of ads are in the interior or front pages."
   ]
  },
  {
   "cell_type": "markdown",
   "metadata": {},
   "source": [
    "Let's now analyse the ads distribution for each category of food previously defined. To do this, we will define a function ads_categories() that will take a dataframe (one of the 11 dataframes of the categories of food) and return the distribution of ads (as percentages). A show_plot parameter will decide if we want to directly plot the distribution in a bar plot."
   ]
  },
  {
   "cell_type": "code",
   "execution_count": 135,
   "metadata": {},
   "outputs": [],
   "source": [
    "def ads_categories(df, categ = '', show_plot = False):\n",
    "    count = df.merge(df_causal, on = 'product_id').groupby(by = 'mailer').display.count()\n",
    "    proportions = count.map(lambda x: 100*x/count.sum())\n",
    "    \n",
    "    if show_plot:\n",
    "        proportions.plot.bar()\n",
    "        plt.title('Proportion of mailer ads for %s' %categ)\n",
    "        plt.xlabel('Type of ads')\n",
    "        plt.xticks(rotation = 30)\n",
    "        plt.ylabel('Proportion of ads [%]')\n",
    "        plt.show()\n",
    "    \n",
    "    return (proportions,count)"
   ]
  },
  {
   "cell_type": "markdown",
   "metadata": {},
   "source": [
    "Let's give an example for meat for instance."
   ]
  },
  {
   "cell_type": "code",
   "execution_count": 136,
   "metadata": {},
   "outputs": [
    {
     "data": {
      "image/png": "[encoded data removed]",
      "text/plain": [
       "<Figure size 1152x504 with 1 Axes>"
      ]
     },
     "metadata": {
      "needs_background": "light"
     },
     "output_type": "display_data"
    }
   ],
   "source": [
    "(prop_meat,count_meat) = ads_categories(df_meat, 'meat', True)"
   ]
  },
  {
   "cell_type": "markdown",
   "metadata": {},
   "source": [
    "Let's create a dataframe to store the ads proportions for each category of food."
   ]
  },
  {
   "cell_type": "code",
   "execution_count": 137,
   "metadata": {},
   "outputs": [],
   "source": [
    "df_ads_prop = pd.DataFrame(index = mailer_dict.values(), columns = categories)\n",
    "df_ads_prop.sort_index(inplace = True)\n",
    "df_ads_prop.index.name = 'Type of ads'\n",
    "\n",
    "df_ads_count = pd.DataFrame(index = mailer_dict.values(), columns = categories)\n",
    "df_ads_count.sort_index(inplace = True)\n",
    "df_ads_count.index.name = 'Type of ads'"
   ]
  },
  {
   "cell_type": "code",
   "execution_count": 138,
   "metadata": {},
   "outputs": [
    {
     "data": {
      "text/html": [
       "<div>\n",
       "<style scoped>\n",
       "    .dataframe tbody tr th:only-of-type {\n",
       "        vertical-align: middle;\n",
       "    }\n",
       "\n",
       "    .dataframe tbody tr th {\n",
       "        vertical-align: top;\n",
       "    }\n",
       "\n",
       "    .dataframe thead th {\n",
       "        text-align: right;\n",
       "    }\n",
       "</style>\n",
       "<table border=\"1\" class=\"dataframe\">\n",
       "  <thead>\n",
       "    <tr style=\"text-align: right;\">\n",
       "      <th></th>\n",
       "      <th>Meat</th>\n",
       "      <th>Seafood</th>\n",
       "      <th>Sweet snacks</th>\n",
       "      <th>Fruits</th>\n",
       "      <th>Vegetables</th>\n",
       "      <th>Veg animal</th>\n",
       "      <th>Beverage</th>\n",
       "      <th>Condiments</th>\n",
       "      <th>Carbs</th>\n",
       "      <th>Meals</th>\n",
       "      <th>Other</th>\n",
       "    </tr>\n",
       "    <tr>\n",
       "      <th>Type of ads</th>\n",
       "      <th></th>\n",
       "      <th></th>\n",
       "      <th></th>\n",
       "      <th></th>\n",
       "      <th></th>\n",
       "      <th></th>\n",
       "      <th></th>\n",
       "      <th></th>\n",
       "      <th></th>\n",
       "      <th></th>\n",
       "      <th></th>\n",
       "    </tr>\n",
       "  </thead>\n",
       "  <tbody>\n",
       "    <tr>\n",
       "      <td>Back page feature</td>\n",
       "      <td>1.326539</td>\n",
       "      <td>0.409529</td>\n",
       "      <td>2.898073</td>\n",
       "      <td>42.638624</td>\n",
       "      <td>10.425027</td>\n",
       "      <td>0.259567</td>\n",
       "      <td>0.529633</td>\n",
       "      <td>0.868442</td>\n",
       "      <td>0.263158</td>\n",
       "      <td>6.433533</td>\n",
       "      <td>0.635639</td>\n",
       "    </tr>\n",
       "    <tr>\n",
       "      <td>Free on front page, back page or wrap</td>\n",
       "      <td>NaN</td>\n",
       "      <td>NaN</td>\n",
       "      <td>0.148451</td>\n",
       "      <td>NaN</td>\n",
       "      <td>NaN</td>\n",
       "      <td>0.029404</td>\n",
       "      <td>NaN</td>\n",
       "      <td>0.000306</td>\n",
       "      <td>NaN</td>\n",
       "      <td>0.024577</td>\n",
       "      <td>0.001866</td>\n",
       "    </tr>\n",
       "    <tr>\n",
       "      <td>Free on interior page</td>\n",
       "      <td>0.137972</td>\n",
       "      <td>NaN</td>\n",
       "      <td>0.431924</td>\n",
       "      <td>NaN</td>\n",
       "      <td>NaN</td>\n",
       "      <td>0.215896</td>\n",
       "      <td>0.922489</td>\n",
       "      <td>0.232625</td>\n",
       "      <td>0.516948</td>\n",
       "      <td>0.078540</td>\n",
       "      <td>0.211327</td>\n",
       "    </tr>\n",
       "    <tr>\n",
       "      <td>Front page feature</td>\n",
       "      <td>15.291547</td>\n",
       "      <td>0.902767</td>\n",
       "      <td>9.680359</td>\n",
       "      <td>7.371521</td>\n",
       "      <td>9.686958</td>\n",
       "      <td>31.973922</td>\n",
       "      <td>21.871803</td>\n",
       "      <td>1.482297</td>\n",
       "      <td>10.532672</td>\n",
       "      <td>10.895891</td>\n",
       "      <td>1.138383</td>\n",
       "    </tr>\n",
       "    <tr>\n",
       "      <td>Interior page coupon</td>\n",
       "      <td>0.000439</td>\n",
       "      <td>0.019757</td>\n",
       "      <td>0.000133</td>\n",
       "      <td>0.000149</td>\n",
       "      <td>NaN</td>\n",
       "      <td>NaN</td>\n",
       "      <td>NaN</td>\n",
       "      <td>0.000077</td>\n",
       "      <td>NaN</td>\n",
       "      <td>0.001020</td>\n",
       "      <td>0.007387</td>\n",
       "    </tr>\n",
       "    <tr>\n",
       "      <td>Interior page feature</td>\n",
       "      <td>58.947636</td>\n",
       "      <td>51.109178</td>\n",
       "      <td>40.776344</td>\n",
       "      <td>22.743902</td>\n",
       "      <td>50.829157</td>\n",
       "      <td>46.992706</td>\n",
       "      <td>27.394318</td>\n",
       "      <td>50.844376</td>\n",
       "      <td>59.244924</td>\n",
       "      <td>53.490345</td>\n",
       "      <td>55.223489</td>\n",
       "    </tr>\n",
       "    <tr>\n",
       "      <td>Interior page line item</td>\n",
       "      <td>0.644314</td>\n",
       "      <td>1.183181</td>\n",
       "      <td>1.080173</td>\n",
       "      <td>1.064265</td>\n",
       "      <td>0.395106</td>\n",
       "      <td>0.868441</td>\n",
       "      <td>0.116542</td>\n",
       "      <td>1.049721</td>\n",
       "      <td>0.750130</td>\n",
       "      <td>0.499800</td>\n",
       "      <td>0.801908</td>\n",
       "    </tr>\n",
       "    <tr>\n",
       "      <td>Not on ad</td>\n",
       "      <td>17.596684</td>\n",
       "      <td>37.669410</td>\n",
       "      <td>39.163240</td>\n",
       "      <td>19.163329</td>\n",
       "      <td>18.270194</td>\n",
       "      <td>13.624105</td>\n",
       "      <td>43.829632</td>\n",
       "      <td>40.113466</td>\n",
       "      <td>21.384956</td>\n",
       "      <td>20.376264</td>\n",
       "      <td>38.518944</td>\n",
       "    </tr>\n",
       "    <tr>\n",
       "      <td>Wrap back feature</td>\n",
       "      <td>1.159260</td>\n",
       "      <td>0.397571</td>\n",
       "      <td>1.222001</td>\n",
       "      <td>0.968626</td>\n",
       "      <td>0.403883</td>\n",
       "      <td>0.246589</td>\n",
       "      <td>0.560094</td>\n",
       "      <td>1.220976</td>\n",
       "      <td>0.078185</td>\n",
       "      <td>0.692629</td>\n",
       "      <td>0.305043</td>\n",
       "    </tr>\n",
       "    <tr>\n",
       "      <td>Wrap front feature</td>\n",
       "      <td>4.568574</td>\n",
       "      <td>8.294743</td>\n",
       "      <td>3.677279</td>\n",
       "      <td>3.806167</td>\n",
       "      <td>8.290921</td>\n",
       "      <td>4.597848</td>\n",
       "      <td>3.930641</td>\n",
       "      <td>3.340162</td>\n",
       "      <td>5.252160</td>\n",
       "      <td>6.268925</td>\n",
       "      <td>2.901909</td>\n",
       "    </tr>\n",
       "    <tr>\n",
       "      <td>Wrap interior coupon</td>\n",
       "      <td>0.327035</td>\n",
       "      <td>0.013865</td>\n",
       "      <td>0.922023</td>\n",
       "      <td>2.243416</td>\n",
       "      <td>1.698755</td>\n",
       "      <td>1.191522</td>\n",
       "      <td>0.844848</td>\n",
       "      <td>0.847552</td>\n",
       "      <td>1.976867</td>\n",
       "      <td>1.238475</td>\n",
       "      <td>0.254105</td>\n",
       "    </tr>\n",
       "  </tbody>\n",
       "</table>\n",
       "</div>"
      ],
      "text/plain": [
       "                                            Meat    Seafood  Sweet snacks  \\\n",
       "Type of ads                                                                 \n",
       "Back page feature                       1.326539   0.409529      2.898073   \n",
       "Free on front page, back page or wrap        NaN        NaN      0.148451   \n",
       "Free on interior page                   0.137972        NaN      0.431924   \n",
       "Front page feature                     15.291547   0.902767      9.680359   \n",
       "Interior page coupon                    0.000439   0.019757      0.000133   \n",
       "Interior page feature                  58.947636  51.109178     40.776344   \n",
       "Interior page line item                 0.644314   1.183181      1.080173   \n",
       "Not on ad                              17.596684  37.669410     39.163240   \n",
       "Wrap back feature                       1.159260   0.397571      1.222001   \n",
       "Wrap front feature                      4.568574   8.294743      3.677279   \n",
       "Wrap interior coupon                    0.327035   0.013865      0.922023   \n",
       "\n",
       "                                          Fruits  Vegetables  Veg animal  \\\n",
       "Type of ads                                                                \n",
       "Back page feature                      42.638624   10.425027    0.259567   \n",
       "Free on front page, back page or wrap        NaN         NaN    0.029404   \n",
       "Free on interior page                        NaN         NaN    0.215896   \n",
       "Front page feature                      7.371521    9.686958   31.973922   \n",
       "Interior page coupon                    0.000149         NaN         NaN   \n",
       "Interior page feature                  22.743902   50.829157   46.992706   \n",
       "Interior page line item                 1.064265    0.395106    0.868441   \n",
       "Not on ad                              19.163329   18.270194   13.624105   \n",
       "Wrap back feature                       0.968626    0.403883    0.246589   \n",
       "Wrap front feature                      3.806167    8.290921    4.597848   \n",
       "Wrap interior coupon                    2.243416    1.698755    1.191522   \n",
       "\n",
       "                                        Beverage  Condiments      Carbs  \\\n",
       "Type of ads                                                               \n",
       "Back page feature                       0.529633    0.868442   0.263158   \n",
       "Free on front page, back page or wrap        NaN    0.000306        NaN   \n",
       "Free on interior page                   0.922489    0.232625   0.516948   \n",
       "Front page feature                     21.871803    1.482297  10.532672   \n",
       "Interior page coupon                         NaN    0.000077        NaN   \n",
       "Interior page feature                  27.394318   50.844376  59.244924   \n",
       "Interior page line item                 0.116542    1.049721   0.750130   \n",
       "Not on ad                              43.829632   40.113466  21.384956   \n",
       "Wrap back feature                       0.560094    1.220976   0.078185   \n",
       "Wrap front feature                      3.930641    3.340162   5.252160   \n",
       "Wrap interior coupon                    0.844848    0.847552   1.976867   \n",
       "\n",
       "                                           Meals      Other  \n",
       "Type of ads                                                  \n",
       "Back page feature                       6.433533   0.635639  \n",
       "Free on front page, back page or wrap   0.024577   0.001866  \n",
       "Free on interior page                   0.078540   0.211327  \n",
       "Front page feature                     10.895891   1.138383  \n",
       "Interior page coupon                    0.001020   0.007387  \n",
       "Interior page feature                  53.490345  55.223489  \n",
       "Interior page line item                 0.499800   0.801908  \n",
       "Not on ad                              20.376264  38.518944  \n",
       "Wrap back feature                       0.692629   0.305043  \n",
       "Wrap front feature                      6.268925   2.901909  \n",
       "Wrap interior coupon                    1.238475   0.254105  "
      ]
     },
     "execution_count": 138,
     "metadata": {},
     "output_type": "execute_result"
    }
   ],
   "source": [
    "for i,df in enumerate(df_list):\n",
    "    df_ads_prop[categories[i]] = ads_categories(df)[0]\n",
    "    df_ads_count[categories[i]] = ads_categories(df)[1]\n",
    "df_ads_prop"
   ]
  },
  {
   "cell_type": "markdown",
   "metadata": {},
   "source": [
    "We notice some values are set to NaN. This happens because, if there are no ads of the specific type of mailer, it is simply missing from the series. We can therefore simply fill all NaN values with 0."
   ]
  },
  {
   "cell_type": "code",
   "execution_count": 139,
   "metadata": {},
   "outputs": [
    {
     "data": {
      "text/html": [
       "<div>\n",
       "<style scoped>\n",
       "    .dataframe tbody tr th:only-of-type {\n",
       "        vertical-align: middle;\n",
       "    }\n",
       "\n",
       "    .dataframe tbody tr th {\n",
       "        vertical-align: top;\n",
       "    }\n",
       "\n",
       "    .dataframe thead th {\n",
       "        text-align: right;\n",
       "    }\n",
       "</style>\n",
       "<table border=\"1\" class=\"dataframe\">\n",
       "  <thead>\n",
       "    <tr style=\"text-align: right;\">\n",
       "      <th></th>\n",
       "      <th>Meat</th>\n",
       "      <th>Seafood</th>\n",
       "      <th>Sweet snacks</th>\n",
       "      <th>Fruits</th>\n",
       "      <th>Vegetables</th>\n",
       "      <th>Veg animal</th>\n",
       "      <th>Beverage</th>\n",
       "      <th>Condiments</th>\n",
       "      <th>Carbs</th>\n",
       "      <th>Meals</th>\n",
       "      <th>Other</th>\n",
       "    </tr>\n",
       "    <tr>\n",
       "      <th>Type of ads</th>\n",
       "      <th></th>\n",
       "      <th></th>\n",
       "      <th></th>\n",
       "      <th></th>\n",
       "      <th></th>\n",
       "      <th></th>\n",
       "      <th></th>\n",
       "      <th></th>\n",
       "      <th></th>\n",
       "      <th></th>\n",
       "      <th></th>\n",
       "    </tr>\n",
       "  </thead>\n",
       "  <tbody>\n",
       "    <tr>\n",
       "      <td>Back page feature</td>\n",
       "      <td>1.326539</td>\n",
       "      <td>0.409529</td>\n",
       "      <td>2.898073</td>\n",
       "      <td>42.638624</td>\n",
       "      <td>10.425027</td>\n",
       "      <td>0.259567</td>\n",
       "      <td>0.529633</td>\n",
       "      <td>0.868442</td>\n",
       "      <td>0.263158</td>\n",
       "      <td>6.433533</td>\n",
       "      <td>0.635639</td>\n",
       "    </tr>\n",
       "    <tr>\n",
       "      <td>Free on front page, back page or wrap</td>\n",
       "      <td>0.000000</td>\n",
       "      <td>0.000000</td>\n",
       "      <td>0.148451</td>\n",
       "      <td>0.000000</td>\n",
       "      <td>0.000000</td>\n",
       "      <td>0.029404</td>\n",
       "      <td>0.000000</td>\n",
       "      <td>0.000306</td>\n",
       "      <td>0.000000</td>\n",
       "      <td>0.024577</td>\n",
       "      <td>0.001866</td>\n",
       "    </tr>\n",
       "    <tr>\n",
       "      <td>Free on interior page</td>\n",
       "      <td>0.137972</td>\n",
       "      <td>0.000000</td>\n",
       "      <td>0.431924</td>\n",
       "      <td>0.000000</td>\n",
       "      <td>0.000000</td>\n",
       "      <td>0.215896</td>\n",
       "      <td>0.922489</td>\n",
       "      <td>0.232625</td>\n",
       "      <td>0.516948</td>\n",
       "      <td>0.078540</td>\n",
       "      <td>0.211327</td>\n",
       "    </tr>\n",
       "    <tr>\n",
       "      <td>Front page feature</td>\n",
       "      <td>15.291547</td>\n",
       "      <td>0.902767</td>\n",
       "      <td>9.680359</td>\n",
       "      <td>7.371521</td>\n",
       "      <td>9.686958</td>\n",
       "      <td>31.973922</td>\n",
       "      <td>21.871803</td>\n",
       "      <td>1.482297</td>\n",
       "      <td>10.532672</td>\n",
       "      <td>10.895891</td>\n",
       "      <td>1.138383</td>\n",
       "    </tr>\n",
       "    <tr>\n",
       "      <td>Interior page coupon</td>\n",
       "      <td>0.000439</td>\n",
       "      <td>0.019757</td>\n",
       "      <td>0.000133</td>\n",
       "      <td>0.000149</td>\n",
       "      <td>0.000000</td>\n",
       "      <td>0.000000</td>\n",
       "      <td>0.000000</td>\n",
       "      <td>0.000077</td>\n",
       "      <td>0.000000</td>\n",
       "      <td>0.001020</td>\n",
       "      <td>0.007387</td>\n",
       "    </tr>\n",
       "  </tbody>\n",
       "</table>\n",
       "</div>"
      ],
      "text/plain": [
       "                                            Meat   Seafood  Sweet snacks  \\\n",
       "Type of ads                                                                \n",
       "Back page feature                       1.326539  0.409529      2.898073   \n",
       "Free on front page, back page or wrap   0.000000  0.000000      0.148451   \n",
       "Free on interior page                   0.137972  0.000000      0.431924   \n",
       "Front page feature                     15.291547  0.902767      9.680359   \n",
       "Interior page coupon                    0.000439  0.019757      0.000133   \n",
       "\n",
       "                                          Fruits  Vegetables  Veg animal  \\\n",
       "Type of ads                                                                \n",
       "Back page feature                      42.638624   10.425027    0.259567   \n",
       "Free on front page, back page or wrap   0.000000    0.000000    0.029404   \n",
       "Free on interior page                   0.000000    0.000000    0.215896   \n",
       "Front page feature                      7.371521    9.686958   31.973922   \n",
       "Interior page coupon                    0.000149    0.000000    0.000000   \n",
       "\n",
       "                                        Beverage  Condiments      Carbs  \\\n",
       "Type of ads                                                               \n",
       "Back page feature                       0.529633    0.868442   0.263158   \n",
       "Free on front page, back page or wrap   0.000000    0.000306   0.000000   \n",
       "Free on interior page                   0.922489    0.232625   0.516948   \n",
       "Front page feature                     21.871803    1.482297  10.532672   \n",
       "Interior page coupon                    0.000000    0.000077   0.000000   \n",
       "\n",
       "                                           Meals     Other  \n",
       "Type of ads                                                 \n",
       "Back page feature                       6.433533  0.635639  \n",
       "Free on front page, back page or wrap   0.024577  0.001866  \n",
       "Free on interior page                   0.078540  0.211327  \n",
       "Front page feature                     10.895891  1.138383  \n",
       "Interior page coupon                    0.001020  0.007387  "
      ]
     },
     "execution_count": 139,
     "metadata": {},
     "output_type": "execute_result"
    }
   ],
   "source": [
    "df_ads_prop.fillna(0, inplace = True)\n",
    "df_ads_count.fillna(0, inplace = True)\n",
    "df_ads_prop.head()"
   ]
  },
  {
   "cell_type": "code",
   "execution_count": 140,
   "metadata": {},
   "outputs": [
    {
     "data": {
      "image/png": "[encoded data removed]",
      "text/plain": [
       "<Figure size 1152x504 with 1 Axes>"
      ]
     },
     "metadata": {
      "needs_background": "light"
     },
     "output_type": "display_data"
    }
   ],
   "source": [
    "df_ads_prop.transpose().plot.bar(stacked = True) #The transpose() is needed to get the right kind of stacked barplot\n",
    "plt.title('Proportions of types of ads per category of food')\n",
    "plt.xticks(rotation = 'horizontal')\n",
    "plt.ylabel('Proportions of types of ads [%]')\n",
    "plt.legend(loc = 5, bbox_to_anchor = (1.28,0.77))\n",
    "plt.show()"
   ]
  },
  {
   "cell_type": "markdown",
   "metadata": {},
   "source": [
    "Let's look more precisely at Not on ad, Front page feature, Interior page feature and Back page feature."
   ]
  },
  {
   "cell_type": "code",
   "execution_count": 141,
   "metadata": {},
   "outputs": [
    {
     "data": {
      "image/png": "[encoded data removed]",
      "text/plain": [
       "<Figure size 1152x504 with 1 Axes>"
      ]
     },
     "metadata": {
      "needs_background": "light"
     },
     "output_type": "display_data"
    }
   ],
   "source": [
    "plt.scatter(x = range(len(categories)), y = df_ads_prop.transpose()['Not on ad'], \n",
    "            label = 'Not on ad', marker = 'x', s = 200)\n",
    "plt.scatter(x = range(len(categories)), y = df_ads_prop.transpose()['Front page feature'], \n",
    "            label = 'Front page feature', marker = '+', s = 200)\n",
    "plt.scatter(x = range(len(categories)), y = df_ads_prop.transpose()['Interior page feature'], \n",
    "            label = 'Interior page feature', marker = 'd', s = 200)\n",
    "plt.scatter(x = range(len(categories)), y = df_ads_prop.transpose()['Back page feature'], \n",
    "            label = 'Back page feature', marker = '^', s = 200)\n",
    "plt.xticks(range(len(categories)), list(categories))\n",
    "plt.title('Proportions of main types of ads per category of food')\n",
    "plt.xlabel('Category of food')\n",
    "plt.ylabel('Percentage of ads [%]')\n",
    "plt.legend(loc = 5, bbox_to_anchor = (1.2,0.77))\n",
    "plt.show()"
   ]
  },
  {
   "cell_type": "markdown",
   "metadata": {},
   "source": [
    "We can see that meat ads are mainly situated in the interior pages with very few in the back pages. On the contrary, fruits have much more ads in the back pages."
   ]
  },
  {
   "cell_type": "markdown",
   "metadata": {},
   "source": [
    "# Price analysis"
   ]
  },
  {
   "cell_type": "markdown",
   "metadata": {},
   "source": [
    "In this section, we will focus ourselfs on the prices of the products. We will start by some basic statistical analysis and then group products in the previously defined categories and try to extract some meaningful conclusions."
   ]
  },
  {
   "cell_type": "markdown",
   "metadata": {},
   "source": [
    "Let's clarify what the less obvious columns represent. The SALES_VALUE is the amount of dollar received by the retailer for a particular sale. The RETAIL_DISC is a discount applied due to retailer's loyalty card program. The COUPON_DISC is a discount applied due to manufacturer coupon and COUPON_MATCH_DISC a discount applied due to retailer's match of manufacturer coupon. Finally, the TRANS_TIME correspond to the time of the day the purchase was made (ranging from 0 to 2359, i.e. from 0:00 to 23:59)"
   ]
  },
  {
   "cell_type": "code",
   "execution_count": 142,
   "metadata": {},
   "outputs": [
    {
     "name": "stdout",
     "output_type": "stream",
     "text": [
      "We have 2595732 transactions in our dataset.\n",
      "We have 14466 transactions in our dataset with QUANTITY = 0.\n"
     ]
    }
   ],
   "source": [
    "print('We have %d transactions in our dataset.' %len(df_transaction))\n",
    "print('We have %d transactions in our dataset with QUANTITY = 0.' %len(df_transaction[df_transaction.quantity == 0]))"
   ]
  },
  {
   "cell_type": "markdown",
   "metadata": {},
   "source": [
    "We start by discarding all transcations for which the quantity is null (as no item has actually been sold in these cases)."
   ]
  },
  {
   "cell_type": "code",
   "execution_count": 143,
   "metadata": {},
   "outputs": [
    {
     "name": "stdout",
     "output_type": "stream",
     "text": [
      "We have 2581266 transactions left in our dataset.\n"
     ]
    }
   ],
   "source": [
    "df_transaction = df_transaction[df_transaction.quantity > 0]\n",
    "print('We have %d transactions left in our dataset.' %len(df_transaction))"
   ]
  },
  {
   "cell_type": "markdown",
   "metadata": {},
   "source": [
    "Let's add the actual product prices (with or without loyalty card). To do so, we use the following formulas (as explained in the user guide):\n",
    "- Loyalty card price = (sales_value – (retail_disc + coupon_match_disc))/quantity\n",
    "- Non-loyalty card price = (sales_value – coupon_match_disc)/quantity"
   ]
  },
  {
   "cell_type": "code",
   "execution_count": 144,
   "metadata": {},
   "outputs": [
    {
     "data": {
      "text/html": [
       "<div>\n",
       "<style scoped>\n",
       "    .dataframe tbody tr th:only-of-type {\n",
       "        vertical-align: middle;\n",
       "    }\n",
       "\n",
       "    .dataframe tbody tr th {\n",
       "        vertical-align: top;\n",
       "    }\n",
       "\n",
       "    .dataframe thead th {\n",
       "        text-align: right;\n",
       "    }\n",
       "</style>\n",
       "<table border=\"1\" class=\"dataframe\">\n",
       "  <thead>\n",
       "    <tr style=\"text-align: right;\">\n",
       "      <th></th>\n",
       "      <th>household_key</th>\n",
       "      <th>basket_id</th>\n",
       "      <th>day</th>\n",
       "      <th>product_id</th>\n",
       "      <th>quantity</th>\n",
       "      <th>sales_value</th>\n",
       "      <th>store_id</th>\n",
       "      <th>retail_disc</th>\n",
       "      <th>trans_time</th>\n",
       "      <th>week_no</th>\n",
       "      <th>coupon_disc</th>\n",
       "      <th>coupon_match_disc</th>\n",
       "      <th>loyalty_card_price</th>\n",
       "      <th>no_loyalty_card_price</th>\n",
       "    </tr>\n",
       "  </thead>\n",
       "  <tbody>\n",
       "    <tr>\n",
       "      <td>0</td>\n",
       "      <td>2375</td>\n",
       "      <td>26984851472</td>\n",
       "      <td>1</td>\n",
       "      <td>1004906</td>\n",
       "      <td>1</td>\n",
       "      <td>1.39</td>\n",
       "      <td>364</td>\n",
       "      <td>-0.60</td>\n",
       "      <td>1631</td>\n",
       "      <td>1</td>\n",
       "      <td>0.0</td>\n",
       "      <td>0.0</td>\n",
       "      <td>1.99</td>\n",
       "      <td>1.39</td>\n",
       "    </tr>\n",
       "    <tr>\n",
       "      <td>1</td>\n",
       "      <td>2375</td>\n",
       "      <td>26984851472</td>\n",
       "      <td>1</td>\n",
       "      <td>1033142</td>\n",
       "      <td>1</td>\n",
       "      <td>0.82</td>\n",
       "      <td>364</td>\n",
       "      <td>0.00</td>\n",
       "      <td>1631</td>\n",
       "      <td>1</td>\n",
       "      <td>0.0</td>\n",
       "      <td>0.0</td>\n",
       "      <td>0.82</td>\n",
       "      <td>0.82</td>\n",
       "    </tr>\n",
       "    <tr>\n",
       "      <td>2</td>\n",
       "      <td>2375</td>\n",
       "      <td>26984851472</td>\n",
       "      <td>1</td>\n",
       "      <td>1036325</td>\n",
       "      <td>1</td>\n",
       "      <td>0.99</td>\n",
       "      <td>364</td>\n",
       "      <td>-0.30</td>\n",
       "      <td>1631</td>\n",
       "      <td>1</td>\n",
       "      <td>0.0</td>\n",
       "      <td>0.0</td>\n",
       "      <td>1.29</td>\n",
       "      <td>0.99</td>\n",
       "    </tr>\n",
       "    <tr>\n",
       "      <td>3</td>\n",
       "      <td>2375</td>\n",
       "      <td>26984851472</td>\n",
       "      <td>1</td>\n",
       "      <td>1082185</td>\n",
       "      <td>1</td>\n",
       "      <td>1.21</td>\n",
       "      <td>364</td>\n",
       "      <td>0.00</td>\n",
       "      <td>1631</td>\n",
       "      <td>1</td>\n",
       "      <td>0.0</td>\n",
       "      <td>0.0</td>\n",
       "      <td>1.21</td>\n",
       "      <td>1.21</td>\n",
       "    </tr>\n",
       "    <tr>\n",
       "      <td>4</td>\n",
       "      <td>2375</td>\n",
       "      <td>26984851472</td>\n",
       "      <td>1</td>\n",
       "      <td>8160430</td>\n",
       "      <td>1</td>\n",
       "      <td>1.50</td>\n",
       "      <td>364</td>\n",
       "      <td>-0.39</td>\n",
       "      <td>1631</td>\n",
       "      <td>1</td>\n",
       "      <td>0.0</td>\n",
       "      <td>0.0</td>\n",
       "      <td>1.89</td>\n",
       "      <td>1.50</td>\n",
       "    </tr>\n",
       "  </tbody>\n",
       "</table>\n",
       "</div>"
      ],
      "text/plain": [
       "   household_key    basket_id  day  product_id  quantity  sales_value  \\\n",
       "0           2375  26984851472    1     1004906         1         1.39   \n",
       "1           2375  26984851472    1     1033142         1         0.82   \n",
       "2           2375  26984851472    1     1036325         1         0.99   \n",
       "3           2375  26984851472    1     1082185         1         1.21   \n",
       "4           2375  26984851472    1     8160430         1         1.50   \n",
       "\n",
       "   store_id  retail_disc  trans_time  week_no  coupon_disc  coupon_match_disc  \\\n",
       "0       364        -0.60        1631        1          0.0                0.0   \n",
       "1       364         0.00        1631        1          0.0                0.0   \n",
       "2       364        -0.30        1631        1          0.0                0.0   \n",
       "3       364         0.00        1631        1          0.0                0.0   \n",
       "4       364        -0.39        1631        1          0.0                0.0   \n",
       "\n",
       "   loyalty_card_price  no_loyalty_card_price  \n",
       "0                1.99                   1.39  \n",
       "1                0.82                   0.82  \n",
       "2                1.29                   0.99  \n",
       "3                1.21                   1.21  \n",
       "4                1.89                   1.50  "
      ]
     },
     "execution_count": 144,
     "metadata": {},
     "output_type": "execute_result"
    }
   ],
   "source": [
    "df_transaction['loyalty_card_price'] = (df_transaction['sales_value'] - (df_transaction['retail_disc'] + df_transaction['coupon_match_disc']))/df_transaction['quantity']\n",
    "df_transaction['no_loyalty_card_price'] = (df_transaction['sales_value'] - df_transaction['coupon_match_disc'])/df_transaction['quantity']\n",
    "df_transaction.head()"
   ]
  },
  {
   "cell_type": "markdown",
   "metadata": {},
   "source": [
    "## Descriptive statistics"
   ]
  },
  {
   "cell_type": "markdown",
   "metadata": {},
   "source": [
    "### Sales value"
   ]
  },
  {
   "cell_type": "code",
   "execution_count": 145,
   "metadata": {},
   "outputs": [
    {
     "data": {
      "text/plain": [
       "DescribeResult(nobs=2581266, minmax=(0.0, 840.0), mean=3.1215085155888613, variance=17.535166672395626, skewness=15.926605433282417, kurtosis=1347.4631439508728)"
      ]
     },
     "execution_count": 145,
     "metadata": {},
     "output_type": "execute_result"
    }
   ],
   "source": [
    "stats.describe(df_transaction['sales_value'])"
   ]
  },
  {
   "cell_type": "code",
   "execution_count": 146,
   "metadata": {},
   "outputs": [
    {
     "name": "stdout",
     "output_type": "stream",
     "text": [
      "50% of the transations are below 2.0$.\n",
      "80% of the transations are below 3.99$.\n",
      "There are 4451 transactions with sales value 0.\n"
     ]
    }
   ],
   "source": [
    "print('50% of the transations are below ' + str(df_transaction['sales_value'].median()) + '$.')\n",
    "print('80% of the transations are below ' + str(df_transaction['sales_value'].quantile(0.8)) + '$.')\n",
    "print('There are %d transactions with sales value 0.' %len(df_transaction[df_transaction['sales_value'] == 0]))"
   ]
  },
  {
   "cell_type": "markdown",
   "metadata": {},
   "source": [
    "### Actual price (with and without loyalty card)"
   ]
  },
  {
   "cell_type": "code",
   "execution_count": 147,
   "metadata": {},
   "outputs": [
    {
     "data": {
      "text/plain": [
       "DescribeResult(nobs=2581266, minmax=(0.0, 549.99), mean=2.8475153915619584, variance=9.107734563557408, skewness=17.712854891425636, kurtosis=1533.0676844073)"
      ]
     },
     "execution_count": 147,
     "metadata": {},
     "output_type": "execute_result"
    }
   ],
   "source": [
    "stats.describe(df_transaction['loyalty_card_price'])"
   ]
  },
  {
   "cell_type": "code",
   "execution_count": 148,
   "metadata": {},
   "outputs": [
    {
     "name": "stdout",
     "output_type": "stream",
     "text": [
      "50% of the prices (with loyalty card) are below 2.19$.\n",
      "80% of the prices (with loyalty card) are below 3.89$.\n"
     ]
    }
   ],
   "source": [
    "print('50% of the prices (with loyalty card) are below ' + str(df_transaction['loyalty_card_price'].median()) + '$.')\n",
    "print('80% of the prices (with loyalty card) are below ' + str(df_transaction['loyalty_card_price'].quantile(0.8)) + '$.')"
   ]
  },
  {
   "cell_type": "code",
   "execution_count": 149,
   "metadata": {},
   "outputs": [
    {
     "data": {
      "text/plain": [
       "DescribeResult(nobs=2581266, minmax=(0.0, 499.99), mean=2.4393894776524463, variance=7.401404671535539, skewness=19.48268908440757, kurtosis=1878.3518009255965)"
      ]
     },
     "execution_count": 149,
     "metadata": {},
     "output_type": "execute_result"
    }
   ],
   "source": [
    "stats.describe(df_transaction['no_loyalty_card_price'])"
   ]
  },
  {
   "cell_type": "code",
   "execution_count": 150,
   "metadata": {},
   "outputs": [
    {
     "name": "stdout",
     "output_type": "stream",
     "text": [
      "50% of the prices (without loyalty card) are below 1.94$.\n",
      "80% of the prices (without loyalty card) are below 3.27$.\n"
     ]
    }
   ],
   "source": [
    "print('50% of the prices (without loyalty card) are below ' + str(df_transaction['no_loyalty_card_price'].median()) + '$.')\n",
    "print('80% of the prices (without loyalty card) are below ' + str(df_transaction['no_loyalty_card_price'].quantile(0.8)) + '$.')"
   ]
  },
  {
   "cell_type": "markdown",
   "metadata": {},
   "source": [
    "### Discounts (retailer and coupons)"
   ]
  },
  {
   "cell_type": "code",
   "execution_count": 151,
   "metadata": {},
   "outputs": [
    {
     "data": {
      "text/plain": [
       "DescribeResult(nobs=2581266, minmax=(-180.0, 3.99), mean=-0.5417253742930792, variance=1.5675852595091087, skewness=-13.326902991415098, kurtosis=615.155375395817)"
      ]
     },
     "execution_count": 151,
     "metadata": {},
     "output_type": "execute_result"
    }
   ],
   "source": [
    "stats.describe(df_transaction['retail_disc'])"
   ]
  },
  {
   "cell_type": "code",
   "execution_count": 152,
   "metadata": {},
   "outputs": [
    {
     "data": {
      "text/plain": [
       "DescribeResult(nobs=2581266, minmax=(-55.93, 0.0), mean=-0.012506657585851285, variance=0.028670451095912035, skewness=-49.62365938121316, kurtosis=7530.991584651517)"
      ]
     },
     "execution_count": 152,
     "metadata": {},
     "output_type": "execute_result"
    }
   ],
   "source": [
    "stats.describe(df_transaction['coupon_disc'])"
   ]
  },
  {
   "cell_type": "code",
   "execution_count": 153,
   "metadata": {},
   "outputs": [
    {
     "data": {
      "text/plain": [
       "DescribeResult(nobs=2581266, minmax=(-7.7, 0.0), mean=-0.0029349203065472504, variance=0.001584079860608058, skewness=-24.366337540608725, kurtosis=1637.0498541529646)"
      ]
     },
     "execution_count": 153,
     "metadata": {},
     "output_type": "execute_result"
    }
   ],
   "source": [
    "stats.describe(df_transaction['coupon_match_disc'])"
   ]
  },
  {
   "cell_type": "markdown",
   "metadata": {},
   "source": [
    "### Transaction time"
   ]
  },
  {
   "cell_type": "code",
   "execution_count": 154,
   "metadata": {},
   "outputs": [
    {
     "name": "stdout",
     "output_type": "stream",
     "text": [
      "The TRANS_TIME ranges between 0 and 2359.\n"
     ]
    }
   ],
   "source": [
    "print('The TRANS_TIME ranges between %d and %d.' %(df_transaction['trans_time'].min(), df_transaction['trans_time'].max()))"
   ]
  },
  {
   "cell_type": "markdown",
   "metadata": {},
   "source": [
    "# Demographics and Food"
   ]
  },
  {
   "cell_type": "markdown",
   "metadata": {},
   "source": [
    "Can we see if there are different buying habits for older/younger peopl? Let's start by combining our demographic data with the transactions. Then we'll annotate all transactions, if they're meat or other food."
   ]
  },
  {
   "cell_type": "code",
   "execution_count": 155,
   "metadata": {},
   "outputs": [
    {
     "data": {
      "text/html": [
       "<div>\n",
       "<style scoped>\n",
       "    .dataframe tbody tr th:only-of-type {\n",
       "        vertical-align: middle;\n",
       "    }\n",
       "\n",
       "    .dataframe tbody tr th {\n",
       "        vertical-align: top;\n",
       "    }\n",
       "\n",
       "    .dataframe thead th {\n",
       "        text-align: right;\n",
       "    }\n",
       "</style>\n",
       "<table border=\"1\" class=\"dataframe\">\n",
       "  <thead>\n",
       "    <tr style=\"text-align: right;\">\n",
       "      <th></th>\n",
       "      <th>household_key</th>\n",
       "      <th>basket_id</th>\n",
       "      <th>day</th>\n",
       "      <th>product_id</th>\n",
       "      <th>quantity</th>\n",
       "      <th>sales_value</th>\n",
       "      <th>store_id</th>\n",
       "      <th>retail_disc</th>\n",
       "      <th>trans_time</th>\n",
       "      <th>week_no</th>\n",
       "      <th>...</th>\n",
       "      <th>age_desc</th>\n",
       "      <th>marital_status_code</th>\n",
       "      <th>income_desc</th>\n",
       "      <th>homeowner_desc</th>\n",
       "      <th>hh_comp_desc</th>\n",
       "      <th>household_size_desc</th>\n",
       "      <th>kid_category_desc</th>\n",
       "      <th>married</th>\n",
       "      <th>household_size_desc_numeric</th>\n",
       "      <th>category</th>\n",
       "    </tr>\n",
       "  </thead>\n",
       "  <tbody>\n",
       "    <tr>\n",
       "      <td>0</td>\n",
       "      <td>1364</td>\n",
       "      <td>26984896261</td>\n",
       "      <td>1</td>\n",
       "      <td>842930</td>\n",
       "      <td>1</td>\n",
       "      <td>2.19</td>\n",
       "      <td>31742</td>\n",
       "      <td>0.00</td>\n",
       "      <td>1520</td>\n",
       "      <td>1</td>\n",
       "      <td>...</td>\n",
       "      <td>65+</td>\n",
       "      <td>B</td>\n",
       "      <td>100-124K</td>\n",
       "      <td>Homeowner</td>\n",
       "      <td>Single Female</td>\n",
       "      <td>1</td>\n",
       "      <td>None/Unknown</td>\n",
       "      <td>Single</td>\n",
       "      <td>1</td>\n",
       "      <td>other-food</td>\n",
       "    </tr>\n",
       "    <tr>\n",
       "      <td>1</td>\n",
       "      <td>1364</td>\n",
       "      <td>26984896261</td>\n",
       "      <td>1</td>\n",
       "      <td>897044</td>\n",
       "      <td>1</td>\n",
       "      <td>2.99</td>\n",
       "      <td>31742</td>\n",
       "      <td>-0.40</td>\n",
       "      <td>1520</td>\n",
       "      <td>1</td>\n",
       "      <td>...</td>\n",
       "      <td>65+</td>\n",
       "      <td>B</td>\n",
       "      <td>100-124K</td>\n",
       "      <td>Homeowner</td>\n",
       "      <td>Single Female</td>\n",
       "      <td>1</td>\n",
       "      <td>None/Unknown</td>\n",
       "      <td>Single</td>\n",
       "      <td>1</td>\n",
       "      <td>other-food</td>\n",
       "    </tr>\n",
       "    <tr>\n",
       "      <td>2</td>\n",
       "      <td>1364</td>\n",
       "      <td>26984896261</td>\n",
       "      <td>1</td>\n",
       "      <td>920955</td>\n",
       "      <td>1</td>\n",
       "      <td>3.09</td>\n",
       "      <td>31742</td>\n",
       "      <td>0.00</td>\n",
       "      <td>1520</td>\n",
       "      <td>1</td>\n",
       "      <td>...</td>\n",
       "      <td>65+</td>\n",
       "      <td>B</td>\n",
       "      <td>100-124K</td>\n",
       "      <td>Homeowner</td>\n",
       "      <td>Single Female</td>\n",
       "      <td>1</td>\n",
       "      <td>None/Unknown</td>\n",
       "      <td>Single</td>\n",
       "      <td>1</td>\n",
       "      <td>meat</td>\n",
       "    </tr>\n",
       "    <tr>\n",
       "      <td>3</td>\n",
       "      <td>1364</td>\n",
       "      <td>26984896261</td>\n",
       "      <td>1</td>\n",
       "      <td>937406</td>\n",
       "      <td>1</td>\n",
       "      <td>2.50</td>\n",
       "      <td>31742</td>\n",
       "      <td>-0.99</td>\n",
       "      <td>1520</td>\n",
       "      <td>1</td>\n",
       "      <td>...</td>\n",
       "      <td>65+</td>\n",
       "      <td>B</td>\n",
       "      <td>100-124K</td>\n",
       "      <td>Homeowner</td>\n",
       "      <td>Single Female</td>\n",
       "      <td>1</td>\n",
       "      <td>None/Unknown</td>\n",
       "      <td>Single</td>\n",
       "      <td>1</td>\n",
       "      <td>meat</td>\n",
       "    </tr>\n",
       "    <tr>\n",
       "      <td>4</td>\n",
       "      <td>1364</td>\n",
       "      <td>26984896261</td>\n",
       "      <td>1</td>\n",
       "      <td>981760</td>\n",
       "      <td>1</td>\n",
       "      <td>0.60</td>\n",
       "      <td>31742</td>\n",
       "      <td>-0.79</td>\n",
       "      <td>1520</td>\n",
       "      <td>1</td>\n",
       "      <td>...</td>\n",
       "      <td>65+</td>\n",
       "      <td>B</td>\n",
       "      <td>100-124K</td>\n",
       "      <td>Homeowner</td>\n",
       "      <td>Single Female</td>\n",
       "      <td>1</td>\n",
       "      <td>None/Unknown</td>\n",
       "      <td>Single</td>\n",
       "      <td>1</td>\n",
       "      <td>other-food</td>\n",
       "    </tr>\n",
       "    <tr>\n",
       "      <td>...</td>\n",
       "      <td>...</td>\n",
       "      <td>...</td>\n",
       "      <td>...</td>\n",
       "      <td>...</td>\n",
       "      <td>...</td>\n",
       "      <td>...</td>\n",
       "      <td>...</td>\n",
       "      <td>...</td>\n",
       "      <td>...</td>\n",
       "      <td>...</td>\n",
       "      <td>...</td>\n",
       "      <td>...</td>\n",
       "      <td>...</td>\n",
       "      <td>...</td>\n",
       "      <td>...</td>\n",
       "      <td>...</td>\n",
       "      <td>...</td>\n",
       "      <td>...</td>\n",
       "      <td>...</td>\n",
       "      <td>...</td>\n",
       "      <td>...</td>\n",
       "    </tr>\n",
       "    <tr>\n",
       "      <td>1419126</td>\n",
       "      <td>540</td>\n",
       "      <td>42250646707</td>\n",
       "      <td>707</td>\n",
       "      <td>9420286</td>\n",
       "      <td>2</td>\n",
       "      <td>2.00</td>\n",
       "      <td>299</td>\n",
       "      <td>-0.98</td>\n",
       "      <td>2002</td>\n",
       "      <td>102</td>\n",
       "      <td>...</td>\n",
       "      <td>25-34</td>\n",
       "      <td>B</td>\n",
       "      <td>50-74K</td>\n",
       "      <td>Homeowner</td>\n",
       "      <td>Single Female</td>\n",
       "      <td>1</td>\n",
       "      <td>None/Unknown</td>\n",
       "      <td>Single</td>\n",
       "      <td>1</td>\n",
       "      <td>other-food</td>\n",
       "    </tr>\n",
       "    <tr>\n",
       "      <td>1419127</td>\n",
       "      <td>540</td>\n",
       "      <td>42250646707</td>\n",
       "      <td>707</td>\n",
       "      <td>9652066</td>\n",
       "      <td>1</td>\n",
       "      <td>3.69</td>\n",
       "      <td>299</td>\n",
       "      <td>0.00</td>\n",
       "      <td>2002</td>\n",
       "      <td>102</td>\n",
       "      <td>...</td>\n",
       "      <td>25-34</td>\n",
       "      <td>B</td>\n",
       "      <td>50-74K</td>\n",
       "      <td>Homeowner</td>\n",
       "      <td>Single Female</td>\n",
       "      <td>1</td>\n",
       "      <td>None/Unknown</td>\n",
       "      <td>Single</td>\n",
       "      <td>1</td>\n",
       "      <td>other-food</td>\n",
       "    </tr>\n",
       "    <tr>\n",
       "      <td>1419128</td>\n",
       "      <td>540</td>\n",
       "      <td>42250646707</td>\n",
       "      <td>707</td>\n",
       "      <td>12781725</td>\n",
       "      <td>1</td>\n",
       "      <td>2.50</td>\n",
       "      <td>299</td>\n",
       "      <td>-0.49</td>\n",
       "      <td>2002</td>\n",
       "      <td>102</td>\n",
       "      <td>...</td>\n",
       "      <td>25-34</td>\n",
       "      <td>B</td>\n",
       "      <td>50-74K</td>\n",
       "      <td>Homeowner</td>\n",
       "      <td>Single Female</td>\n",
       "      <td>1</td>\n",
       "      <td>None/Unknown</td>\n",
       "      <td>Single</td>\n",
       "      <td>1</td>\n",
       "      <td>meat</td>\n",
       "    </tr>\n",
       "    <tr>\n",
       "      <td>1419129</td>\n",
       "      <td>540</td>\n",
       "      <td>42250646707</td>\n",
       "      <td>707</td>\n",
       "      <td>15625746</td>\n",
       "      <td>1</td>\n",
       "      <td>3.19</td>\n",
       "      <td>299</td>\n",
       "      <td>0.00</td>\n",
       "      <td>2002</td>\n",
       "      <td>102</td>\n",
       "      <td>...</td>\n",
       "      <td>25-34</td>\n",
       "      <td>B</td>\n",
       "      <td>50-74K</td>\n",
       "      <td>Homeowner</td>\n",
       "      <td>Single Female</td>\n",
       "      <td>1</td>\n",
       "      <td>None/Unknown</td>\n",
       "      <td>Single</td>\n",
       "      <td>1</td>\n",
       "      <td>other-food</td>\n",
       "    </tr>\n",
       "    <tr>\n",
       "      <td>1419130</td>\n",
       "      <td>540</td>\n",
       "      <td>42250646707</td>\n",
       "      <td>707</td>\n",
       "      <td>15830451</td>\n",
       "      <td>1</td>\n",
       "      <td>3.49</td>\n",
       "      <td>299</td>\n",
       "      <td>0.00</td>\n",
       "      <td>2002</td>\n",
       "      <td>102</td>\n",
       "      <td>...</td>\n",
       "      <td>25-34</td>\n",
       "      <td>B</td>\n",
       "      <td>50-74K</td>\n",
       "      <td>Homeowner</td>\n",
       "      <td>Single Female</td>\n",
       "      <td>1</td>\n",
       "      <td>None/Unknown</td>\n",
       "      <td>Single</td>\n",
       "      <td>1</td>\n",
       "      <td>other-food</td>\n",
       "    </tr>\n",
       "  </tbody>\n",
       "</table>\n",
       "<p>1419131 rows × 24 columns</p>\n",
       "</div>"
      ],
      "text/plain": [
       "         household_key    basket_id  day  product_id  quantity  sales_value  \\\n",
       "0                 1364  26984896261    1      842930         1         2.19   \n",
       "1                 1364  26984896261    1      897044         1         2.99   \n",
       "2                 1364  26984896261    1      920955         1         3.09   \n",
       "3                 1364  26984896261    1      937406         1         2.50   \n",
       "4                 1364  26984896261    1      981760         1         0.60   \n",
       "...                ...          ...  ...         ...       ...          ...   \n",
       "1419126            540  42250646707  707     9420286         2         2.00   \n",
       "1419127            540  42250646707  707     9652066         1         3.69   \n",
       "1419128            540  42250646707  707    12781725         1         2.50   \n",
       "1419129            540  42250646707  707    15625746         1         3.19   \n",
       "1419130            540  42250646707  707    15830451         1         3.49   \n",
       "\n",
       "         store_id  retail_disc  trans_time  week_no  ...  age_desc  \\\n",
       "0           31742         0.00        1520        1  ...       65+   \n",
       "1           31742        -0.40        1520        1  ...       65+   \n",
       "2           31742         0.00        1520        1  ...       65+   \n",
       "3           31742        -0.99        1520        1  ...       65+   \n",
       "4           31742        -0.79        1520        1  ...       65+   \n",
       "...           ...          ...         ...      ...  ...       ...   \n",
       "1419126       299        -0.98        2002      102  ...     25-34   \n",
       "1419127       299         0.00        2002      102  ...     25-34   \n",
       "1419128       299        -0.49        2002      102  ...     25-34   \n",
       "1419129       299         0.00        2002      102  ...     25-34   \n",
       "1419130       299         0.00        2002      102  ...     25-34   \n",
       "\n",
       "         marital_status_code  income_desc  homeowner_desc   hh_comp_desc  \\\n",
       "0                          B     100-124K       Homeowner  Single Female   \n",
       "1                          B     100-124K       Homeowner  Single Female   \n",
       "2                          B     100-124K       Homeowner  Single Female   \n",
       "3                          B     100-124K       Homeowner  Single Female   \n",
       "4                          B     100-124K       Homeowner  Single Female   \n",
       "...                      ...          ...             ...            ...   \n",
       "1419126                    B       50-74K       Homeowner  Single Female   \n",
       "1419127                    B       50-74K       Homeowner  Single Female   \n",
       "1419128                    B       50-74K       Homeowner  Single Female   \n",
       "1419129                    B       50-74K       Homeowner  Single Female   \n",
       "1419130                    B       50-74K       Homeowner  Single Female   \n",
       "\n",
       "        household_size_desc kid_category_desc married  \\\n",
       "0                         1      None/Unknown  Single   \n",
       "1                         1      None/Unknown  Single   \n",
       "2                         1      None/Unknown  Single   \n",
       "3                         1      None/Unknown  Single   \n",
       "4                         1      None/Unknown  Single   \n",
       "...                     ...               ...     ...   \n",
       "1419126                   1      None/Unknown  Single   \n",
       "1419127                   1      None/Unknown  Single   \n",
       "1419128                   1      None/Unknown  Single   \n",
       "1419129                   1      None/Unknown  Single   \n",
       "1419130                   1      None/Unknown  Single   \n",
       "\n",
       "        household_size_desc_numeric    category  \n",
       "0                                 1  other-food  \n",
       "1                                 1  other-food  \n",
       "2                                 1        meat  \n",
       "3                                 1        meat  \n",
       "4                                 1  other-food  \n",
       "...                             ...         ...  \n",
       "1419126                           1  other-food  \n",
       "1419127                           1  other-food  \n",
       "1419128                           1        meat  \n",
       "1419129                           1  other-food  \n",
       "1419130                           1  other-food  \n",
       "\n",
       "[1419131 rows x 24 columns]"
      ]
     },
     "execution_count": 155,
     "metadata": {},
     "output_type": "execute_result"
    }
   ],
   "source": [
    "df_transaction_per_household = df_transaction.merge(df_demo, on=\"household_key\")\n",
    "\n",
    "df_transaction_per_household[\"category\"] = \"unknown\"\n",
    "\n",
    "# First, let's mark everything that is food\n",
    "df_transaction_per_household.loc[\n",
    "    df_transaction_per_household[\"product_id\"].isin(df_food[\"product_id\"]), \"category\"\n",
    "] = \"other-food\"\n",
    "\n",
    "# Then we overwrite all entries that are actually meat\n",
    "df_transaction_per_household.loc[\n",
    "    df_transaction_per_household[\"product_id\"].isin(df_meat[\"product_id\"]), \"category\"\n",
    "] = \"meat\"\n",
    "\n",
    "df_transaction_per_household"
   ]
  },
  {
   "cell_type": "markdown",
   "metadata": {},
   "source": [
    "Now we'll create a temporary dataframe to compute a meat ratio for each for each household. We do this by grouping by the households and then doing the calculation:"
   ]
  },
  {
   "cell_type": "code",
   "execution_count": 156,
   "metadata": {},
   "outputs": [
    {
     "data": {
      "text/html": [
       "<div>\n",
       "<style scoped>\n",
       "    .dataframe tbody tr th:only-of-type {\n",
       "        vertical-align: middle;\n",
       "    }\n",
       "\n",
       "    .dataframe tbody tr th {\n",
       "        vertical-align: top;\n",
       "    }\n",
       "\n",
       "    .dataframe thead th {\n",
       "        text-align: right;\n",
       "    }\n",
       "</style>\n",
       "<table border=\"1\" class=\"dataframe\">\n",
       "  <thead>\n",
       "    <tr style=\"text-align: right;\">\n",
       "      <th>category</th>\n",
       "      <th>household_key</th>\n",
       "      <th>meat</th>\n",
       "      <th>other-food</th>\n",
       "      <th>unknown</th>\n",
       "      <th>ratio_meat</th>\n",
       "    </tr>\n",
       "  </thead>\n",
       "  <tbody>\n",
       "    <tr>\n",
       "      <td>0</td>\n",
       "      <td>1</td>\n",
       "      <td>149.0</td>\n",
       "      <td>1421.0</td>\n",
       "      <td>140.0</td>\n",
       "      <td>0.094904</td>\n",
       "    </tr>\n",
       "    <tr>\n",
       "      <td>1</td>\n",
       "      <td>7</td>\n",
       "      <td>152.0</td>\n",
       "      <td>971.0</td>\n",
       "      <td>157.0</td>\n",
       "      <td>0.135352</td>\n",
       "    </tr>\n",
       "    <tr>\n",
       "      <td>2</td>\n",
       "      <td>8</td>\n",
       "      <td>267.0</td>\n",
       "      <td>1444.0</td>\n",
       "      <td>256.0</td>\n",
       "      <td>0.156049</td>\n",
       "    </tr>\n",
       "    <tr>\n",
       "      <td>3</td>\n",
       "      <td>13</td>\n",
       "      <td>137.0</td>\n",
       "      <td>1635.0</td>\n",
       "      <td>521.0</td>\n",
       "      <td>0.077314</td>\n",
       "    </tr>\n",
       "    <tr>\n",
       "      <td>4</td>\n",
       "      <td>16</td>\n",
       "      <td>67.0</td>\n",
       "      <td>424.0</td>\n",
       "      <td>26.0</td>\n",
       "      <td>0.136456</td>\n",
       "    </tr>\n",
       "    <tr>\n",
       "      <td>...</td>\n",
       "      <td>...</td>\n",
       "      <td>...</td>\n",
       "      <td>...</td>\n",
       "      <td>...</td>\n",
       "      <td>...</td>\n",
       "    </tr>\n",
       "    <tr>\n",
       "      <td>796</td>\n",
       "      <td>2494</td>\n",
       "      <td>62.0</td>\n",
       "      <td>485.0</td>\n",
       "      <td>65.0</td>\n",
       "      <td>0.113346</td>\n",
       "    </tr>\n",
       "    <tr>\n",
       "      <td>797</td>\n",
       "      <td>2496</td>\n",
       "      <td>313.0</td>\n",
       "      <td>1074.0</td>\n",
       "      <td>92.0</td>\n",
       "      <td>0.225667</td>\n",
       "    </tr>\n",
       "    <tr>\n",
       "      <td>798</td>\n",
       "      <td>2497</td>\n",
       "      <td>210.0</td>\n",
       "      <td>1559.0</td>\n",
       "      <td>189.0</td>\n",
       "      <td>0.118711</td>\n",
       "    </tr>\n",
       "    <tr>\n",
       "      <td>799</td>\n",
       "      <td>2498</td>\n",
       "      <td>67.0</td>\n",
       "      <td>687.0</td>\n",
       "      <td>105.0</td>\n",
       "      <td>0.088859</td>\n",
       "    </tr>\n",
       "    <tr>\n",
       "      <td>800</td>\n",
       "      <td>2499</td>\n",
       "      <td>141.0</td>\n",
       "      <td>880.0</td>\n",
       "      <td>141.0</td>\n",
       "      <td>0.138100</td>\n",
       "    </tr>\n",
       "  </tbody>\n",
       "</table>\n",
       "<p>801 rows × 5 columns</p>\n",
       "</div>"
      ],
      "text/plain": [
       "category  household_key   meat  other-food  unknown  ratio_meat\n",
       "0                     1  149.0      1421.0    140.0    0.094904\n",
       "1                     7  152.0       971.0    157.0    0.135352\n",
       "2                     8  267.0      1444.0    256.0    0.156049\n",
       "3                    13  137.0      1635.0    521.0    0.077314\n",
       "4                    16   67.0       424.0     26.0    0.136456\n",
       "..                  ...    ...         ...      ...         ...\n",
       "796                2494   62.0       485.0     65.0    0.113346\n",
       "797                2496  313.0      1074.0     92.0    0.225667\n",
       "798                2497  210.0      1559.0    189.0    0.118711\n",
       "799                2498   67.0       687.0    105.0    0.088859\n",
       "800                2499  141.0       880.0    141.0    0.138100\n",
       "\n",
       "[801 rows x 5 columns]"
      ]
     },
     "execution_count": 156,
     "metadata": {},
     "output_type": "execute_result"
    }
   ],
   "source": [
    "aa = (\n",
    "    df_transaction_per_household.groupby(\"household_key\")[\"category\"]\n",
    "    .value_counts()\n",
    "    .to_frame()\n",
    "    .unstack()\n",
    ")\n",
    "\n",
    "# Drop the multi-columns, so we can\n",
    "# use simple indexing for ratio_meat\n",
    "aa.columns = aa.columns.droplevel()\n",
    "\n",
    "aa[\"ratio_meat\"] = aa[\"meat\"] / (aa[\"meat\"] + aa[\"other-food\"])\n",
    "\n",
    "# Get household_key as a column\n",
    "aa = aa.reset_index()\n",
    "\n",
    "aa"
   ]
  },
  {
   "cell_type": "markdown",
   "metadata": {},
   "source": [
    "Now we combine our data to receive a new dataframe that enriches our existing demographic dataframe with a \"meat ratio\". This ratio tells us, how much of the bought food is considered meat."
   ]
  },
  {
   "cell_type": "code",
   "execution_count": 157,
   "metadata": {},
   "outputs": [
    {
     "data": {
      "text/html": [
       "<div>\n",
       "<style scoped>\n",
       "    .dataframe tbody tr th:only-of-type {\n",
       "        vertical-align: middle;\n",
       "    }\n",
       "\n",
       "    .dataframe tbody tr th {\n",
       "        vertical-align: top;\n",
       "    }\n",
       "\n",
       "    .dataframe thead th {\n",
       "        text-align: right;\n",
       "    }\n",
       "</style>\n",
       "<table border=\"1\" class=\"dataframe\">\n",
       "  <thead>\n",
       "    <tr style=\"text-align: right;\">\n",
       "      <th></th>\n",
       "      <th>age_desc</th>\n",
       "      <th>marital_status_code</th>\n",
       "      <th>income_desc</th>\n",
       "      <th>homeowner_desc</th>\n",
       "      <th>hh_comp_desc</th>\n",
       "      <th>household_size_desc</th>\n",
       "      <th>kid_category_desc</th>\n",
       "      <th>household_key</th>\n",
       "      <th>married</th>\n",
       "      <th>household_size_desc_numeric</th>\n",
       "      <th>ratio_meat</th>\n",
       "    </tr>\n",
       "  </thead>\n",
       "  <tbody>\n",
       "    <tr>\n",
       "      <td>0</td>\n",
       "      <td>65+</td>\n",
       "      <td>A</td>\n",
       "      <td>35-49K</td>\n",
       "      <td>Homeowner</td>\n",
       "      <td>2 Adults No Kids</td>\n",
       "      <td>2</td>\n",
       "      <td>None/Unknown</td>\n",
       "      <td>1</td>\n",
       "      <td>Married</td>\n",
       "      <td>2</td>\n",
       "      <td>0.047452</td>\n",
       "    </tr>\n",
       "    <tr>\n",
       "      <td>1</td>\n",
       "      <td>45-54</td>\n",
       "      <td>A</td>\n",
       "      <td>50-74K</td>\n",
       "      <td>Homeowner</td>\n",
       "      <td>2 Adults No Kids</td>\n",
       "      <td>2</td>\n",
       "      <td>None/Unknown</td>\n",
       "      <td>7</td>\n",
       "      <td>Married</td>\n",
       "      <td>2</td>\n",
       "      <td>0.067676</td>\n",
       "    </tr>\n",
       "    <tr>\n",
       "      <td>2</td>\n",
       "      <td>25-34</td>\n",
       "      <td>U</td>\n",
       "      <td>25-34K</td>\n",
       "      <td>Unknown</td>\n",
       "      <td>2 Adults Kids</td>\n",
       "      <td>3</td>\n",
       "      <td>1</td>\n",
       "      <td>8</td>\n",
       "      <td>Unknown</td>\n",
       "      <td>3</td>\n",
       "      <td>0.052016</td>\n",
       "    </tr>\n",
       "    <tr>\n",
       "      <td>3</td>\n",
       "      <td>25-34</td>\n",
       "      <td>U</td>\n",
       "      <td>75-99K</td>\n",
       "      <td>Homeowner</td>\n",
       "      <td>2 Adults Kids</td>\n",
       "      <td>4</td>\n",
       "      <td>2</td>\n",
       "      <td>13</td>\n",
       "      <td>Unknown</td>\n",
       "      <td>4</td>\n",
       "      <td>0.019328</td>\n",
       "    </tr>\n",
       "    <tr>\n",
       "      <td>4</td>\n",
       "      <td>45-54</td>\n",
       "      <td>B</td>\n",
       "      <td>50-74K</td>\n",
       "      <td>Homeowner</td>\n",
       "      <td>Single Female</td>\n",
       "      <td>1</td>\n",
       "      <td>None/Unknown</td>\n",
       "      <td>16</td>\n",
       "      <td>Single</td>\n",
       "      <td>1</td>\n",
       "      <td>0.136456</td>\n",
       "    </tr>\n",
       "    <tr>\n",
       "      <td>...</td>\n",
       "      <td>...</td>\n",
       "      <td>...</td>\n",
       "      <td>...</td>\n",
       "      <td>...</td>\n",
       "      <td>...</td>\n",
       "      <td>...</td>\n",
       "      <td>...</td>\n",
       "      <td>...</td>\n",
       "      <td>...</td>\n",
       "      <td>...</td>\n",
       "      <td>...</td>\n",
       "    </tr>\n",
       "    <tr>\n",
       "      <td>796</td>\n",
       "      <td>35-44</td>\n",
       "      <td>U</td>\n",
       "      <td>50-74K</td>\n",
       "      <td>Homeowner</td>\n",
       "      <td>2 Adults No Kids</td>\n",
       "      <td>2</td>\n",
       "      <td>None/Unknown</td>\n",
       "      <td>2494</td>\n",
       "      <td>Unknown</td>\n",
       "      <td>2</td>\n",
       "      <td>0.056673</td>\n",
       "    </tr>\n",
       "    <tr>\n",
       "      <td>797</td>\n",
       "      <td>45-54</td>\n",
       "      <td>A</td>\n",
       "      <td>75-99K</td>\n",
       "      <td>Homeowner</td>\n",
       "      <td>Unknown</td>\n",
       "      <td>3</td>\n",
       "      <td>1</td>\n",
       "      <td>2496</td>\n",
       "      <td>Married</td>\n",
       "      <td>3</td>\n",
       "      <td>0.075222</td>\n",
       "    </tr>\n",
       "    <tr>\n",
       "      <td>798</td>\n",
       "      <td>45-54</td>\n",
       "      <td>U</td>\n",
       "      <td>35-49K</td>\n",
       "      <td>Unknown</td>\n",
       "      <td>Single Male</td>\n",
       "      <td>1</td>\n",
       "      <td>None/Unknown</td>\n",
       "      <td>2497</td>\n",
       "      <td>Unknown</td>\n",
       "      <td>1</td>\n",
       "      <td>0.118711</td>\n",
       "    </tr>\n",
       "    <tr>\n",
       "      <td>799</td>\n",
       "      <td>25-34</td>\n",
       "      <td>U</td>\n",
       "      <td>50-74K</td>\n",
       "      <td>Homeowner</td>\n",
       "      <td>2 Adults No Kids</td>\n",
       "      <td>2</td>\n",
       "      <td>None/Unknown</td>\n",
       "      <td>2498</td>\n",
       "      <td>Unknown</td>\n",
       "      <td>2</td>\n",
       "      <td>0.044430</td>\n",
       "    </tr>\n",
       "    <tr>\n",
       "      <td>800</td>\n",
       "      <td>25-34</td>\n",
       "      <td>U</td>\n",
       "      <td>Under 15K</td>\n",
       "      <td>Unknown</td>\n",
       "      <td>2 Adults Kids</td>\n",
       "      <td>3</td>\n",
       "      <td>1</td>\n",
       "      <td>2499</td>\n",
       "      <td>Unknown</td>\n",
       "      <td>3</td>\n",
       "      <td>0.046033</td>\n",
       "    </tr>\n",
       "  </tbody>\n",
       "</table>\n",
       "<p>801 rows × 11 columns</p>\n",
       "</div>"
      ],
      "text/plain": [
       "    age_desc marital_status_code income_desc homeowner_desc      hh_comp_desc  \\\n",
       "0        65+                   A      35-49K      Homeowner  2 Adults No Kids   \n",
       "1      45-54                   A      50-74K      Homeowner  2 Adults No Kids   \n",
       "2      25-34                   U      25-34K        Unknown     2 Adults Kids   \n",
       "3      25-34                   U      75-99K      Homeowner     2 Adults Kids   \n",
       "4      45-54                   B      50-74K      Homeowner     Single Female   \n",
       "..       ...                 ...         ...            ...               ...   \n",
       "796    35-44                   U      50-74K      Homeowner  2 Adults No Kids   \n",
       "797    45-54                   A      75-99K      Homeowner           Unknown   \n",
       "798    45-54                   U      35-49K        Unknown       Single Male   \n",
       "799    25-34                   U      50-74K      Homeowner  2 Adults No Kids   \n",
       "800    25-34                   U   Under 15K        Unknown     2 Adults Kids   \n",
       "\n",
       "    household_size_desc kid_category_desc  household_key  married  \\\n",
       "0                     2      None/Unknown              1  Married   \n",
       "1                     2      None/Unknown              7  Married   \n",
       "2                     3                 1              8  Unknown   \n",
       "3                     4                 2             13  Unknown   \n",
       "4                     1      None/Unknown             16   Single   \n",
       "..                  ...               ...            ...      ...   \n",
       "796                   2      None/Unknown           2494  Unknown   \n",
       "797                   3                 1           2496  Married   \n",
       "798                   1      None/Unknown           2497  Unknown   \n",
       "799                   2      None/Unknown           2498  Unknown   \n",
       "800                   3                 1           2499  Unknown   \n",
       "\n",
       "     household_size_desc_numeric  ratio_meat  \n",
       "0                              2    0.047452  \n",
       "1                              2    0.067676  \n",
       "2                              3    0.052016  \n",
       "3                              4    0.019328  \n",
       "4                              1    0.136456  \n",
       "..                           ...         ...  \n",
       "796                            2    0.056673  \n",
       "797                            3    0.075222  \n",
       "798                            1    0.118711  \n",
       "799                            2    0.044430  \n",
       "800                            3    0.046033  \n",
       "\n",
       "[801 rows x 11 columns]"
      ]
     },
     "execution_count": 157,
     "metadata": {},
     "output_type": "execute_result"
    }
   ],
   "source": [
    "# Combine our newly computed ratio_meat and the old household data\n",
    "df_demo_w_meat = df_demo.merge(aa[[\"household_key\", \"ratio_meat\"]], on=\"household_key\")\n",
    "\n",
    "# Normalize our ratio_meat by the size of the households\n",
    "df_demo_w_meat[\"ratio_meat\"] /= df_demo_w_meat[\"household_size_desc_numeric\"]\n",
    "\n",
    "df_demo_w_meat"
   ]
  },
  {
   "cell_type": "markdown",
   "metadata": {},
   "source": [
    "Now to get a sense of the data, we'll plot it. Grouped by three different attributes: marital status, age and income"
   ]
  },
  {
   "cell_type": "code",
   "execution_count": 158,
   "metadata": {},
   "outputs": [
    {
     "data": {
      "image/png": "[encoded data removed]",
      "text/plain": [
       "<Figure size 1152x1584 with 3 Axes>"
      ]
     },
     "metadata": {
      "needs_background": "light"
     },
     "output_type": "display_data"
    }
   ],
   "source": [
    "salary_index = [\n",
    "    \"Under 15K\",\n",
    "    \"15-24K\",\n",
    "    \"25-34K\",\n",
    "    \"35-49K\",\n",
    "    \"50-74K\",\n",
    "    \"75-99K\",\n",
    "    \"100-124K\",\n",
    "    \"125-149K\",\n",
    "    \"150-174K\",\n",
    "    \"175-199K\",\n",
    "    \"200-249K\",\n",
    "    \"250K+\",\n",
    "]\n",
    "\n",
    "fig, axes = plt.subplots(nrows=3)\n",
    "interesting_groups = [\"age_desc\", \"married\", \"income_desc\"]\n",
    "\n",
    "for i, group_name in enumerate(interesting_groups):\n",
    "    data = df_demo_w_meat.groupby(group_name).ratio_meat.mean()\n",
    "\n",
    "    means = []\n",
    "    for _ in range(500):\n",
    "        bs_resample_per_group = df_demo_w_meat.groupby(group_name).apply(\n",
    "            lambda x: x.sample(frac=1.0, replace=True)\n",
    "        )\n",
    "\n",
    "        bs_mean = bs_resample_per_group.ratio_meat.groupby(group_name).mean()\n",
    "\n",
    "        means.append(bs_mean)\n",
    "    means = pd.DataFrame(means)\n",
    "\n",
    "    qupper = means.quantile(0.975)\n",
    "    qlower = means.quantile(0.025)\n",
    "\n",
    "    if group_name == \"income_desc\":\n",
    "        data = data.reindex(salary_index)\n",
    "\n",
    "    data.plot(kind=\"bar\", ax=axes[i], yerr=[data - qlower, qupper - data], capsize=10)\n",
    "\n",
    "    axes[i].set_ylabel(\"Percentage of meat of overall shoppings\")\n",
    "\n",
    "fig.suptitle(\"Percentages of meat purchases (95% CI)\")\n",
    "fig.set_figheight(22)\n",
    "plt.show()"
   ]
  },
  {
   "cell_type": "markdown",
   "metadata": {},
   "source": [
    "We see two interesting things:\n",
    "\n",
    "- Married people seem to buy less food (might be that they buy fewer, but larger packs)\n",
    "- As the income rises, the amount of meat bought decreases. It then sharply increases for incomes of over 250k"
   ]
  },
  {
   "cell_type": "markdown",
   "metadata": {},
   "source": [
    "# Milestone 3"
   ]
  },
  {
   "cell_type": "markdown",
   "metadata": {},
   "source": [
    "### What's coming next\n",
    "\n",
    "* *Campaign and coupons analysis:* continue our analysis on how retailers promote different categories of food and how people respond to it. In practice, this means for instance combining what has already been done with the transactions to find out how much people save money thanks to these campaigns and if it differs from one category of food to another.\n",
    "\n",
    "* *Household behaviour:* continue our analysis on the demographics in order to find different behaviour (due to income or type of family) towards meat consumption and vegetarianism in general.\n",
    "\n",
    "* *Advertisement analysis:* continue analysis (look at both distribution of ads within one category of food and across all categories, which ones get more ads in the best displays) and combine results with campaign and coupons analysis.\n",
    "\n",
    "Ultimately, our goal would be to combine more and more our results in order to get a precise understanding of both retailers and consumers towards meat consumption and vegetarianism in general."
   ]
  },
  {
   "cell_type": "code",
   "execution_count": null,
   "metadata": {},
   "outputs": [],
   "source": []
  }
 ],
 "metadata": {
  "kernelspec": {
   "display_name": "Python [conda env:ada] *",
   "language": "python",
   "name": "conda-env-ada-py"
  },
  "language_info": {
   "codemirror_mode": {
    "name": "ipython",
    "version": 3
   },
   "file_extension": ".py",
   "mimetype": "text/x-python",
   "name": "python",
   "nbconvert_exporter": "python",
   "pygments_lexer": "ipython3",
   "version": "3.7.3"
  }
 },
 "nbformat": 4,
 "nbformat_minor": 4
}
